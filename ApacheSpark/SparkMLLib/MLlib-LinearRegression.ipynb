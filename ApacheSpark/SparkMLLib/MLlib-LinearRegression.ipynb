{
 "cells": [
  {
   "cell_type": "markdown",
   "metadata": {},
   "source": [
    "### Descrição dos Dados\n",
    "O dataset trabalhado contêm informações de voôs de avião do ano de 2008 nos EUA, onde o Departamento de Transportes do Estados Unidos faz avaliação mensal dos serviços aéreos. Não se tem informação se são todos os voôs do ano,ou se são apenas uma amostra da população.\n",
    "\n",
    "### Problemática a ser resolvida\n",
    "Prever o tempo de atraso dos voôs (coluna: ArrDelay), com base nas informações do dataset.\n",
    "\n",
    "Download do dataset: https://data.world/data-society/airlines-delay\n",
    "\n",
    "Formato: CSV\n",
    "\n",
    "Dicionário de dados:\n",
    "Link: http://stat-computing.org/dataexpo/2009/the-data.html\n",
    "\n",
    "\n",
    " Id | Name \t\t\t\t| Description\n",
    "----|-------------------|--------------------------------------------------------------------------------\n",
    " 1  |Year              \t|1987-2008\n",
    " 2  |Month \t\t\t\t|1-12\n",
    " 3  |DayofMonth \t    |1-31\n",
    " 4  |DayOfWeek \t\t\t|1 (Monday) - 7 (Sunday)\n",
    " 5  |DepTime \t\t    |actual departure time (local, hhmm)\n",
    " 6  |CRSDepTime \t\t|scheduled departure time (local, hhmm)\n",
    " 7  |ArrTime \t\t    |actual arrival time (local, hhmm)\n",
    " 8  |CRSArrTime \t\t|scheduled arrival time (local, hhmm)\n",
    " 9  |UniqueCarrier \t\t|unique carrier code\n",
    " 10 |FlightNum \t\t\t|flight number\n",
    " 11 |TailNum \t\t    |plane tail number\n",
    " 12 |ActualElapsedTime \t|in minutes\n",
    " 13 |CRSElapsedTime \t|in minutes\n",
    " 14 |AirTime \t\t    |in minutes\n",
    " 15 |**ArrDelay**\t    |**arrival delay, in minutes**\n",
    " 16 |DepDelay \t\t    |departure delay, in minutes\n",
    " 17 |Origin \t\t\t|origin IATA airport code\n",
    " 18 |Dest \t\t\t    |destination IATA airport code\n",
    " 19 |Distance \t\t    |in miles\n",
    " 20 |TaxiIn \t\t\t|taxi in time, in minutes\n",
    " 21 |TaxiOut \t\t    |taxi out time in minutes\n",
    " 22 |Cancelled \t\t\t|was the flight cancelled?\n",
    " 23 |CancellationCode  \t|reason for cancellation (A = carrier, B = weather, C = NAS, D = security)\n",
    " 24 |Diverted \t\t    |1 = yes, 0 = no\n",
    " 25 |CarrierDelay \t    |in minutes\n",
    " 26 |WeatherDelay \t    |in minutes\n",
    " 27 |NASDelay \t\t    |in minutes\n",
    " 28 |SecurityDelay \t\t|in minutes\n",
    " 29 |LateAircraftDelay \t|in minutes\n",
    " \n",
    " ### Variável ALVO: ArrDelay\n",
    " ### Variáveis PREDITORAS: demais que tiverem boa correlação."
   ]
  },
  {
   "cell_type": "code",
   "execution_count": 1,
   "metadata": {
    "collapsed": true
   },
   "outputs": [],
   "source": [
    "# Spark Session - quando usar DatFrame, é necessário instanciar a sessão do Spark\n",
    "spSession = SparkSession.builder.master(\"local\").appName(\"MLLib-LinaerRegression\").config(\"spark.some.config.option\", \"session\").getOrCreate()"
   ]
  },
  {
   "cell_type": "code",
   "execution_count": 2,
   "metadata": {
    "collapsed": true
   },
   "outputs": [],
   "source": [
    "# Importando as bibliotecas que serão usadas durante o processo\n",
    "from pyspark.sql import Row\n",
    "from pyspark.ml.linalg import Vectors\n",
    "from pyspark.ml.regression import LinearRegression\n",
    "from pyspark.ml.evaluation import RegressionEvaluator"
   ]
  },
  {
   "cell_type": "code",
   "execution_count": 4,
   "metadata": {},
   "outputs": [
    {
     "name": "stdout",
     "output_type": "stream",
     "text": [
      "Items: ['airlinedelaycauses.zip', 'DelayedFlights.csv']\n"
     ]
    }
   ],
   "source": [
    "# Descompactando o dataset, que está alocado no arquivo .ZIP\n",
    "\n",
    "import os.path\n",
    "import zipfile\n",
    "\n",
    "PROJECT_PATH = os.getcwd()\n",
    "DATA_PROJECT = PROJECT_PATH + '\\\\data\\\\'\n",
    "EXT = '.zip'\n",
    "\n",
    "items = os.listdir(DATA_PROJECT)\n",
    "\n",
    "newlist = []\n",
    "for names in items:\n",
    "    if names.endswith(\".zip\"):\n",
    "        newlist.append(names)\n",
    "\n",
    "for file_to_extract in newlist:\n",
    "    with zipfile.ZipFile(DATA_PROJECT + file_to_extract, \"r\") as zip_ref:\n",
    "        zip_ref.extractall(DATA_PROJECT)\n",
    "        \n",
    "newitems = os.listdir(DATA_PROJECT)\n",
    "#print('Diretório:', DATA_PROJECT, '\\n')\n",
    "print('Items:', newitems)"
   ]
  },
  {
   "cell_type": "code",
   "execution_count": 5,
   "metadata": {
    "collapsed": true
   },
   "outputs": [],
   "source": [
    "# Carregando os dados e gerando um RDD\n",
    "FILE = DATA_PROJECT + \"DelayedFlights.csv\"\n",
    "DelayedFlightsRDD = sc.textFile(FILE)\n",
    "\n",
    "# RDD em cache\n",
    "DelayedFlightsRDD.cache()"
   ]
  },
  {
   "cell_type": "code",
   "execution_count": 6,
   "metadata": {},
   "outputs": [
    {
     "name": "stdout",
     "output_type": "stream",
     "text": [
      "Quantidade de registros no Dataset: 1936759 \n",
      "\n",
      "Exibindo as 5 primeiras linhas: \n",
      "\n"
     ]
    },
    {
     "data": {
      "text/plain": [
       "[',Year,Month,DayofMonth,DayOfWeek,DepTime,CRSDepTime,ArrTime,CRSArrTime,UniqueCarrier,FlightNum,TailNum,ActualElapsedTime,CRSElapsedTime,AirTime,ArrDelay,DepDelay,Origin,Dest,Distance,TaxiIn,TaxiOut,Cancelled,CancellationCode,Diverted,CarrierDelay,WeatherDelay,NASDelay,SecurityDelay,LateAircraftDelay',\n",
       " '0,2008,1,3,4,2003.0,1955,2211.0,2225,WN,335,N712SW,128.0,150.0,116.0,-14.0,8.0,IAD,TPA,810,4.0,8.0,0,N,0,,,,,',\n",
       " '1,2008,1,3,4,754.0,735,1002.0,1000,WN,3231,N772SW,128.0,145.0,113.0,2.0,19.0,IAD,TPA,810,5.0,10.0,0,N,0,,,,,',\n",
       " '2,2008,1,3,4,628.0,620,804.0,750,WN,448,N428WN,96.0,90.0,76.0,14.0,8.0,IND,BWI,515,3.0,17.0,0,N,0,,,,,',\n",
       " '4,2008,1,3,4,1829.0,1755,1959.0,1925,WN,3920,N464WN,90.0,90.0,77.0,34.0,34.0,IND,BWI,515,3.0,10.0,0,N,0,2.0,0.0,0.0,0.0,32.0']"
      ]
     },
     "execution_count": 6,
     "metadata": {},
     "output_type": "execute_result"
    }
   ],
   "source": [
    "# Quantidade de registros do RDD\n",
    "print('Quantidade de registros no Dataset:', DelayedFlightsRDD.count(), '\\n')\n",
    "\n",
    "print('Exibindo as 5 primeiras linhas:', '\\n')\n",
    "DelayedFlightsRDD.take(5)"
   ]
  },
  {
   "cell_type": "code",
   "execution_count": 7,
   "metadata": {
    "scrolled": true
   },
   "outputs": [
    {
     "name": "stdout",
     "output_type": "stream",
     "text": [
      "Quantidade de registros no Dataset: 1936758 \n",
      "\n",
      "Exibindo as 5 primeiras linhas: \n",
      "\n"
     ]
    },
    {
     "data": {
      "text/plain": [
       "['0,2008,1,3,4,2003.0,1955,2211.0,2225,WN,335,N712SW,128.0,150.0,116.0,-14.0,8.0,IAD,TPA,810,4.0,8.0,0,N,0,,,,,',\n",
       " '1,2008,1,3,4,754.0,735,1002.0,1000,WN,3231,N772SW,128.0,145.0,113.0,2.0,19.0,IAD,TPA,810,5.0,10.0,0,N,0,,,,,',\n",
       " '2,2008,1,3,4,628.0,620,804.0,750,WN,448,N428WN,96.0,90.0,76.0,14.0,8.0,IND,BWI,515,3.0,17.0,0,N,0,,,,,',\n",
       " '4,2008,1,3,4,1829.0,1755,1959.0,1925,WN,3920,N464WN,90.0,90.0,77.0,34.0,34.0,IND,BWI,515,3.0,10.0,0,N,0,2.0,0.0,0.0,0.0,32.0',\n",
       " '5,2008,1,3,4,1940.0,1915,2121.0,2110,WN,378,N726SW,101.0,115.0,87.0,11.0,25.0,IND,JAX,688,4.0,10.0,0,N,0,,,,,']"
      ]
     },
     "execution_count": 7,
     "metadata": {},
     "output_type": "execute_result"
    }
   ],
   "source": [
    "# Lembrando que é possível carregar esse set de dados diretamente como um DATAFRAME, pois se trata de um arquivo .CSV\n",
    "# Método: com o SparkSQL.\n",
    "'''\n",
    "Cria-se o contexto com o SparkSQL\n",
    "\n",
    "spark.read.csv(\"some_input_file.csv\", header=True, mode=\"DROPMALFORMED\", schema=schema)\n",
    "'''\n",
    "\n",
    "# Removendo a primeira linha do arquivo (cabeçalho)\n",
    "DelayedFlightsRDD_without_HEADER = DelayedFlightsRDD.filter(lambda x: \"ArrDelay\" not in x)\n",
    "\n",
    "print('Quantidade de registros no Dataset:', DelayedFlightsRDD_without_HEADER.count(), '\\n')\n",
    "\n",
    "print('Exibindo as 5 primeiras linhas:', '\\n')\n",
    "DelayedFlightsRDD_without_HEADER.take(5)"
   ]
  },
  {
   "cell_type": "markdown",
   "metadata": {},
   "source": [
    "### Limpeza dos Dados"
   ]
  },
  {
   "cell_type": "code",
   "execution_count": 8,
   "metadata": {
    "collapsed": true
   },
   "outputs": [],
   "source": [
    "# Função para quebrar os dados a cada vírgula encontrada\n",
    "def limpaDados(inputStr) :\n",
    "    attList = inputStr.split(\",\") \n",
    "    return (attList)"
   ]
  },
  {
   "cell_type": "code",
   "execution_count": 9,
   "metadata": {},
   "outputs": [
    {
     "name": "stdout",
     "output_type": "stream",
     "text": [
      "Exibindo as 2 primeiras linhas do Datset após a limpeza: \n",
      "\n"
     ]
    },
    {
     "data": {
      "text/plain": [
       "[['0',\n",
       "  '2008',\n",
       "  '1',\n",
       "  '3',\n",
       "  '4',\n",
       "  '2003.0',\n",
       "  '1955',\n",
       "  '2211.0',\n",
       "  '2225',\n",
       "  'WN',\n",
       "  '335',\n",
       "  'N712SW',\n",
       "  '128.0',\n",
       "  '150.0',\n",
       "  '116.0',\n",
       "  '-14.0',\n",
       "  '8.0',\n",
       "  'IAD',\n",
       "  'TPA',\n",
       "  '810',\n",
       "  '4.0',\n",
       "  '8.0',\n",
       "  '0',\n",
       "  'N',\n",
       "  '0',\n",
       "  '',\n",
       "  '',\n",
       "  '',\n",
       "  '',\n",
       "  ''],\n",
       " ['1',\n",
       "  '2008',\n",
       "  '1',\n",
       "  '3',\n",
       "  '4',\n",
       "  '754.0',\n",
       "  '735',\n",
       "  '1002.0',\n",
       "  '1000',\n",
       "  'WN',\n",
       "  '3231',\n",
       "  'N772SW',\n",
       "  '128.0',\n",
       "  '145.0',\n",
       "  '113.0',\n",
       "  '2.0',\n",
       "  '19.0',\n",
       "  'IAD',\n",
       "  'TPA',\n",
       "  '810',\n",
       "  '5.0',\n",
       "  '10.0',\n",
       "  '0',\n",
       "  'N',\n",
       "  '0',\n",
       "  '',\n",
       "  '',\n",
       "  '',\n",
       "  '',\n",
       "  '']]"
      ]
     },
     "execution_count": 9,
     "metadata": {},
     "output_type": "execute_result"
    }
   ],
   "source": [
    "# Executa a função no RDD\n",
    "DelayedFlightsRDD_01 = DelayedFlightsRDD_without_HEADER.map(limpaDados)\n",
    "DelayedFlightsRDD_01.cache()\n",
    "\n",
    "print('Exibindo as 2 primeiras linhas do Datset após a limpeza:', '\\n')\n",
    "DelayedFlightsRDD_01.take(2)"
   ]
  },
  {
   "cell_type": "code",
   "execution_count": 96,
   "metadata": {
    "collapsed": true
   },
   "outputs": [],
   "source": [
    "# Avaliando o dataset, percebe-se que há valores MISSING. Logo, será aplicada uma fórmula para popular esses \"buracos\"\n",
    "default_value_mussing = sc.broadcast(0.0)\n",
    "\n",
    "def ajustaValMissing(inputStr):\n",
    "    global default\n",
    "    attList = inputStr\n",
    "\n",
    "    # Substitui o caracter \"\" (vazio) por um valor padrão pré-definido\n",
    "    clean_list = []\n",
    "    #for vetor in inputStr:\n",
    "        #for posicao in vetor:\n",
    "    for posicao in inputStr:\n",
    "        if posicao == \"\":\n",
    "            posicao = default_value_mussing.value\n",
    "        clean_list.append(posicao)\n",
    "\n",
    "    # Transformando a linha de elementos de entrada em um DataFrame (linha por linha)\n",
    "    linhas = Row (\n",
    "                 Index = float(clean_list[0])\n",
    "                ,Year = float(clean_list[1])\n",
    "                ,Month = float(clean_list[2])\n",
    "                ,DayofMonth = float(clean_list[3])\n",
    "                ,DayOfWeek = float(clean_list[4])\n",
    "                ,DepTime = float(clean_list[5])\n",
    "                ,CRSDepTime = float(clean_list[6])\n",
    "                ,ArrTime = float(clean_list[7])\n",
    "                ,CRSArrTime = float(clean_list[8])\n",
    "                ,UniqueCarrier = str(clean_list[9])\n",
    "                ,FlightNum = float(clean_list[10])\n",
    "                ,TailNum = str(clean_list[11])\n",
    "                ,ActualElapsedTime = float(clean_list[12])\n",
    "                ,CRSElapsedTime = float(clean_list[13])\n",
    "                ,AirTime = float(clean_list[14])\n",
    "                ,ArrDelay = float(clean_list[15])\n",
    "                ,DepDelay = float(clean_list[16])\n",
    "                ,Origin = str(clean_list[17])\n",
    "                ,Dest = str(clean_list[18])\n",
    "                ,Distance = float(clean_list[19])\n",
    "                ,TaxiIn = float(clean_list[20])\n",
    "                ,TaxiOut = float(clean_list[21])\n",
    "                ,Cancelled = float(clean_list[22])\n",
    "                ,CancellationCode = str(clean_list[23])\n",
    "                ,Diverted = float(clean_list[24])\n",
    "                ,CarrierDelay = (clean_list[25])\n",
    "                ,WeatherDelay = float(clean_list[26])\n",
    "                ,NASDelay = float(clean_list[27])\n",
    "                ,SecurityDelay = float(clean_list[28])\n",
    "                ,LateAircraftDelay = float(clean_list[29])\n",
    "                )\n",
    "    return(linhas)"
   ]
  },
  {
   "cell_type": "code",
   "execution_count": 97,
   "metadata": {},
   "outputs": [
    {
     "data": {
      "text/plain": [
       "[Row(ActualElapsedTime=128.0, AirTime=116.0, ArrDelay=-14.0, ArrTime=2211.0, CRSArrTime=2225.0, CRSDepTime=1955.0, CRSElapsedTime=150.0, CancellationCode='N', Cancelled=0.0, CarrierDelay=0.0, DayOfWeek=4.0, DayofMonth=3.0, DepDelay=8.0, DepTime=2003.0, Dest='TPA', Distance=810.0, Diverted=0.0, FlightNum=335.0, Index=0.0, LateAircraftDelay=0.0, Month=1.0, NASDelay=0.0, Origin='IAD', SecurityDelay=0.0, TailNum='N712SW', TaxiIn=4.0, TaxiOut=8.0, UniqueCarrier='WN', WeatherDelay=0.0, Year=2008.0),\n",
       " Row(ActualElapsedTime=128.0, AirTime=113.0, ArrDelay=2.0, ArrTime=1002.0, CRSArrTime=1000.0, CRSDepTime=735.0, CRSElapsedTime=145.0, CancellationCode='N', Cancelled=0.0, CarrierDelay=0.0, DayOfWeek=4.0, DayofMonth=3.0, DepDelay=19.0, DepTime=754.0, Dest='TPA', Distance=810.0, Diverted=0.0, FlightNum=3231.0, Index=1.0, LateAircraftDelay=0.0, Month=1.0, NASDelay=0.0, Origin='IAD', SecurityDelay=0.0, TailNum='N772SW', TaxiIn=5.0, TaxiOut=10.0, UniqueCarrier='WN', WeatherDelay=0.0, Year=2008.0)]"
      ]
     },
     "execution_count": 97,
     "metadata": {},
     "output_type": "execute_result"
    }
   ],
   "source": [
    "# Executa a função no RDD\n",
    "DelayedFlightsRDD_02 = DelayedFlightsRDD_01.map(ajustaValMissing)\n",
    "DelayedFlightsRDD_02.cache()\n",
    "\n",
    "#print('Exibindo as 2 primeiras linhas do Datset após a limpeza:', '\\n')\n",
    "DelayedFlightsRDD_02.take(2)"
   ]
  },
  {
   "cell_type": "markdown",
   "metadata": {},
   "source": [
    "### Análise Exploratória"
   ]
  },
  {
   "cell_type": "code",
   "execution_count": 98,
   "metadata": {
    "collapsed": true
   },
   "outputs": [],
   "source": [
    "# Cria um Dataframe\n",
    "DelayedFlightsRDD_DF = spSession.createDataFrame(DelayedFlightsRDD_02)"
   ]
  },
  {
   "cell_type": "code",
   "execution_count": 100,
   "metadata": {},
   "outputs": [
    {
     "name": "stdout",
     "output_type": "stream",
     "text": [
      "+-------+------------------+------------------+-----------------+------------------+-----------------+\n",
      "|summary| ActualElapsedTime|           ArrTime|          AirTime|          ArrDelay|         Distance|\n",
      "+-------+------------------+------------------+-----------------+------------------+-----------------+\n",
      "|  count|           1936758|           1936758|          1936758|           1936758|          1936758|\n",
      "|   mean|132.72859128502373|1604.2296683426634|107.8082605054426|42.017141016069125|765.6861590348407|\n",
      "| stddev|  72.4347129450919| 555.7685313737034|68.86184470008828| 56.72934640442311|574.4796530720831|\n",
      "|    min|               0.0|               0.0|              0.0|            -109.0|             11.0|\n",
      "|    max|            1114.0|            2400.0|           1091.0|            2461.0|           4962.0|\n",
      "+-------+------------------+------------------+-----------------+------------------+-----------------+\n",
      "\n"
     ]
    }
   ],
   "source": [
    "# Estatísticas descritivas\n",
    "DelayedFlightsRDD_DF.select(\"ActualElapsedTime\", \"ArrTime\", \"AirTime\", \"ArrDelay\", \"Distance\").describe().show()"
   ]
  },
  {
   "cell_type": "code",
   "execution_count": 104,
   "metadata": {
    "scrolled": false
   },
   "outputs": [
    {
     "name": "stdout",
     "output_type": "stream",
     "text": [
      "Correlação da variável ArrDelay (ALVO) com a PREDITORA ActualElapsedTime 0.07345240925097012\n",
      "Correlação da variável ArrDelay (ALVO) com a PREDITORA AirTime 0.004855533289515905\n",
      "Correlação da variável ArrDelay (ALVO) com a PREDITORA ArrDelay 1.0\n",
      "Correlação da variável ArrDelay (ALVO) com a PREDITORA ArrTime -0.04205414123000174\n",
      "Correlação da variável ArrDelay (ALVO) com a PREDITORA CRSArrTime 0.04288754483576667\n",
      "Correlação da variável ArrDelay (ALVO) com a PREDITORA CRSDepTime 0.044720833795896996\n",
      "Correlação da variável ArrDelay (ALVO) com a PREDITORA CRSElapsedTime -0.016546310393610483\n",
      "Correlação da variável ArrDelay (ALVO) com a PREDITORA Cancelled -0.013392263602579044\n",
      "Correlação da variável ArrDelay (ALVO) com a PREDITORA CarrierDelay nan\n",
      "Correlação da variável ArrDelay (ALVO) com a PREDITORA DayOfWeek 0.006166381886928189\n",
      "Correlação da variável ArrDelay (ALVO) com a PREDITORA DayofMonth 0.003996287904564747\n",
      "Correlação da variável ArrDelay (ALVO) com a PREDITORA DepDelay 0.9460020086104197\n",
      "Correlação da variável ArrDelay (ALVO) com a PREDITORA DepTime 0.1267636995034043\n",
      "Correlação da variável ArrDelay (ALVO) com a PREDITORA Distance -0.030672493460224454\n",
      "Correlação da variável ArrDelay (ALVO) com a PREDITORA Diverted -0.04695860260098802\n",
      "Correlação da variável ArrDelay (ALVO) com a PREDITORA FlightNum 0.06106434184477401\n",
      "Correlação da variável ArrDelay (ALVO) com a PREDITORA Index 0.0018667974827595313\n",
      "Correlação da variável ArrDelay (ALVO) com a PREDITORA LateAircraftDelay 0.5571975757044938\n",
      "Correlação da variável ArrDelay (ALVO) com a PREDITORA Month -0.0015847617270890481\n",
      "Correlação da variável ArrDelay (ALVO) com a PREDITORA NASDelay 0.45121849518028656\n",
      "Correlação da variável ArrDelay (ALVO) com a PREDITORA SecurityDelay 0.011269161554540887\n",
      "Correlação da variável ArrDelay (ALVO) com a PREDITORA TaxiIn 0.15868504883817844\n",
      "Correlação da variável ArrDelay (ALVO) com a PREDITORA TaxiOut 0.2843538487241618\n",
      "Correlação da variável ArrDelay (ALVO) com a PREDITORA WeatherDelay 0.2778430129367087\n",
      "Correlação da variável ArrDelay (ALVO) com a PREDITORA Year nan\n"
     ]
    }
   ],
   "source": [
    "# Encontrando a correlação entre a variável ALVO com as variáveis PREDITORAS\n",
    "# ALVO: ArrDelay\n",
    "# PREDITORAS: demais variáveis\n",
    "for i in DelayedFlightsRDD_DF.columns:\n",
    "    if not(isinstance(DelayedFlightsRDD_DF.select(i).take(1)[0][0], str)): #verifica se a coluna é NUMÉRICA para correlacionar com o alvo!\n",
    "        print( \"Correlação da variável ArrDelay (ALVO) com a PREDITORA\", i, DelayedFlightsRDD_DF.stat.corr('ArrDelay', i))"
   ]
  },
  {
   "cell_type": "markdown",
   "metadata": {},
   "source": [
    "### Pré Processamento\n",
    "Para efetuar essa etapa, deve-se avaliar as correlações anteriores para identificar quais variáveis preditoras irão fazer parte da construção do modelo.\n",
    "\n",
    "- Converter variáveis ALVO + PREDITORAS selecionadas para um objeto **LabeledPoint (target, Vector[features])**"
   ]
  },
  {
   "cell_type": "code",
   "execution_count": 105,
   "metadata": {
    "collapsed": true
   },
   "outputs": [],
   "source": [
    "# O parâmetro de entrada \"row\" é uma linha que a RDD inical (DelayedFlightsRDD_02) irá passar.\n",
    "def transformaVetorDenso(row):\n",
    "    obj = (row[\"ArrDelay\"], Vectors.dense([row[\"DepDelay\"], row[\"LateAircraftDelay\"], row[\"NASDelay\"]]))\n",
    "    return(obj)"
   ]
  },
  {
   "cell_type": "code",
   "execution_count": 111,
   "metadata": {},
   "outputs": [
    {
     "name": "stdout",
     "output_type": "stream",
     "text": [
      "Tipo do objeto criado (Vectors.dense): <class 'pyspark.rdd.PipelinedRDD'> \n",
      "\n",
      "+-----+---------------+\n",
      "|label|       features|\n",
      "+-----+---------------+\n",
      "|-14.0|  [8.0,0.0,0.0]|\n",
      "|  2.0| [19.0,0.0,0.0]|\n",
      "| 14.0|  [8.0,0.0,0.0]|\n",
      "| 34.0|[34.0,32.0,0.0]|\n",
      "| 11.0| [25.0,0.0,0.0]|\n",
      "| 57.0|[67.0,47.0,0.0]|\n",
      "|  1.0|  [6.0,0.0,0.0]|\n",
      "| 80.0|[94.0,72.0,0.0]|\n",
      "| 11.0|  [9.0,0.0,0.0]|\n",
      "| 15.0|[27.0,12.0,0.0]|\n",
      "|-15.0|  [9.0,0.0,0.0]|\n",
      "| 16.0|[28.0,16.0,0.0]|\n",
      "| 37.0|[51.0,25.0,0.0]|\n",
      "| 19.0|[32.0,12.0,0.0]|\n",
      "|  6.0| [20.0,0.0,0.0]|\n",
      "+-----+---------------+\n",
      "only showing top 15 rows\n",
      "\n"
     ]
    }
   ],
   "source": [
    "# Utiliza o RDD, aplica a função\n",
    "DelayedFlightsRDD_03 = DelayedFlightsRDD_02.map(transformaVetorDenso)\n",
    "print(\"Tipo do objeto criado (Vectors.dense):\", type(DelayedFlightsRDD_03), '\\n')\n",
    "\n",
    "# Converte a RDD para Dataframe e aplica a função select()\n",
    "# spSession para trabalhar com DataFrame, onde o \"input data\" é o próprio vetor denso criado anteriormente\n",
    "DelayedFlightsRDD_DF = spSession.createDataFrame(DelayedFlightsRDD_03,[\"label\", \"features\"])\n",
    "DelayedFlightsRDD_DF.select(\"label\",\"features\").show(15)"
   ]
  },
  {
   "cell_type": "code",
   "execution_count": 112,
   "metadata": {},
   "outputs": [
    {
     "data": {
      "text/plain": [
       "[(-14.0, DenseVector([8.0, 0.0, 0.0])),\n",
       " (2.0, DenseVector([19.0, 0.0, 0.0])),\n",
       " (14.0, DenseVector([8.0, 0.0, 0.0])),\n",
       " (34.0, DenseVector([34.0, 32.0, 0.0])),\n",
       " (11.0, DenseVector([25.0, 0.0, 0.0])),\n",
       " (57.0, DenseVector([67.0, 47.0, 0.0])),\n",
       " (1.0, DenseVector([6.0, 0.0, 0.0])),\n",
       " (80.0, DenseVector([94.0, 72.0, 0.0])),\n",
       " (11.0, DenseVector([9.0, 0.0, 0.0])),\n",
       " (15.0, DenseVector([27.0, 12.0, 0.0]))]"
      ]
     },
     "execution_count": 112,
     "metadata": {},
     "output_type": "execute_result"
    }
   ],
   "source": [
    "DelayedFlightsRDD_03.take(10)"
   ]
  },
  {
   "cell_type": "markdown",
   "metadata": {},
   "source": [
    "### Machine Learning"
   ]
  },
  {
   "cell_type": "code",
   "execution_count": 113,
   "metadata": {
    "collapsed": true
   },
   "outputs": [],
   "source": [
    "# Dados de Treino (70 %) e de Teste (30 %)\n",
    "(dados_treino, dados_teste) = DelayedFlightsRDD_DF.randomSplit([0.7, 0.3])"
   ]
  },
  {
   "cell_type": "code",
   "execution_count": 115,
   "metadata": {},
   "outputs": [
    {
     "name": "stdout",
     "output_type": "stream",
     "text": [
      "Quantidade de dados para TREINO:  1355546\n",
      "Quantidade de dados para TESTE:  581212\n"
     ]
    }
   ],
   "source": [
    "print('Quantidade de dados para TREINO: ', dados_treino.count())\n",
    "print('Quantidade de dados para TESTE: ', dados_teste.count())"
   ]
  },
  {
   "cell_type": "code",
   "execution_count": 122,
   "metadata": {},
   "outputs": [
    {
     "name": "stdout",
     "output_type": "stream",
     "text": [
      "Amostra de dados de TREINO:\n",
      "[Row(label=-67.0, features=DenseVector([15.0, 0.0, 0.0])), Row(label=-66.0, features=DenseVector([8.0, 0.0, 0.0])), Row(label=-61.0, features=DenseVector([13.0, 0.0, 0.0])), Row(label=-55.0, features=DenseVector([9.0, 0.0, 0.0])), Row(label=-55.0, features=DenseVector([11.0, 0.0, 0.0]))]\n",
      "\n",
      "Amostra de dados de TESTE:\n",
      "[Row(label=-66.0, features=DenseVector([7.0, 0.0, 0.0])), Row(label=-55.0, features=DenseVector([10.0, 0.0, 0.0])), Row(label=-54.0, features=DenseVector([7.0, 0.0, 0.0])), Row(label=-49.0, features=DenseVector([6.0, 0.0, 0.0])), Row(label=-48.0, features=DenseVector([6.0, 0.0, 0.0]))]\n"
     ]
    }
   ],
   "source": [
    "print('Amostra de dados de TREINO:')\n",
    "print(dados_treino.take(5))\n",
    "print('')\n",
    "print('Amostra de dados de TESTE:')\n",
    "print(dados_teste.take(5))"
   ]
  },
  {
   "cell_type": "code",
   "execution_count": 121,
   "metadata": {},
   "outputs": [
    {
     "name": "stdout",
     "output_type": "stream",
     "text": [
      "Modelo criado: LinearRegression_4a5ab4c20a683aa7490a \n",
      "\n",
      "Colunas do modelo: ['label', 'features', 'prediction']\n"
     ]
    }
   ],
   "source": [
    "# Construindo o modelo com os dados de treino\n",
    "linearReg = LinearRegression(maxIter = 20)\n",
    "\n",
    "# Treinando o modelo\n",
    "modelo = linearReg.fit(dados_treino)\n",
    "\n",
    "print('Modelo criado:', modelo, '\\n')\n",
    "print('Colunas do modelo:', predictions.columns)"
   ]
  },
  {
   "cell_type": "code",
   "execution_count": 117,
   "metadata": {},
   "outputs": [
    {
     "name": "stdout",
     "output_type": "stream",
     "text": [
      "Coeficientes: [0.8943593515899491,0.12254708234451549,0.38800425824897244]\n",
      "Intercept: -2.34826887815541\n"
     ]
    }
   ],
   "source": [
    "# Imprimindo as métricas\n",
    "print(\"Coeficientes: \" + str(modelo.coefficients))\n",
    "print(\"Intercept: \" + str(modelo.intercept))"
   ]
  },
  {
   "cell_type": "code",
   "execution_count": 124,
   "metadata": {},
   "outputs": [
    {
     "name": "stdout",
     "output_type": "stream",
     "text": [
      "+------------------+--------------+\n",
      "|        prediction|      features|\n",
      "+------------------+--------------+\n",
      "|3.9122465829742334| [7.0,0.0,0.0]|\n",
      "|6.5953246377440795|[10.0,0.0,0.0]|\n",
      "|3.9122465829742334| [7.0,0.0,0.0]|\n",
      "|3.0178872313842846| [6.0,0.0,0.0]|\n",
      "|3.0178872313842846| [6.0,0.0,0.0]|\n",
      "| 5.700965286154132| [9.0,0.0,0.0]|\n",
      "|6.5953246377440795|[10.0,0.0,0.0]|\n",
      "|3.0178872313842846| [6.0,0.0,0.0]|\n",
      "|3.0178872313842846| [6.0,0.0,0.0]|\n",
      "|6.5953246377440795|[10.0,0.0,0.0]|\n",
      "|6.5953246377440795|[10.0,0.0,0.0]|\n",
      "|3.9122465829742334| [7.0,0.0,0.0]|\n",
      "|3.0178872313842846| [6.0,0.0,0.0]|\n",
      "|3.0178872313842846| [6.0,0.0,0.0]|\n",
      "| 7.489683989334029|[11.0,0.0,0.0]|\n",
      "| 15.53891815364357|[20.0,0.0,0.0]|\n",
      "| 5.700965286154132| [9.0,0.0,0.0]|\n",
      "| 9.278402692513927|[13.0,0.0,0.0]|\n",
      "|3.0178872313842846| [6.0,0.0,0.0]|\n",
      "|10.172762044103877|[14.0,0.0,0.0]|\n",
      "+------------------+--------------+\n",
      "only showing top 20 rows\n",
      "\n"
     ]
    }
   ],
   "source": [
    "# Previsões com dados de teste\n",
    "predictions = modelo.transform(dados_teste)\n",
    "predictions.select(\"prediction\", \"features\").show()"
   ]
  },
  {
   "cell_type": "code",
   "execution_count": 119,
   "metadata": {},
   "outputs": [
    {
     "data": {
      "text/plain": [
       "0.9263899807304109"
      ]
     },
     "execution_count": 119,
     "metadata": {},
     "output_type": "execute_result"
    }
   ],
   "source": [
    "# Coeficiente de determinação R2\n",
    "avaliador = RegressionEvaluator(predictionCol = \"prediction\", labelCol = \"label\", metricName = \"r2\")\n",
    "avaliador.evaluate(predictions)"
   ]
  },
  {
   "cell_type": "markdown",
   "metadata": {},
   "source": [
    "### CONCLUSÃO\n",
    "As variáveis do dataset não tem uma correlação desejada para que o modelo de regressão torne-se consistente. Logo, não é possível explicar o motivo da variação dos valores da variável DEPENTE (ArrDelay) em relação aos valores das variáveis INDEPENDETES selecionadas para o modelo (DepDelay, LateAircraftDelay e NASDelay).\n",
    "\n",
    "Sugere-se obtenção de novas variáveis, exploração das mesmas e re-criação do modelo de regressão linear. Após, nova avaliação."
   ]
  }
 ],
 "metadata": {
  "kernelspec": {
   "display_name": "Python 3",
   "language": "python",
   "name": "python3"
  },
  "language_info": {
   "codemirror_mode": {
    "name": "ipython",
    "version": 3
   },
   "file_extension": ".py",
   "mimetype": "text/x-python",
   "name": "python",
   "nbconvert_exporter": "python",
   "pygments_lexer": "ipython3",
   "version": "3.6.3"
  }
 },
 "nbformat": 4,
 "nbformat_minor": 2
}
