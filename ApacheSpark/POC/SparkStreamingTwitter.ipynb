{
 "cells": [
  {
   "cell_type": "markdown",
   "metadata": {},
   "source": [
    "### Problema de Negócio\n",
    "\n",
    "Classificar os sentimentos do cliente (POSITIVOS ou NEGATIVO) em relação aos tweets registrados por eles na rede social Twitter, que referenciam a empresa alvo.\n",
    "\n",
    "Tentar comprrender o que os clientes, parceiros e fornecedores estão pensando sobre a empresa (produto, serviço).\n",
    "\n",
    "Total de caracteres por tweet: 140.\n",
    "\n",
    "Em outras palavras, será treinado um modelo com base nos dados JÁ CLASSIFICADOS e fornecidos pela Universidade de Michigan, para que, à partir deste modelo, o mesmo classifique as demais instâncias (tweets) coletadas.\n",
    "\n",
    "Fonte: https://www.kaggle.com/c/si650winter11\n",
    "\n",
    "DataSet Treino: https://www.kaggle.com/c/2558/download/training.txt\n",
    "\n",
    "DataSet Teste: https://www.kaggle.com/c/2558/download/testdata.txt\n",
    "\n",
    "Quantidade de tweets classificados:  1.578.627\n",
    "\n",
    "Classe: Sentimento\n",
    "\n",
    "Valores possíveis da Classe:\n",
    "\n",
    "1 -> positivo\n",
    "\n",
    "0 -> negativo"
   ]
  },
  {
   "cell_type": "code",
   "execution_count": 5,
   "metadata": {
    "collapsed": true
   },
   "outputs": [],
   "source": [
    "# Pacotes necessários:\n",
    "#requests_oauthlib -> biblioteca para autenticação\n",
    "#twython -> biblioteca que conecta ao Twitter e captura os tweet's\n",
    "#nltk -> processamento de linguagem natural"
   ]
  },
  {
   "cell_type": "code",
   "execution_count": 2,
   "metadata": {
    "collapsed": true
   },
   "outputs": [],
   "source": [
    "# Módulos do Spark\n",
    "from pyspark.streaming import StreamingContext\n",
    "from pyspark import SparkContext\n",
    "\n",
    "# OAuth1Session = módulo da biblioteca requests_oauthlib que, ao passat determinadas credenciais, tenta efetuar a autenticação com o método request (HTTP).\n",
    "from requests_oauthlib import OAuth1Session\n",
    "\n",
    "# add = módulo da biblioteca operator que faz uma operação intrínseca de soma entre elementos passados na função.\n",
    "from operator import add\n",
    "import requests_oauthlib\n",
    "\n",
    "# Módulo para manipulação de tempo (horas, minutos, segundos, milésimos).\n",
    "from time import gmtime, strftime\n",
    "\n",
    "# requests = biblioteca de funções para chamadas do método REQUEST em aplicações HTTP.\n",
    "import requests\n",
    "\n",
    "# time = biblioteca de funções para manipulação de tempo (horas, minutos, segundos, milésimos).\n",
    "import time\n",
    "\n",
    "# string = biblioteca de funções para manipulação de strings.\n",
    "import string\n",
    "\n",
    "# ast = biblioteca de funções usada para operações gramaticais.\n",
    "import ast\n",
    "\n",
    "# json = biblioteca de funções usada para manipulação de arquivos no formato JSON.\n",
    "import json\n",
    "\n",
    "# Módulos do NLTK (Natural Language Tool Kit)\n",
    "import nltk\n",
    "from nltk.classify import NaiveBayesClassifier\n",
    "from nltk.sentiment import SentimentAnalyzer\n",
    "from nltk.corpus import subjectivity\n",
    "from nltk.corpus import stopwords\n",
    "from nltk.sentiment.util import *"
   ]
  },
  {
   "cell_type": "markdown",
   "metadata": {},
   "source": [
    "### 1. Definindo o tempo de atualização do Streaming Context..."
   ]
  },
  {
   "cell_type": "code",
   "execution_count": 3,
   "metadata": {},
   "outputs": [],
   "source": [
    "INTERVAL = 5\n",
    "SContext = StreamingContext(sc, INTERVAL)"
   ]
  },
  {
   "cell_type": "code",
   "execution_count": 14,
   "metadata": {},
   "outputs": [
    {
     "data": {
      "text/plain": [
       "['ItemID,Sentiment,SentimentSource,SentimentText',\n",
       " '1,0,Sentiment140,                     is so sad for my APL friend.............',\n",
       " '2,0,Sentiment140,                   I missed the New Moon trailer...',\n",
       " '3,1,Sentiment140,              omg its already 7:30 :O',\n",
       " \"4,0,Sentiment140,          .. Omgaga. Im sooo  im gunna CRy. I've been at this dentist since 11.. I was suposed 2 just get a crown put on (30mins)...\",\n",
       " '5,0,Sentiment140,         i think mi bf is cheating on me!!!       T_T',\n",
       " '6,0,Sentiment140,         or i just worry too much?        ',\n",
       " '7,1,Sentiment140,       Juuuuuuuuuuuuuuuuussssst Chillin!!',\n",
       " '8,0,Sentiment140,       Sunny Again        Work Tomorrow  :-|       TV Tonight',\n",
       " '9,1,Sentiment140,      handed in my uniform today . i miss you already']"
      ]
     },
     "execution_count": 14,
     "metadata": {},
     "output_type": "execute_result"
    }
   ],
   "source": [
    "file = sc.textFile('/home/daniellj/Projetos/Github/SentimentAnalysisTwitter/datasets/data_sentiment_analyses.csv')\n",
    "file.take(10)"
   ]
  },
  {
   "cell_type": "markdown",
   "metadata": {
    "collapsed": true
   },
   "source": [
    "### 2. Removendo o cabeçalho..."
   ]
  },
  {
   "cell_type": "code",
   "execution_count": 19,
   "metadata": {},
   "outputs": [
    {
     "data": {
      "text/plain": [
       "['1,0,Sentiment140,                     is so sad for my APL friend.............',\n",
       " '2,0,Sentiment140,                   I missed the New Moon trailer...',\n",
       " '3,1,Sentiment140,              omg its already 7:30 :O',\n",
       " \"4,0,Sentiment140,          .. Omgaga. Im sooo  im gunna CRy. I've been at this dentist since 11.. I was suposed 2 just get a crown put on (30mins)...\",\n",
       " '5,0,Sentiment140,         i think mi bf is cheating on me!!!       T_T',\n",
       " '6,0,Sentiment140,         or i just worry too much?        ',\n",
       " '7,1,Sentiment140,       Juuuuuuuuuuuuuuuuussssst Chillin!!',\n",
       " '8,0,Sentiment140,       Sunny Again        Work Tomorrow  :-|       TV Tonight',\n",
       " '9,1,Sentiment140,      handed in my uniform today . i miss you already',\n",
       " '10,1,Sentiment140,      hmmmm.... i wonder how she my number @-)']"
      ]
     },
     "execution_count": 19,
     "metadata": {},
     "output_type": "execute_result"
    }
   ],
   "source": [
    "header = file.take(1)[0]\n",
    "files = file.filter(lambda x : (x != header))\n",
    "files.take(10)"
   ]
  },
  {
   "cell_type": "code",
   "execution_count": null,
   "metadata": {
    "collapsed": true
   },
   "outputs": [],
   "source": []
  },
  {
   "cell_type": "code",
   "execution_count": null,
   "metadata": {
    "collapsed": true
   },
   "outputs": [],
   "source": []
  },
  {
   "cell_type": "code",
   "execution_count": null,
   "metadata": {
    "collapsed": true
   },
   "outputs": [],
   "source": []
  },
  {
   "cell_type": "code",
   "execution_count": null,
   "metadata": {
    "collapsed": true
   },
   "outputs": [],
   "source": []
  },
  {
   "cell_type": "code",
   "execution_count": null,
   "metadata": {
    "collapsed": true
   },
   "outputs": [],
   "source": []
  },
  {
   "cell_type": "code",
   "execution_count": null,
   "metadata": {
    "collapsed": true
   },
   "outputs": [],
   "source": []
  },
  {
   "cell_type": "code",
   "execution_count": null,
   "metadata": {
    "collapsed": true
   },
   "outputs": [],
   "source": []
  },
  {
   "cell_type": "code",
   "execution_count": null,
   "metadata": {
    "collapsed": true
   },
   "outputs": [],
   "source": []
  },
  {
   "cell_type": "code",
   "execution_count": null,
   "metadata": {
    "collapsed": true
   },
   "outputs": [],
   "source": []
  }
 ],
 "metadata": {
  "kernelspec": {
   "display_name": "Python 3",
   "language": "python",
   "name": "python3"
  },
  "language_info": {
   "codemirror_mode": {
    "name": "ipython",
    "version": 3
   },
   "file_extension": ".py",
   "mimetype": "text/x-python",
   "name": "python",
   "nbconvert_exporter": "python",
   "pygments_lexer": "ipython3",
   "version": "3.6.3"
  }
 },
 "nbformat": 4,
 "nbformat_minor": 2
}
