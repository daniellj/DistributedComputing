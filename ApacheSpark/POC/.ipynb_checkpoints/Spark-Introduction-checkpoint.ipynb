{
 "cells": [
  {
   "cell_type": "markdown",
   "metadata": {},
   "source": [
    "## Apache Spark\n",
    "Definição: sistema para análise de dados com processamento distribuído, com alta escalabilidade, se apoiando principalmente do uso compartilhado da memória RAM dos nodos de um cluster como fonte de processamento (nesse modo, 100X + rápido que o Hadoop MapReduce). Lembrando que Apache Spark também permite processamento em disco (nesse modo, 10X + rápido que o Hadoop MapReduce), no caso de não haver memória RAM suficiente nos nodos do cluster para processar a quantidade necessária de dados.\n",
    "\n",
    "Acessando o portal de JOBs: http://localhost:4040"
   ]
  },
  {
   "cell_type": "markdown",
   "metadata": {},
   "source": [
    "### Verificando Spark Context"
   ]
  },
  {
   "cell_type": "code",
   "execution_count": 1,
   "metadata": {},
   "outputs": [
    {
     "name": "stdout",
     "output_type": "stream",
     "text": [
      "Verificando o contexto em que se encontra a conexão: \n",
      "\n",
      "<SparkContext master=local[*] appName=PySparkShell>\n",
      "\n",
      " Versão do SPARK em execução: 2.2.0\n"
     ]
    }
   ],
   "source": [
    "print('Verificando o contexto em que se encontra a conexão:', '\\n')\n",
    "print(sc) #sc = spark context\n",
    "print('\\n', 'Versão do SPARK em execução:', sc.version)"
   ]
  },
  {
   "cell_type": "markdown",
   "metadata": {},
   "source": [
    "### Criando uma RDD a partir de dados de uma lista Python"
   ]
  },
  {
   "cell_type": "code",
   "execution_count": 2,
   "metadata": {},
   "outputs": [
    {
     "name": "stdout",
     "output_type": "stream",
     "text": [
      "Conversão de uma lista Python para um objeto Spark \n",
      "\n",
      "Objeto criado com a função sc.parallelize(): ParallelCollectionRDD[0] at parallelize at PythonRDD.scala:480 \n",
      "\n",
      "Tipo do objeto criado <test>: <class 'pyspark.rdd.RDD'>\n"
     ]
    }
   ],
   "source": [
    "list1 = [25, 35, 1, 17, 23, 44, 977, 75, 65]\n",
    "\n",
    "print('Conversão de uma lista Python para um objeto Spark', '\\n')\n",
    "test = sc.parallelize(list1)\n",
    "\n",
    "print('Objeto criado com a função sc.parallelize():', test, '\\n')\n",
    "print('Tipo do objeto criado <test>:', type(test))"
   ]
  },
  {
   "cell_type": "code",
   "execution_count": 9,
   "metadata": {},
   "outputs": [
    {
     "name": "stdout",
     "output_type": "stream",
     "text": [
      "Chamando o HELP da função para maiores informações...\n"
     ]
    }
   ],
   "source": [
    "print('Chamando o HELP da função para maiores informações...')\n",
    "?sc.parallelize"
   ]
  },
  {
   "cell_type": "markdown",
   "metadata": {
    "collapsed": true
   },
   "source": [
    "### Funções mais comuns..."
   ]
  },
  {
   "cell_type": "code",
   "execution_count": 3,
   "metadata": {},
   "outputs": [
    {
     "name": "stdout",
     "output_type": "stream",
     "text": [
      "Quantidade de elementos do objeto RDD criado <test> 9\n"
     ]
    }
   ],
   "source": [
    "print('Quantidade de elementos do objeto RDD criado <test>', test.count())"
   ]
  },
  {
   "cell_type": "code",
   "execution_count": 4,
   "metadata": {},
   "outputs": [
    {
     "name": "stdout",
     "output_type": "stream",
     "text": [
      "Conteúdo da coleção de elementos do objeto RDD criado <test>: [25, 35, 1, 17, 23, 44, 977, 75, 65]\n"
     ]
    }
   ],
   "source": [
    "print('Conteúdo da coleção de elementos do objeto RDD criado <test>:', test.collect())"
   ]
  },
  {
   "cell_type": "markdown",
   "metadata": {},
   "source": [
    "### Criando uma RDD a partir de dados de um arquivo (CSV)"
   ]
  },
  {
   "cell_type": "code",
   "execution_count": 2,
   "metadata": {},
   "outputs": [
    {
     "name": "stdout",
     "output_type": "stream",
     "text": [
      "Tipo do objeto criado <sentRDD>: <class 'pyspark.rdd.RDD'>\n"
     ]
    }
   ],
   "source": [
    "# Criando uma RDD a partir de um arquivo CSV\n",
    "\n",
    "file = 'C:\\\\Users\\\\XXXX\\\\Projetos_Daniel\\\\DistributedComputing\\\\ApacheSpark\\\\datasets\\\\sentiments.csv'\n",
    "\n",
    "sentRDD = sc.textFile(file)\n",
    "\n",
    "print('Tipo do objeto criado <sentRDD>:', type(sentRDD))"
   ]
  },
  {
   "cell_type": "markdown",
   "metadata": {},
   "source": [
    "### Contando os elementos de uma RDD"
   ]
  },
  {
   "cell_type": "code",
   "execution_count": 7,
   "metadata": {},
   "outputs": [
    {
     "name": "stdout",
     "output_type": "stream",
     "text": [
      "Quantidade de elementos do objeto RDD criado <test> 100\n"
     ]
    }
   ],
   "source": [
    "print('Quantidade de elementos do objeto RDD criado <test>', sentRDD.count())"
   ]
  },
  {
   "cell_type": "markdown",
   "metadata": {},
   "source": [
    "### 5 primeiros registros da RDD"
   ]
  },
  {
   "cell_type": "code",
   "execution_count": 8,
   "metadata": {},
   "outputs": [
    {
     "name": "stdout",
     "output_type": "stream",
     "text": [
      "Imprimindo as 5 primeiras linahs do RDD criado:\n"
     ]
    },
    {
     "data": {
      "text/plain": [
       "['positivo,Esse livro é incrível.',\n",
       " 'positivo,Um dos melhores livros que eu já li.',\n",
       " 'positivo,um dos melhores livros que eu já li',\n",
       " 'positivo,Acho que ele tem um conteúdo que vai além do que está em sua descrição.',\n",
       " 'positivo,O Sol é para todos é profundo e emocionante']"
      ]
     },
     "execution_count": 8,
     "metadata": {},
     "output_type": "execute_result"
    }
   ],
   "source": [
    "print('Imprimindo as 5 primeiras linahs do RDD criado:')\n",
    "sentRDD.take(5)"
   ]
  },
  {
   "cell_type": "markdown",
   "metadata": {},
   "source": [
    "### Transformando todos os registros de uma RDD para strings com letras maiúsculas"
   ]
  },
  {
   "cell_type": "code",
   "execution_count": 3,
   "metadata": {},
   "outputs": [
    {
     "name": "stdout",
     "output_type": "stream",
     "text": [
      "Transformação de dados no RDD: colocando com letras maiúsculas todos os registros:\n",
      "Imprmindo a transformação desejada...\n"
     ]
    },
    {
     "data": {
      "text/plain": [
       "['POSITIVO,ESSE LIVRO É INCRÍVEL.',\n",
       " 'POSITIVO,UM DOS MELHORES LIVROS QUE EU JÁ LI.',\n",
       " 'POSITIVO,UM DOS MELHORES LIVROS QUE EU JÁ LI',\n",
       " 'POSITIVO,ACHO QUE ELE TEM UM CONTEÚDO QUE VAI ALÉM DO QUE ESTÁ EM SUA DESCRIÇÃO.',\n",
       " 'POSITIVO,O SOL É PARA TODOS É PROFUNDO E EMOCIONANTE']"
      ]
     },
     "execution_count": 3,
     "metadata": {},
     "output_type": "execute_result"
    }
   ],
   "source": [
    "print('Transformação de dados no RDD: colocando com letras maiúsculas todos os registros:')\n",
    "senttransfRDD = sentRDD.map(lambda x : x.upper())\n",
    "\n",
    "print('Imprmindo a transformação desejada...')\n",
    "senttransfRDD.take(5)"
   ]
  },
  {
   "cell_type": "code",
   "execution_count": 65,
   "metadata": {},
   "outputs": [
    {
     "name": "stdout",
     "output_type": "stream",
     "text": [
      "Tipo do objeto criado na RDD transformada <senttransfRDD>: <class 'pyspark.rdd.PipelinedRDD'>\n"
     ]
    }
   ],
   "source": [
    "print('Tipo do objeto criado na RDD transformada <senttransfRDD>:', type(senttransfRDD))"
   ]
  },
  {
   "cell_type": "code",
   "execution_count": 79,
   "metadata": {},
   "outputs": [
    {
     "name": "stdout",
     "output_type": "stream",
     "text": [
      "Atribuindo para um novo objeto RDD todos os elementos da RDD original <sentRDD>:\n",
      "\n",
      "Tipo do objeto criado <arquivo>: <class 'pyspark.rdd.RDD'>\n",
      "Retornando apenas o valor do elemento da primeira linha do RDD <arquivo>:\n"
     ]
    },
    {
     "data": {
      "text/plain": [
       "'positivo,Esse livro é incrível.'"
      ]
     },
     "execution_count": 79,
     "metadata": {},
     "output_type": "execute_result"
    }
   ],
   "source": [
    "print('Atribuindo para um novo objeto RDD todos os elementos da RDD original <sentRDD>:')\n",
    "arquivo = sentRDD\n",
    "print()\n",
    "print('Tipo do objeto criado <arquivo>:', type(arquivo))\n",
    "\n",
    "print('Retornando apenas o valor do elemento da primeira linha do RDD <arquivo>:')\n",
    "arquivo.first()"
   ]
  },
  {
   "cell_type": "markdown",
   "metadata": {},
   "source": [
    "### Filtrando dados em uma RDD"
   ]
  },
  {
   "cell_type": "code",
   "execution_count": 88,
   "metadata": {},
   "outputs": [
    {
     "name": "stdout",
     "output_type": "stream",
     "text": [
      "Quantidade de registros onde a palavra \"Sol\" é encontrada: 3 \n",
      "\n",
      "Tipo do objeto criado <filtrolinhas> <<< observe que o tipo de dados criado é um PIPELINE, pois há mais um de operação sendo efetuada na prática  >>>: <class 'pyspark.rdd.PipelinedRDD'> \n",
      "\n",
      "Imprimindo os registros onde a palavra \"Sol\" é encontrada:\n"
     ]
    },
    {
     "data": {
      "text/plain": [
       "['positivo,O Sol é para todos é profundo e emocionante',\n",
       " 'negativo,Sol para todos é um Livro ruim',\n",
       " 'negativo,O Sol para todos não é para todos.']"
      ]
     },
     "execution_count": 88,
     "metadata": {},
     "output_type": "execute_result"
    }
   ],
   "source": [
    "filtrolinhas = arquivo.filter(lambda x : \"Sol\" in x)\n",
    "\n",
    "QtdRegistrosFiltro = filtrolinhas.count()\n",
    "\n",
    "print('Quantidade de registros onde a palavra \"Sol\" é encontrada:', QtdRegistrosFiltro, '\\n')\n",
    "print('Tipo do objeto criado <filtrolinhas> <<< observe que o tipo de dados criado é um PIPELINE, pois há mais um de operação sendo efetuada na prática  >>>:', type(filtrolinhas), '\\n')\n",
    "print('Imprimindo os registros onde a palavra \"Sol\" é encontrada:')\n",
    "filtrolinhas.take(QtdRegistrosFiltro)"
   ]
  },
  {
   "cell_type": "markdown",
   "metadata": {},
   "source": [
    "##### A função abaixo primeiramente mapeia (MAP) os dados da RDD \"arquivo\", e para cada elemento, ela conta quantos caracteres tem até a quebra de linha. Feito isso, ela compara a quantidade de caracteres contidos em cada uma das linhas, por pares de linha (REDUCE). A linha que tiver a maior quantidade de elementos contados, será impresso em em tela a quantidade de elementos contados neste elemento ganhador."
   ]
  },
  {
   "cell_type": "code",
   "execution_count": 91,
   "metadata": {},
   "outputs": [
    {
     "data": {
      "text/plain": [
       "27"
      ]
     },
     "execution_count": 91,
     "metadata": {},
     "output_type": "execute_result"
    }
   ],
   "source": [
    "arquivo.map(lambda line : len(line.split())).reduce(lambda a, b: a if (a>b) else b)"
   ]
  },
  {
   "cell_type": "markdown",
   "metadata": {},
   "source": [
    "#### A mesma linha acima poderia ser escrita em forma de função, conforme abaixo:"
   ]
  },
  {
   "cell_type": "code",
   "execution_count": 94,
   "metadata": {},
   "outputs": [
    {
     "data": {
      "text/plain": [
       "27"
      ]
     },
     "execution_count": 94,
     "metadata": {},
     "output_type": "execute_result"
    }
   ],
   "source": [
    "def maior_elemento(a, b):\n",
    "    if a > b:\n",
    "        return a\n",
    "    else:\n",
    "        return b\n",
    "\n",
    "arquivo.map(lambda line: len(line.split())).reduce(maior_elemento) #a função \"maior_elemento\" é para pegar o maior valor"
   ]
  },
  {
   "cell_type": "markdown",
   "metadata": {},
   "source": [
    "#### Operação de Map Reduce"
   ]
  },
  {
   "cell_type": "code",
   "execution_count": 103,
   "metadata": {},
   "outputs": [
    {
     "name": "stdout",
     "output_type": "stream",
     "text": [
      "Transformação: flatMap + map\n",
      "Ação: reduceByKey \n",
      "\n",
      "Contabilizando a quantidade de vezes que uma palavra é encontrada na RDD <arquivo>:\n"
     ]
    },
    {
     "data": {
      "text/plain": [
       "[('livro', 5),\n",
       " ('que', 13),\n",
       " ('li.', 4),\n",
       " ('positivo,um', 3),\n",
       " ('li', 1),\n",
       " ('positivo,Acho', 1),\n",
       " ('tem', 1),\n",
       " ('um', 3),\n",
       " ('vai', 1),\n",
       " ('do', 2),\n",
       " ('em', 1),\n",
       " ('descrição.', 1),\n",
       " ('positivo,O', 2),\n",
       " ('para', 5),\n",
       " ('todos', 4),\n",
       " ('positivo,Me', 1),\n",
       " ('este', 1),\n",
       " ('livro,', 1),\n",
       " ('antigo', 1),\n",
       " ('uma', 4),\n",
       " ('história', 1),\n",
       " ('antiga', 1),\n",
       " ('positivo,The', 6),\n",
       " ('Da', 38),\n",
       " ('Vinci', 45),\n",
       " ('Code', 24),\n",
       " ('is', 17),\n",
       " ('good', 3),\n",
       " ('movie...', 1),\n",
       " ('thought', 2),\n",
       " ('was', 4),\n",
       " ('pretty', 1),\n",
       " ('book.', 4),\n",
       " ('realmente', 1),\n",
       " ('deveria', 1),\n",
       " ('todas', 1),\n",
       " ('as', 1),\n",
       " ('pessoas.', 1),\n",
       " ('an', 6),\n",
       " ('*', 2),\n",
       " ('book', 2),\n",
       " ('turn', 1),\n",
       " ('positivo,Harper', 1),\n",
       " ('aborda', 1),\n",
       " ('muito', 3),\n",
       " ('polêmicos,', 1),\n",
       " ('como', 1),\n",
       " ('Bullying,', 1),\n",
       " ('olhos', 1),\n",
       " ('inocentes', 1),\n",
       " ('positivo,i', 4),\n",
       " ('love', 6),\n",
       " ('da', 13),\n",
       " ('code....', 1),\n",
       " ('loved', 5),\n",
       " ('code..', 2),\n",
       " ('VINCI', 4),\n",
       " ('BEAUTIFUL', 1),\n",
       " ('positivo,THE', 1),\n",
       " ('slash', 1),\n",
       " ('race.', 1),\n",
       " ('positivo,Hey', 1),\n",
       " ('The', 13),\n",
       " ('Code!..', 1),\n",
       " ('positivo,also', 1),\n",
       " ('sobre', 2),\n",
       " ('relação', 1),\n",
       " ('educação', 1),\n",
       " ('pais', 1),\n",
       " ('filhos,', 1),\n",
       " ('fala', 1),\n",
       " ('like', 3),\n",
       " ('Angels', 1),\n",
       " ('Demons', 1),\n",
       " ('more', 2),\n",
       " ('really', 5),\n",
       " ('positivo,Da', 4),\n",
       " ('s', 1),\n",
       " ('positivo,And', 1),\n",
       " ('we', 2),\n",
       " ('awesome.', 2),\n",
       " ('awesome', 6),\n",
       " ('book!', 2),\n",
       " ('positivo,oh', 1),\n",
       " ('code.', 3),\n",
       " ('ripping', 1),\n",
       " ('music', 1),\n",
       " ('cold...', 1),\n",
       " ('[', 1),\n",
       " ('tell', 1),\n",
       " ('anyone', 1),\n",
       " ('but', 3),\n",
       " ('of', 4),\n",
       " ('positivo,Os', 1),\n",
       " ('personagens', 1),\n",
       " ('positivo,omg', 1),\n",
       " ('i', 5),\n",
       " ('falar', 1),\n",
       " ('INCRÍVEL?', 1),\n",
       " ('O', 1),\n",
       " ('sol', 1),\n",
       " ('negativo,da', 2),\n",
       " ('terrible', 1),\n",
       " ('negativo,i', 2),\n",
       " ('movie', 1),\n",
       " ('think', 2),\n",
       " ('this', 2),\n",
       " ('bolsters', 1),\n",
       " ('arguments', 1),\n",
       " ('both', 1),\n",
       " ('know', 2),\n",
       " ('inaccurate.', 1),\n",
       " ('hate', 9),\n",
       " ('negativo,The', 4),\n",
       " ('say', 1),\n",
       " ('evil', 1),\n",
       " ('sucked', 4),\n",
       " ('long', 1),\n",
       " ('slow.....', 1),\n",
       " ('negativo,not', 1),\n",
       " ('sure', 1),\n",
       " ('already', 1),\n",
       " ('threw', 1),\n",
       " ('at', 2),\n",
       " ('negativo,This', 1),\n",
       " ('why', 1),\n",
       " ('Code:', 1),\n",
       " ('pop', 1),\n",
       " ('question', 1),\n",
       " ('congrats', 1),\n",
       " ('beating', 1),\n",
       " ('Jay', 1),\n",
       " ('must', 1),\n",
       " ('Rickards', 1),\n",
       " ('when', 1),\n",
       " ('beat', 1),\n",
       " ('them', 1),\n",
       " ('in', 1),\n",
       " ('balls', 1),\n",
       " ('worst', 1),\n",
       " ('shit', 1),\n",
       " (\"I've\", 1),\n",
       " ('ever', 1),\n",
       " ('God', 1),\n",
       " ('Has', 1),\n",
       " ('told', 1),\n",
       " ('nans', 1),\n",
       " ('before', 1),\n",
       " ('said', 1),\n",
       " (\"'!!\", 1),\n",
       " ('negativo,Sol', 1),\n",
       " ('ruim', 9),\n",
       " ('negativo,Livro', 9),\n",
       " ('negativo,the', 1),\n",
       " ('sucks', 1),\n",
       " ('negativo,\"poderia', 2),\n",
       " ('ter', 2),\n",
       " ('sido', 2),\n",
       " ('melhor\"', 2),\n",
       " ('raso', 1),\n",
       " ('negativo,well', 1),\n",
       " ('SUCKS!!', 1),\n",
       " ('ass', 1),\n",
       " (\"you're\", 1),\n",
       " ('code...', 1),\n",
       " ('esqueci', 1),\n",
       " ('negativo,todos', 1),\n",
       " ('disseram', 1),\n",
       " ('mas', 1),\n",
       " ('achei', 1),\n",
       " ('negativo,abaixo', 1),\n",
       " ('das', 1),\n",
       " ('expectativas', 1),\n",
       " ('negativo,muito', 1),\n",
       " ('gostei.', 1),\n",
       " ('infantil!', 1),\n",
       " ('positivo,Esse', 1),\n",
       " ('é', 6),\n",
       " ('incrível.', 1),\n",
       " ('positivo,Um', 3),\n",
       " ('dos', 5),\n",
       " ('melhores', 5),\n",
       " ('livros', 5),\n",
       " ('eu', 5),\n",
       " ('já', 5),\n",
       " ('ele', 1),\n",
       " ('conteúdo', 2),\n",
       " ('além', 1),\n",
       " ('está', 1),\n",
       " ('sua', 1),\n",
       " ('Sol', 2),\n",
       " ('profundo', 1),\n",
       " ('e', 8),\n",
       " ('emocionante', 1),\n",
       " ('encantei', 1),\n",
       " ('por', 2),\n",
       " ('positivo,Este', 1),\n",
       " ('apesar', 1),\n",
       " ('de', 8),\n",
       " ('com', 1),\n",
       " ('trata', 1),\n",
       " ('época', 1),\n",
       " ('mais', 1),\n",
       " ('ainda,', 1),\n",
       " ('possui', 1),\n",
       " ('atual', 1),\n",
       " ('extrema', 1),\n",
       " ('importância.', 1),\n",
       " ('actually', 1),\n",
       " ('a', 8),\n",
       " ('positivo,I', 8),\n",
       " ('the', 23),\n",
       " ('ser', 1),\n",
       " ('lido', 1),\n",
       " ('amazing', 2),\n",
       " ('positivo,then', 1),\n",
       " ('I', 7),\n",
       " ('on', 2),\n",
       " ('light', 1),\n",
       " ('and', 10),\n",
       " ('radio', 1),\n",
       " ('enjoy', 1),\n",
       " ('my', 2),\n",
       " ('Code.', 12),\n",
       " ('Lee', 1),\n",
       " ('temas', 1),\n",
       " ('o', 3),\n",
       " ('racismo', 1),\n",
       " ('pelos', 1),\n",
       " ('criança', 1),\n",
       " ('7', 1),\n",
       " ('anos.', 1),\n",
       " ('vinci', 17),\n",
       " ('positivo,TO', 1),\n",
       " ('NIGHT::', 1),\n",
       " ('THE', 2),\n",
       " ('DA', 4),\n",
       " ('CODE', 3),\n",
       " ('AND', 1),\n",
       " ('A', 1),\n",
       " ('MIND...', 1),\n",
       " ('AN', 1),\n",
       " ('AWESOME', 1),\n",
       " ('BOOK....', 1),\n",
       " ('positivo,very', 1),\n",
       " ('code', 12),\n",
       " ('positivo,Ele', 1),\n",
       " ('relata', 1),\n",
       " ('respeito,', 1),\n",
       " ('individualidade', 1),\n",
       " ('mais.', 1),\n",
       " ('then', 2),\n",
       " ('movie.', 2),\n",
       " ('amazing.', 1),\n",
       " ('positivo,Book', 1),\n",
       " ('(', 1),\n",
       " ('):', 1),\n",
       " ('Code..', 2),\n",
       " ('went', 1),\n",
       " ('to', 4),\n",
       " ('see', 1),\n",
       " ('awesome!', 1),\n",
       " ('SUCH', 1),\n",
       " ('LOVE', 1),\n",
       " ('CODE...', 1),\n",
       " ('so', 1),\n",
       " ('beautiful', 1),\n",
       " ('Code...', 2),\n",
       " ('miss', 1),\n",
       " ('acoustic', 1),\n",
       " ('positivo,looks', 1),\n",
       " ('amazingly', 1),\n",
       " ('fun', 1),\n",
       " ('possibly', 1),\n",
       " ('bit', 1),\n",
       " (\"don't\", 1),\n",
       " (']', 1),\n",
       " ('course', 1),\n",
       " ('positivo,\"I', 1),\n",
       " ('\"\"', 1),\n",
       " ('Code!\"', 1),\n",
       " ('LOVED', 1),\n",
       " ('positivo,da', 1),\n",
       " ('são', 1),\n",
       " ('maravilhosos...', 1),\n",
       " ('that', 3),\n",
       " ('such', 1),\n",
       " ('desde', 1),\n",
       " ('me', 2),\n",
       " ('conquistou', 1),\n",
       " ('forma', 1),\n",
       " ('pura!', 1),\n",
       " ('boring.', 1),\n",
       " ('negativo,Da', 4),\n",
       " ('does', 1),\n",
       " ('suck.', 2),\n",
       " ('negativo,I', 10),\n",
       " ('England', 1),\n",
       " ('sucks...', 2),\n",
       " ('negativo,And', 2),\n",
       " ('better..-We', 1),\n",
       " ('all', 1),\n",
       " ('bogus', 1),\n",
       " ('you', 3),\n",
       " ('too', 2),\n",
       " ('if', 2),\n",
       " ('because', 1),\n",
       " ('it', 2),\n",
       " ('takes', 1),\n",
       " ('nothing', 1),\n",
       " ('fucking', 2),\n",
       " ('culture', 1),\n",
       " ('phenomenon', 1),\n",
       " ('get', 1),\n",
       " ('people', 1),\n",
       " ('things.', 1),\n",
       " ('did', 1),\n",
       " ('suck', 1),\n",
       " ('been', 1),\n",
       " ('time', 1),\n",
       " ('finals.', 1),\n",
       " ('sucks.', 1),\n",
       " ('hated', 3),\n",
       " ('going', 1),\n",
       " ('sucks..', 1),\n",
       " ('also', 1),\n",
       " (\"it's\", 1),\n",
       " ('piece', 1),\n",
       " ('read.', 1),\n",
       " ('negativo,Thank', 1),\n",
       " ('Someone', 1),\n",
       " ('Sense', 1),\n",
       " ('negativo,RACHEL', 1),\n",
       " ('could', 1),\n",
       " ('your', 1),\n",
       " ('libarian', 1),\n",
       " (\"hated'The\", 1),\n",
       " ('Livro', 1),\n",
       " ('btw..', 1),\n",
       " ('negativo,simples', 1),\n",
       " ('negativo,O', 1),\n",
       " ('não', 2),\n",
       " ('todos.', 1),\n",
       " ('wondering.', 1),\n",
       " ('negativo,about', 1),\n",
       " ('how', 1),\n",
       " ('much', 1),\n",
       " ('absolutely', 1),\n",
       " ('loathe', 1),\n",
       " ('ruim...', 2),\n",
       " ('negativo,já', 1),\n",
       " ('tão', 1),\n",
       " ('foi.', 1),\n",
       " ('era', 1),\n",
       " ('bom,', 1),\n",
       " ('negativo,Não', 1)]"
      ]
     },
     "execution_count": 103,
     "metadata": {},
     "output_type": "execute_result"
    }
   ],
   "source": [
    "print('Transformação: flatMap + map')\n",
    "print('Ação: reduceByKey', '\\n')\n",
    "countwords = arquivo.flatMap(lambda line: line.split()).map(lambda palavra: (palavra, 1)).reduceByKey(lambda a, b: a+b)             \n",
    "print('Contabilizando a quantidade de vezes que uma palavra é encontrada na RDD <arquivo>:')\n",
    "countwords.collect()"
   ]
  },
  {
   "cell_type": "code",
   "execution_count": null,
   "metadata": {
    "collapsed": true
   },
   "outputs": [],
   "source": []
  }
 ],
 "metadata": {
  "kernelspec": {
   "display_name": "Python 3",
   "language": "python",
   "name": "python3"
  },
  "language_info": {
   "codemirror_mode": {
    "name": "ipython",
    "version": 3
   },
   "file_extension": ".py",
   "mimetype": "text/x-python",
   "name": "python",
   "nbconvert_exporter": "python",
   "pygments_lexer": "ipython3",
   "version": "3.6.3"
  }
 },
 "nbformat": 4,
 "nbformat_minor": 2
}
