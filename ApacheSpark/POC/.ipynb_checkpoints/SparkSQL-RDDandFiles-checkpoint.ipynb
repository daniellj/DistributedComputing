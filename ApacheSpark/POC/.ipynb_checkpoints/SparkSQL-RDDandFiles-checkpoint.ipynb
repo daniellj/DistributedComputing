{
 "cells": [
  {
   "cell_type": "markdown",
   "metadata": {},
   "source": [
    "### Spark SQL\n",
    "\n",
    "Pacotes adicionais do Spark: https://spark-packages.org"
   ]
  },
  {
   "cell_type": "code",
   "execution_count": 2,
   "metadata": {},
   "outputs": [
    {
     "name": "stdout",
     "output_type": "stream",
     "text": [
      "Verificando o contexto em que se encontra a conexão: \n",
      "\n",
      "<SparkContext master=local[*] appName=PySparkShell>\n",
      "\n",
      " Versão do SPARK em execução: 2.2.0\n"
     ]
    }
   ],
   "source": [
    "from pyspark.sql import SparkSession\n",
    "from pyspark.sql import SQLContext\n",
    "from pyspark.sql import Row\n",
    "\n",
    "print('Verificando o contexto em que se encontra a conexão:', '\\n')\n",
    "print(sc) #sc = spark context\n",
    "print('\\n', 'Versão do SPARK em execução:', sc.version)"
   ]
  },
  {
   "cell_type": "markdown",
   "metadata": {},
   "source": [
    "### SparkContext -> conexão Python-Spark (pelo Jupyter é criado automáticamente com a chamado do PySpark)\n",
    "\n",
    "Em aplicações profissionais (deploy de solução em PRODUÇÃO), é necessário CONSTRUIR o CONTEXTO (explicitamente)."
   ]
  },
  {
   "cell_type": "markdown",
   "metadata": {},
   "source": [
    "### SparkSession ->>> trabalhar com DataFrames no SparkSQL, necessário CONSTRUIR uma SESSÃO (explicitamente)..."
   ]
  },
  {
   "cell_type": "code",
   "execution_count": 3,
   "metadata": {
    "collapsed": true
   },
   "outputs": [],
   "source": [
    "spSession = SparkSession.builder.master(\"local\").appName(\"POC-SparkSQL\")\\\n",
    "          .config(\"spark.some.config.option\", \"some-value\").getOrCreate()"
   ]
  },
  {
   "cell_type": "markdown",
   "metadata": {},
   "source": [
    "### SQLContext ->>> trabalhar com LINGUAGEM SQL no SparkSQL, necessário CONSTRUIR o CONTEXTO (explicitamente)..."
   ]
  },
  {
   "cell_type": "code",
   "execution_count": 5,
   "metadata": {
    "collapsed": true
   },
   "outputs": [],
   "source": [
    "sqlSession = SQLContext(sc)"
   ]
  },
  {
   "cell_type": "markdown",
   "metadata": {},
   "source": [
    "##### importando arquivo e criando a RDD..."
   ]
  },
  {
   "cell_type": "code",
   "execution_count": 16,
   "metadata": {},
   "outputs": [
    {
     "name": "stdout",
     "output_type": "stream",
     "text": [
      "Tipo do objeto criado <carRDD>: <class 'pyspark.rdd.RDD'>\n",
      "Quantidade de elementos do objeto RDD criado <carRDD> 198 \n",
      "\n",
      "Exibindo as 5 primeiras linhas do RDD criado <carRDD>... \n",
      " ['MAKE,FUELTYPE,ASPIRE,DOORS,BODY,DRIVE,CYLINDERS,HP,RPM,MPG-CITY,MPG-HWY,PRICE', 'subaru,gas,std,two,hatchback,fwd,four,69,4900,31,36,5118', 'chevrolet,gas,std,two,hatchback,fwd,three,48,5100,47,53,5151', 'mazda,gas,std,two,hatchback,fwd,four,68,5000,30,31,5195', 'toyota,gas,std,two,hatchback,fwd,four,62,4800,35,39,5348'] \n",
      "\n"
     ]
    }
   ],
   "source": [
    "file =\"/home/daniellj/Projetos/Github/DistributedComputing/ApacheSpark/datasets/cars.csv\"\n",
    "carRDD = sc.textFile(file)\n",
    "\n",
    "print('Tipo do objeto criado <carRDD>:', type(carRDD))\n",
    "print('Quantidade de elementos do objeto RDD criado <carRDD>', carRDD.count(), '\\n')\n",
    "print('Exibindo as 5 primeiras linhas do RDD criado <carRDD>...', '\\n',carRDD.take(5),'\\n')"
   ]
  },
  {
   "cell_type": "markdown",
   "metadata": {},
   "source": [
    "### RDD é um repositório de dados genéricos. É possível colocar qualquer coisa dentro de uma RDD."
   ]
  },
  {
   "cell_type": "code",
   "execution_count": 41,
   "metadata": {},
   "outputs": [
    {
     "name": "stdout",
     "output_type": "stream",
     "text": [
      "Quantidade de elementos onde não há linhas com a expressão \"PRICE\": 197 \n",
      "\n",
      "Ajustando os dados com quebras a partir das vírgulas...exibindo as primeiras linhas após o ajustes...\n"
     ]
    },
    {
     "data": {
      "text/plain": [
       "[['subaru',\n",
       "  'gas',\n",
       "  'std',\n",
       "  'two',\n",
       "  'hatchback',\n",
       "  'fwd',\n",
       "  'four',\n",
       "  '69',\n",
       "  '4900',\n",
       "  '31',\n",
       "  '36',\n",
       "  '5118'],\n",
       " ['chevrolet',\n",
       "  'gas',\n",
       "  'std',\n",
       "  'two',\n",
       "  'hatchback',\n",
       "  'fwd',\n",
       "  'three',\n",
       "  '48',\n",
       "  '5100',\n",
       "  '47',\n",
       "  '53',\n",
       "  '5151']]"
      ]
     },
     "execution_count": 41,
     "metadata": {},
     "output_type": "execute_result"
    }
   ],
   "source": [
    "rowRDD2 = carRDD.filter(lambda x : 'PRICE' not in x)\n",
    "print('Quantidade de elementos onde não há linhas com a expressão \"PRICE\":', rowRDD2.count(), '\\n')\n",
    "\n",
    "print('Ajustando os dados com quebras a partir das vírgulas...exibindo as primeiras linhas após o ajustes...')\n",
    "rowRDD3 = rowRDD2.map(lambda x: x.split(','))\n",
    "rowRDD3.take(2)"
   ]
  },
  {
   "cell_type": "code",
   "execution_count": 36,
   "metadata": {
    "collapsed": true
   },
   "outputs": [],
   "source": [
    "?Row"
   ]
  },
  {
   "cell_type": "code",
   "execution_count": null,
   "metadata": {
    "collapsed": true
   },
   "outputs": [],
   "source": [
    "Row can be used to create a row object by using named arguments,\n",
    "the fields will be sorted by names. It is not allowed to omit\n",
    "a named argument to represent the value is None or missing. This should be\n",
    "explicitly set to None in this case.\n",
    "\n",
    ">>> row = Row(name=\"Alice\", age=11)\n",
    ">>> row\n",
    "Row(age=11, name='Alice')"
   ]
  },
  {
   "cell_type": "markdown",
   "metadata": {},
   "source": [
    "### Função Row implementada à seguir: divide o RDD e transforma cada linha em um objeto INDEPENDENTE."
   ]
  },
  {
   "cell_type": "code",
   "execution_count": 42,
   "metadata": {
    "collapsed": true
   },
   "outputs": [],
   "source": [
    "rowRDD4 = rowRDD3.map(lambda x: Row(make = x[0], body = x[4], hp = x[7]))"
   ]
  },
  {
   "cell_type": "code",
   "execution_count": 45,
   "metadata": {},
   "outputs": [
    {
     "name": "stdout",
     "output_type": "stream",
     "text": [
      "Exibindo as 20 primeiras linhas independentes criadas <rowRDD4>...\n",
      "Observe que a ordenação dos parâmetros se dá por ordem alfabética.\n",
      "A ordenação dos registros segue o estado original... \n",
      "\n"
     ]
    },
    {
     "data": {
      "text/plain": [
       "[Row(body='hatchback', hp='69', make='subaru'),\n",
       " Row(body='hatchback', hp='48', make='chevrolet'),\n",
       " Row(body='hatchback', hp='68', make='mazda'),\n",
       " Row(body='hatchback', hp='62', make='toyota'),\n",
       " Row(body='hatchback', hp='68', make='mitsubishi'),\n",
       " Row(body='hatchback', hp='60', make='honda'),\n",
       " Row(body='sedan', hp='69', make='nissan'),\n",
       " Row(body='hatchback', hp='68', make='dodge'),\n",
       " Row(body='hatchback', hp='68', make='plymouth'),\n",
       " Row(body='hatchback', hp='68', make='mazda'),\n",
       " Row(body='hatchback', hp='68', make='mitsubishi'),\n",
       " Row(body='hatchback', hp='68', make='dodge'),\n",
       " Row(body='hatchback', hp='68', make='plymouth'),\n",
       " Row(body='hatchback', hp='70', make='chevrolet'),\n",
       " Row(body='hatchback', hp='62', make='toyota'),\n",
       " Row(body='hatchback', hp='68', make='dodge'),\n",
       " Row(body='hatchback', hp='58', make='honda'),\n",
       " Row(body='hatchback', hp='62', make='toyota'),\n",
       " Row(body='hatchback', hp='76', make='honda'),\n",
       " Row(body='sedan', hp='70', make='chevrolet')]"
      ]
     },
     "execution_count": 45,
     "metadata": {},
     "output_type": "execute_result"
    }
   ],
   "source": [
    "print('Exibindo as 20 primeiras linhas independentes criadas <rowRDD4>...')\n",
    "print('Observe que a ordenação dos parâmetros se dá por ordem alfabética.')\n",
    "print('A ordenação dos registros segue o estado original...', '\\n')\n",
    "rowRDD4.take(20)"
   ]
  },
  {
   "cell_type": "markdown",
   "metadata": {},
   "source": []
  }
 ],
 "metadata": {
  "kernelspec": {
   "display_name": "Python 3",
   "language": "python",
   "name": "python3"
  },
  "language_info": {
   "codemirror_mode": {
    "name": "ipython",
    "version": 3
   },
   "file_extension": ".py",
   "mimetype": "text/x-python",
   "name": "python",
   "nbconvert_exporter": "python",
   "pygments_lexer": "ipython3",
   "version": "3.6.3"
  }
 },
 "nbformat": 4,
 "nbformat_minor": 2
}
