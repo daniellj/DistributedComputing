{
 "cells": [
  {
   "cell_type": "code",
   "execution_count": 6,
   "metadata": {
    "collapsed": false
   },
   "outputs": [
    {
     "name": "stdout",
     "output_type": "stream",
     "text": [
      "Verificando o SPARK CONTEXT em que se encontra a conexão: \n",
      "\n",
      "<class 'pyspark.context.SparkContext'>\n",
      "\n",
      " Versão do SPARK em execução: <property object at 0x0000000004D49BD8>\n"
     ]
    }
   ],
   "source": [
    "# biblioteca para criar a conexão entre o Python e o Apache Spark\n",
    "from pyspark import SparkContext as PythonSparkContext\n",
    "\n",
    "# biblioteca para trabalhar com DataFrames no Apache Spark\n",
    "from pyspark.sql import SparkSession as SparkSQLSession\n",
    "\n",
    "# biblioteca para trabalhar com Linguagem SQL-ANSI no Apache Spark\n",
    "from pyspark.sql import SQLContext\n",
    "\n",
    "#### SparkContext ->>> trabalhar com DataFrames no SparkSQL, necessário CONSTRUIR o CONTEXTO (explicitamente)...\n",
    "print('Verificando o SPARK CONTEXT em que se encontra a conexão:', '\\n')\n",
    "print(PythonSparkContext) # spark context\n",
    "print('\\n', 'Versão do SPARK em execução:', PythonSparkContext.version)\n",
    "\n",
    "#### SparkSession ->>> trabalhar com DataFrames no SparkSQL, necessário CONSTRUIR uma SESSÃO (explicitamente)...\n",
    "spSession = SparkSQLSession.builder.master(\"local\").appName(\"SparkSQL-JSON_files\")\\\n",
    "          .config(\"spark.some.config.option\", \"some-value\").getOrCreate()\n",
    "    \n",
    "#### SQLContext ->>> trabalhar com LINGUAGEM SQL no SparkSQL, necessário CONSTRUIR o CONTEXTO com base na SESSÃO\n",
    "#### (explicitamente)...\n",
    "sqlSession = SQLContext(spSession)"
   ]
  },
  {
   "cell_type": "code",
   "execution_count": 10,
   "metadata": {
    "collapsed": false
   },
   "outputs": [
    {
     "name": "stdout",
     "output_type": "stream",
     "text": [
      "Tipo do objeto criado <employersRDD>: <class 'pyspark.sql.dataframe.DataFrame'>\n",
      "Quantidade de elementos do objeto RDD criado <employersRDD> 5 \n",
      "\n",
      "Exibindo as 5 primeiras linhas do RDD criado <employersRDD>...\n",
      "\n",
      " [Row(deptid='1000', idade='42', nome='Josias Rebelo', salario='7000', sexo='m'), Row(deptid='2000', idade='50', nome='Mauricio Gonheim', salario='9500', sexo='m'), Row(deptid='1000', idade='36', nome='Bruno Velasquez', salario='6700', sexo='m'), Row(deptid='1000', idade='41', nome='Ananda Tavares', salario='9300', sexo='f'), Row(deptid='2000', idade='34', nome='Carlos Maia', salario='5500', sexo='m')] \n",
      "\n"
     ]
    }
   ],
   "source": [
    "#file =\"/home/daniellj/Projetos/Github/DistributedComputing/ApacheSpark/datasets/employers.json\"\n",
    "file = \"C:\\\\Users\\\\whitecube.daniel\\\\Projetos_Daniel\\\\DistributedComputing\\\\Datasets\\\\employers.json\"\n",
    "employersRDD = spSession.read.json(file)\n",
    "\n",
    "print('Tipo do objeto criado <employersRDD>:', type(employersRDD))\n",
    "print('Quantidade de elementos do objeto RDD criado <employersRDD>', employersRDD.count(), '\\n')\n",
    "print('Exibindo as 5 primeiras linhas do RDD criado <employersRDD>...\\n\\n', employersRDD.take(5),'\\n')"
   ]
  },
  {
   "cell_type": "code",
   "execution_count": null,
   "metadata": {
    "collapsed": true
   },
   "outputs": [],
   "source": []
  },
  {
   "cell_type": "code",
   "execution_count": null,
   "metadata": {
    "collapsed": true
   },
   "outputs": [],
   "source": []
  },
  {
   "cell_type": "code",
   "execution_count": null,
   "metadata": {
    "collapsed": true
   },
   "outputs": [],
   "source": []
  },
  {
   "cell_type": "code",
   "execution_count": null,
   "metadata": {
    "collapsed": true
   },
   "outputs": [],
   "source": []
  },
  {
   "cell_type": "code",
   "execution_count": null,
   "metadata": {
    "collapsed": true
   },
   "outputs": [],
   "source": []
  }
 ],
 "metadata": {
  "kernelspec": {
   "display_name": "Python 3",
   "language": "python",
   "name": "python3"
  },
  "language_info": {
   "codemirror_mode": {
    "name": "ipython",
    "version": 3
   },
   "file_extension": ".py",
   "mimetype": "text/x-python",
   "name": "python",
   "nbconvert_exporter": "python",
   "pygments_lexer": "ipython3",
   "version": "3.6.0"
  }
 },
 "nbformat": 4,
 "nbformat_minor": 2
}
