{
 "cells": [
  {
   "cell_type": "markdown",
   "metadata": {},
   "source": [
    "## Apache Spark\n",
    "Definição: sistema para análise de dados com processamento distribuído, com alta escalabilidade, se apoiando principalmente do uso compartilhado da memória RAM dos nodos de um cluster como fonte de processamento (nesse modo, 100X + rápido que o Hadoop MapReduce). Lembrando que Apache Spark também permite processamento em disco (nesse modo, 10X + rápido que o Hadoop MapReduce), no caso de não haver memória RAM suficiente nos nodos do cluster para processar a quantidade necessária de dados.\n",
    "\n",
    "Acessando o portal de JOBs: http://localhost:4040"
   ]
  },
  {
   "cell_type": "markdown",
   "metadata": {
    "collapsed": false
   },
   "source": [
    "### Verificando Spark Context"
   ]
  },
  {
   "cell_type": "code",
   "execution_count": 17,
   "metadata": {
    "collapsed": false
   },
   "outputs": [
    {
     "name": "stdout",
     "output_type": "stream",
     "text": [
      "Verificando o contexto em que se encontra a conexão: \n",
      "\n",
      "<SparkContext master=local[*] appName=PySparkShell>\n",
      "\n",
      " Versão do SPARK em execução: 2.2.0\n"
     ]
    }
   ],
   "source": [
    "print('Verificando o contexto em que se encontra a conexão:', '\\n')\n",
    "print(sc) #sc = spark context\n",
    "print('\\n', 'Versão do SPARK em execução:', sc.version)"
   ]
  },
  {
   "cell_type": "markdown",
   "metadata": {},
   "source": [
    "### Criando uma RDD a partir de dados de uma lista Python"
   ]
  },
  {
   "cell_type": "code",
   "execution_count": 16,
   "metadata": {
    "collapsed": false
   },
   "outputs": [
    {
     "name": "stdout",
     "output_type": "stream",
     "text": [
      "Conversão de uma lista Python para um objeto Spark \n",
      "\n",
      "Objeto criado com a função sc.parallelize(): ParallelCollectionRDD[11] at parallelize at PythonRDD.scala:480 \n",
      "\n",
      "Tipo do objeto criado <test>: <class 'pyspark.rdd.RDD'>\n"
     ]
    }
   ],
   "source": [
    "list1 = [25, 35, 1, 17, 23, 44, 977, 75, 65]\n",
    "\n",
    "print('Conversão de uma lista Python para um objeto Spark', '\\n')\n",
    "test = sc.parallelize(list1)\n",
    "\n",
    "print('Objeto criado com a função sc.parallelize():', test, '\\n')\n",
    "print('Tipo do objeto criado <test>:', type(test))"
   ]
  },
  {
   "cell_type": "code",
   "execution_count": 9,
   "metadata": {
    "collapsed": false
   },
   "outputs": [
    {
     "name": "stdout",
     "output_type": "stream",
     "text": [
      "Chamando o HELP da função para maiores informações...\n"
     ]
    }
   ],
   "source": [
    "print('Chamando o HELP da função para maiores informações...')\n",
    "?sc.parallelize"
   ]
  },
  {
   "cell_type": "markdown",
   "metadata": {
    "collapsed": true
   },
   "source": [
    "### Funções mais comuns..."
   ]
  },
  {
   "cell_type": "code",
   "execution_count": 19,
   "metadata": {
    "collapsed": false
   },
   "outputs": [
    {
     "name": "stdout",
     "output_type": "stream",
     "text": [
      "Quantidade de elementos do objeto RDD criado <test> 9\n"
     ]
    }
   ],
   "source": [
    "print('Quantidade de elementos do objeto RDD criado <test>', test.count())"
   ]
  },
  {
   "cell_type": "code",
   "execution_count": 22,
   "metadata": {
    "collapsed": false
   },
   "outputs": [
    {
     "data": {
      "text/plain": [
       "[25, 35, 1, 17, 23, 44, 977, 75, 65]"
      ]
     },
     "execution_count": 22,
     "metadata": {},
     "output_type": "execute_result"
    }
   ],
   "source": [
    "print('Conteúdo da coleção de elementos do objeto RDD criado <test>', test.collect())"
   ]
  },
  {
   "cell_type": "code",
   "execution_count": null,
   "metadata": {
    "collapsed": true
   },
   "outputs": [],
   "source": []
  },
  {
   "cell_type": "code",
   "execution_count": null,
   "metadata": {
    "collapsed": true
   },
   "outputs": [],
   "source": []
  },
  {
   "cell_type": "code",
   "execution_count": null,
   "metadata": {
    "collapsed": true
   },
   "outputs": [],
   "source": []
  },
  {
   "cell_type": "code",
   "execution_count": null,
   "metadata": {
    "collapsed": true
   },
   "outputs": [],
   "source": []
  },
  {
   "cell_type": "code",
   "execution_count": null,
   "metadata": {
    "collapsed": true
   },
   "outputs": [],
   "source": []
  }
 ],
 "metadata": {
  "kernelspec": {
   "display_name": "Python 3",
   "language": "python",
   "name": "python3"
  },
  "language_info": {
   "codemirror_mode": {
    "name": "ipython",
    "version": 3
   },
   "file_extension": ".py",
   "mimetype": "text/x-python",
   "name": "python",
   "nbconvert_exporter": "python",
   "pygments_lexer": "ipython3",
   "version": "3.6.0"
  }
 },
 "nbformat": 4,
 "nbformat_minor": 2
}
