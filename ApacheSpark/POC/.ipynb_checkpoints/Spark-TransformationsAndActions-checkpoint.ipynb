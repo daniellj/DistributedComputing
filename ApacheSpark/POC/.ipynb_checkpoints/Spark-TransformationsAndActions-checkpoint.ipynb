{
 "cells": [
  {
   "cell_type": "markdown",
   "metadata": {},
   "source": [
    "## Apache Spark"
   ]
  },
  {
   "cell_type": "markdown",
   "metadata": {},
   "source": [
    "### Transformations"
   ]
  },
  {
   "cell_type": "code",
   "execution_count": 8,
   "metadata": {
    "collapsed": false
   },
   "outputs": [
    {
     "name": "stdout",
     "output_type": "stream",
     "text": [
      "Conversão de uma lista Python para um objeto Spark \n",
      "\n",
      "Objeto criado com a função sc.parallelize(): ParallelCollectionRDD[8] at parallelize at PythonRDD.scala:480 \n",
      "\n",
      "Tipo do objeto criado <test>: <class 'pyspark.rdd.RDD'> \n",
      "\n",
      "Quantidade de elementos do objeto RDD criado <test>: 19 \n",
      "\n",
      "Elementos da RDD <test>:\n"
     ]
    },
    {
     "data": {
      "text/plain": [
       "[25,\n",
       " 35,\n",
       " 1,\n",
       " 17,\n",
       " 23,\n",
       " 44,\n",
       " 977,\n",
       " 75,\n",
       " 65,\n",
       " 999,\n",
       " 10500,\n",
       " 1500,\n",
       " 456,\n",
       " 45,\n",
       " 74,\n",
       " 34,\n",
       " 95,\n",
       " 26,\n",
       " 15]"
      ]
     },
     "execution_count": 8,
     "metadata": {},
     "output_type": "execute_result"
    }
   ],
   "source": [
    "list1 = [25, 35, 1, 17, 23, 44, 977, 75, 65, 999, 10500, 1500, 456, 45, 74, 34, 95, 26, 15]\n",
    "\n",
    "print('Conversão de uma lista Python para um objeto Spark', '\\n')\n",
    "test = sc.parallelize(list1)\n",
    "\n",
    "print('Objeto criado com a função sc.parallelize():', test, '\\n')\n",
    "print('Tipo do objeto criado <test>:', type(test), '\\n')\n",
    "print('Quantidade de elementos do objeto RDD criado <test>:', test.count(), '\\n')\n",
    "print('Elementos da RDD <test>:')\n",
    "test.collect()"
   ]
  },
  {
   "cell_type": "markdown",
   "metadata": {},
   "source": [
    "##### carregando os dados de um CSV e exibindo (first line | take = isso é uma AÇÃO!) o conteúdo do RDD criado..."
   ]
  },
  {
   "cell_type": "code",
   "execution_count": 3,
   "metadata": {
    "collapsed": false
   },
   "outputs": [
    {
     "name": "stdout",
     "output_type": "stream",
     "text": [
      "Exibindo a primeira linha do RDD (HEADER)...\n"
     ]
    },
    {
     "data": {
      "text/plain": [
       "'MAKE,FUELTYPE,ASPIRE,DOORS,BODY,DRIVE,CYLINDERS,HP,RPM,MPG-CITY,MPG-HWY,PRICE'"
      ]
     },
     "execution_count": 3,
     "metadata": {},
     "output_type": "execute_result"
    }
   ],
   "source": [
    "file = ('C:\\\\Users\\\\XXXX\\\\Projetos_Daniel\\\\DistributedComputing\\\\ApacheSpark\\\\datasets\\\\cars.csv')\n",
    "carRDD = sc.textFile(file)\n",
    "print('Exibindo a primeira linha do RDD (HEADER)...')\n",
    "carRDD.first()"
   ]
  },
  {
   "cell_type": "code",
   "execution_count": 17,
   "metadata": {
    "collapsed": false
   },
   "outputs": [
    {
     "name": "stdout",
     "output_type": "stream",
     "text": [
      "Exibindo as 5 primeiras linhas do RDD...\n"
     ]
    },
    {
     "data": {
      "text/plain": [
       "['MAKE,FUELTYPE,ASPIRE,DOORS,BODY,DRIVE,CYLINDERS,HP,RPM,MPG-CITY,MPG-HWY,PRICE',\n",
       " 'subaru,gas,std,two,hatchback,fwd,four,69,4900,31,36,5118',\n",
       " 'chevrolet,gas,std,two,hatchback,fwd,three,48,5100,47,53,5151',\n",
       " 'mazda,gas,std,two,hatchback,fwd,four,68,5000,30,31,5195',\n",
       " 'toyota,gas,std,two,hatchback,fwd,four,62,4800,35,39,5348']"
      ]
     },
     "execution_count": 17,
     "metadata": {},
     "output_type": "execute_result"
    }
   ],
   "source": [
    "print('Exibindo as 5 primeiras linhas do RDD...')\n",
    "carRDD.take(5)"
   ]
  },
  {
   "cell_type": "markdown",
   "metadata": {},
   "source": [
    "##### para cada AÇÃO, é gerado um novo processo de computação dos dados. Caso não queira recomputar o processamento da AÇÃO da RDD em questão, é possível colocá-la em cache para reutilização SEM REPROCESSAMENTO posterior.\n",
    "\n",
    "Função: cache()"
   ]
  },
  {
   "cell_type": "code",
   "execution_count": null,
   "metadata": {
    "collapsed": true
   },
   "outputs": [],
   "source": [
    "carRDD.cache()"
   ]
  },
  {
   "cell_type": "code",
   "execution_count": 22,
   "metadata": {
    "collapsed": false
   },
   "outputs": [
    {
     "name": "stdout",
     "output_type": "stream",
     "text": [
      "Imprimindo linha por linha o conteúdo da RDD... \n",
      "\n",
      "MAKE,FUELTYPE,ASPIRE,DOORS,BODY,DRIVE,CYLINDERS,HP,RPM,MPG-CITY,MPG-HWY,PRICE\n",
      "subaru,gas,std,two,hatchback,fwd,four,69,4900,31,36,5118\n",
      "chevrolet,gas,std,two,hatchback,fwd,three,48,5100,47,53,5151\n",
      "mazda,gas,std,two,hatchback,fwd,four,68,5000,30,31,5195\n",
      "toyota,gas,std,two,hatchback,fwd,four,62,4800,35,39,5348\n",
      "mitsubishi,gas,std,two,hatchback,fwd,four,68,5500,37,41,5389\n",
      "honda,gas,std,two,hatchback,fwd,four,60,5500,38,42,5399\n",
      "nissan,gas,std,two,sedan,fwd,four,69,5200,31,37,5499\n",
      "dodge,gas,std,two,hatchback,fwd,four,68,5500,37,41,5572\n",
      "plymouth,gas,std,two,hatchback,fwd,four,68,5500,37,41,5572\n",
      "mazda,gas,std,two,hatchback,fwd,four,68,5000,31,38,6095\n",
      "mitsubishi,gas,std,two,hatchback,fwd,four,68,5500,31,38,6189\n",
      "dodge,gas,std,four,hatchback,fwd,four,68,5500,31,38,6229\n",
      "plymouth,gas,std,four,hatchback,fwd,four,68,5500,31,38,6229\n",
      "chevrolet,gas,std,two,hatchback,fwd,four,70,5400,38,43,6295\n",
      "toyota,gas,std,two,hatchback,fwd,four,62,4800,31,38,6338\n",
      "dodge,gas,std,two,hatchback,fwd,four,68,5500,31,38,6377\n",
      "honda,gas,std,two,hatchback,fwd,four,58,4800,49,54,6479\n",
      "toyota,gas,std,four,hatchback,fwd,four,62,4800,31,38,6488\n",
      "honda,gas,std,two,hatchback,fwd,four,76,6000,30,34,6529\n",
      "chevrolet,gas,std,four,sedan,fwd,four,70,5400,38,43,6575\n",
      "nissan,gas,std,two,sedan,fwd,four,69,5200,31,37,6649\n",
      "mitsubishi,gas,std,two,hatchback,fwd,four,68,5500,31,38,6669\n",
      "dodge,gas,std,four,sedan,fwd,four,68,5500,31,38,6692\n",
      "plymouth,gas,std,four,sedan,fwd,four,68,5500,31,38,6692\n",
      "mazda,gas,std,four,sedan,fwd,four,68,5000,31,38,6695\n",
      "isuzu,gas,std,four,sedan,rwd,four,78,4800,24,29,6785\n",
      "mazda,gas,std,two,hatchback,fwd,four,68,5000,31,38,6795\n",
      "nissan,gas,std,four,sedan,fwd,four,69,5200,31,37,6849\n",
      "honda,gas,std,two,hatchback,fwd,four,76,6000,31,38,6855\n",
      "toyota,gas,std,four,wagon,fwd,four,62,4800,31,37,6918\n",
      "toyota,gas,std,four,sedan,fwd,four,70,4800,30,37,6938\n",
      "mitsubishi,gas,std,four,sedan,fwd,four,88,5000,25,32,6989\n",
      "subaru,gas,std,two,hatchback,fwd,four,73,4400,26,31,7053\n",
      "nissan,diesel,std,two,sedan,fwd,four,55,4800,45,50,7099\n",
      "subaru,gas,std,four,sedan,fwd,four,82,4800,32,37,7126\n",
      "honda,gas,std,two,hatchback,fwd,four,76,6000,30,34,7129\n",
      "toyota,gas,std,four,hatchback,fwd,four,70,4800,30,37,7198\n",
      "honda,gas,std,four,sedan,fwd,four,76,6000,30,34,7295\n",
      "honda,gas,std,four,wagon,fwd,four,76,6000,30,34,7295\n",
      "nissan,gas,std,two,sedan,fwd,four,69,5200,31,37,7299\n",
      "nissan,gas,std,four,wagon,fwd,four,69,5200,31,37,7349\n",
      "mazda,gas,std,four,sedan,fwd,four,68,5000,31,38,7395\n",
      "subaru,gas,std,four,wagon,fwd,four,82,4800,28,32,7463\n",
      "nissan,gas,std,four,sedan,fwd,four,69,5200,31,37,7499\n",
      "subaru,gas,std,two,hatchback,4wd,four,73,4400,26,31,7603\n",
      "dodge,gas,std,four,sedan,fwd,four,68,5500,31,38,7609\n",
      "plymouth,gas,std,four,sedan,fwd,four,68,5500,31,38,7609\n",
      "mitsubishi,gas,turbo,two,hatchback,fwd,four,102,5500,24,30,7689\n",
      "toyota,gas,std,four,sedan,fwd,four,70,4800,38,47,7738\n",
      "subaru,gas,std,four,sedan,fwd,four,82,4400,28,33,7775\n",
      "volkswagen,diesel,std,two,sedan,fwd,four,52,4800,37,46,7775\n",
      "toyota,diesel,std,four,hatchback,fwd,four,56,4500,38,47,7788\n",
      "nissan,gas,std,two,hatchback,fwd,four,69,5200,31,37,7799\n",
      "honda,gas,std,two,hatchback,fwd,four,86,5800,27,33,7895\n",
      "toyota,gas,std,four,wagon,4wd,four,62,4800,27,32,7898\n",
      "toyota,diesel,std,four,sedan,fwd,four,56,4500,34,36,7898\n",
      "dodge,gas,turbo,two,hatchback,fwd,four,102,5500,24,30,7957\n",
      "plymouth,gas,turbo,two,hatchback,fwd,four,102,5500,24,30,7957\n",
      "volkswagen,gas,std,two,sedan,fwd,four,85,5250,27,34,7975\n",
      "volkswagen,diesel,std,four,sedan,fwd,four,52,4800,37,46,7995\n",
      "nissan,gas,std,four,wagon,fwd,four,69,5200,31,37,7999\n",
      "subaru,gas,std,four,wagon,4wd,four,82,4800,23,29,8013\n",
      "toyota,gas,std,two,sedan,rwd,four,70,4800,29,34,8058\n",
      "mitsubishi,gas,std,four,sedan,fwd,four,88,5000,25,32,8189\n",
      "volkswagen,gas,std,four,sedan,fwd,four,85,5250,27,34,8195\n",
      "toyota,gas,std,two,hatchback,rwd,four,70,4800,29,34,8238\n",
      "nissan,gas,std,two,hardtop,fwd,four,69,5200,31,37,8249\n",
      "toyota,gas,std,four,hatchback,fwd,four,70,4800,28,34,8358\n",
      "toyota,gas,std,two,hardtop,rwd,four,116,4800,24,30,8449\n",
      "mazda,gas,std,four,sedan,fwd,four,84,4800,26,32,8495\n",
      "volkswagen,gas,std,four,sedan,fwd,four,85,5250,27,34,8495\n",
      "mitsubishi,gas,std,two,hatchback,fwd,four,88,5000,25,32,8499\n",
      "toyota,gas,std,four,wagon,4wd,four,62,4800,27,32,8778\n",
      "honda,gas,std,four,sedan,fwd,four,86,5800,27,33,8845\n",
      "mazda,gas,std,two,hatchback,fwd,four,84,4800,26,32,8845\n",
      "dodge,gas,std,four,wagon,fwd,four,88,5000,24,30,8921\n",
      "plymouth,gas,std,four,wagon,fwd,four,88,5000,24,30,8921\n",
      "toyota,gas,std,four,sedan,fwd,four,92,4200,29,34,8948\n",
      "nissan,gas,std,four,hatchback,fwd,four,97,5200,27,34,8949\n",
      "honda,gas,std,two,hatchback,fwd,four,86,5800,27,33,9095\n",
      "subaru,gas,std,four,sedan,4wd,four,82,4800,24,25,9233\n",
      "toyota,gas,std,four,sedan,fwd,four,70,4800,28,34,9258\n",
      "mitsubishi,gas,turbo,four,sedan,fwd,four,116,5500,23,30,9279\n",
      "mitsubishi,gas,std,four,sedan,fwd,four,116,5500,23,30,9279\n",
      "toyota,gas,std,two,sedan,rwd,four,112,6600,26,29,9298\n",
      "volkswagen,diesel,turbo,four,sedan,fwd,four,68,4500,37,42,9495\n",
      "toyota,gas,std,two,hatchback,rwd,four,112,6600,26,29,9538\n",
      "nissan,gas,std,four,sedan,fwd,four,97,5200,27,34,9549\n",
      "toyota,gas,std,two,hardtop,rwd,four,116,4800,24,30,9639\n",
      "mitsubishi,gas,turbo,two,hatchback,fwd,four,116,5500,23,30,9959\n",
      "subaru,gas,std,four,sedan,fwd,four,94,5200,26,32,9960\n",
      "volkswagen,gas,std,two,hatchback,fwd,four,90,5500,24,29,9980\n",
      "toyota,gas,std,four,hatchback,fwd,four,92,4200,27,32,9988\n",
      "toyota,gas,std,two,hatchback,rwd,four,116,4800,24,30,9989\n",
      "volkswagen,gas,std,four,sedan,fwd,four,100,5500,26,32,9995\n",
      "subaru,gas,std,four,wagon,fwd,four,94,5200,25,31,10198\n",
      "mazda,gas,std,four,sedan,fwd,four,84,4800,26,32,10245\n",
      "honda,gas,std,four,sedan,fwd,four,86,5800,27,33,10295\n",
      "honda,gas,std,two,sedan,fwd,four,100,5500,25,31,10345\n",
      "mazda,gas,std,two,hatchback,fwd,four,84,4800,26,32,10595\n",
      "toyota,diesel,turbo,four,sedan,fwd,four,73,4500,30,33,10698\n",
      "toyota,gas,std,four,sedan,fwd,four,92,4200,27,32,10898\n",
      "mazda,gas,std,two,hatchback,rwd,two,101,6000,17,23,10945\n",
      "isuzu,gas,std,two,hatchback,rwd,four,90,5000,24,29,11048\n",
      "toyota,gas,std,two,hardtop,rwd,four,116,4800,24,30,11199\n",
      "mazda,gas,std,four,hatchback,fwd,four,84,4800,26,32,11245\n",
      "toyota,gas,std,four,hatchback,fwd,four,92,4200,27,32,11248\n",
      "subaru,gas,turbo,four,sedan,4wd,four,111,4800,24,29,11259\n",
      "toyota,gas,std,two,hatchback,rwd,four,116,4800,24,30,11549\n",
      "volkswagen,gas,std,two,convertible,fwd,four,90,5500,24,29,11595\n",
      "subaru,gas,turbo,four,wagon,4wd,four,111,4800,23,23,11694\n",
      "mazda,gas,std,two,hatchback,rwd,two,101,6000,17,23,11845\n",
      "saab,gas,std,two,hatchback,fwd,four,110,5250,21,28,11850\n",
      "peugot,gas,std,four,sedan,rwd,four,97,5000,19,24,11900\n",
      "saab,gas,std,four,sedan,fwd,four,110,5250,21,28,12170\n",
      "volkswagen,gas,std,four,wagon,fwd,four,88,5500,25,31,12290\n",
      "peugot,gas,std,four,wagon,rwd,four,97,5000,19,24,12440\n",
      "mitsubishi,gas,turbo,two,hatchback,fwd,four,145,5000,19,24,12629\n",
      "plymouth,gas,turbo,two,hatchback,rwd,four,145,5000,19,24,12764\n",
      "volvo,gas,std,four,sedan,rwd,four,114,5400,23,28,12940\n",
      "honda,gas,std,four,sedan,fwd,four,101,5800,24,28,12945\n",
      "dodge,gas,turbo,two,hatchback,fwd,four,145,5000,19,24,12964\n",
      "peugot,diesel,turbo,four,sedan,rwd,four,95,4150,28,33,13200\n",
      "volkswagen,gas,std,four,sedan,fwd,five,110,5500,19,24,13295\n",
      "volvo,gas,std,four,wagon,rwd,four,114,5400,23,28,13415\n",
      "alfa-romero,gas,std,two,convertible,rwd,four,111,5000,21,27,13495\n",
      "nissan,gas,std,four,sedan,fwd,six,152,5200,17,22,13499\n",
      "nissan,gas,std,four,sedan,fwd,six,152,5200,19,25,13499\n",
      "mazda,gas,std,two,hatchback,rwd,two,101,6000,17,23,13645\n",
      "volkswagen,diesel,turbo,four,sedan,fwd,four,68,4500,33,38,13845\n",
      "peugot,diesel,turbo,four,wagon,rwd,four,95,4150,25,25,13860\n",
      "audi,gas,std,four,sedan,fwd,four,102,5500,24,30,13950\n",
      "nissan,gas,std,four,wagon,fwd,six,152,5200,17,22,14399\n",
      "mitsubishi,gas,turbo,two,hatchback,fwd,four,145,5000,19,24,14489\n",
      "mitsubishi,gas,turbo,two,hatchback,fwd,four,145,5000,19,24,14869\n",
      "saab,gas,std,two,hatchback,fwd,four,110,5250,21,28,15040\n",
      "audi,gas,std,two,sedan,fwd,five,110,5500,19,25,15250\n",
      "saab,gas,std,four,sedan,fwd,four,110,5250,21,28,15510\n",
      "peugot,gas,std,four,sedan,rwd,four,95,5000,19,24,15580\n",
      "mazda,gas,std,two,hatchback,rwd,two,135,6000,16,23,15645\n",
      "toyota,gas,std,four,sedan,rwd,six,156,5200,20,24,15690\n",
      "toyota,gas,std,four,wagon,rwd,six,156,5200,19,24,15750\n",
      "volvo,gas,std,four,sedan,rwd,four,114,5400,24,28,15985\n",
      "toyota,gas,std,two,hatchback,rwd,six,161,5200,19,24,15998\n",
      "bmw,gas,std,two,sedan,rwd,four,101,5800,23,29,16430\n",
      "alfa-romero,gas,std,two,convertible,rwd,four,111,5000,21,27,16500\n",
      "alfa-romero,gas,std,two,hatchback,rwd,six,154,5000,19,26,16500\n",
      "mercury,gas,turbo,two,hatchback,rwd,four,175,5000,19,24,16503\n",
      "volvo,gas,std,four,wagon,rwd,four,114,5400,24,28,16515\n",
      "toyota,gas,std,two,hatchback,rwd,six,161,5200,20,24,16558\n",
      "peugot,gas,std,four,sedan,rwd,four,97,5000,19,24,16630\n",
      "peugot,gas,std,four,wagon,rwd,four,95,5000,19,24,16695\n",
      "volvo,gas,std,four,sedan,rwd,four,114,5400,23,28,16845\n",
      "peugot,diesel,turbo,four,sedan,rwd,four,95,4150,28,33,16900\n",
      "bmw,gas,std,four,sedan,rwd,four,101,5800,23,29,16925\n",
      "peugot,diesel,turbo,four,wagon,rwd,four,95,4150,25,25,17075\n",
      "nissan,gas,std,two,hatchback,rwd,six,160,5200,19,25,17199\n",
      "audi,gas,std,four,sedan,4wd,five,115,5500,18,22,17450\n",
      "toyota,gas,std,two,convertible,rwd,four,116,4800,24,30,17669\n",
      "audi,gas,std,four,sedan,fwd,five,110,5500,19,25,17710\n",
      "peugot,diesel,turbo,four,sedan,rwd,four,95,4150,28,33,17950\n",
      "peugot,gas,turbo,four,sedan,rwd,four,142,5600,18,24,18150\n",
      "saab,gas,turbo,two,hatchback,fwd,four,160,5500,19,26,18150\n",
      "mazda,gas,std,four,sedan,rwd,four,120,5000,19,27,18280\n",
      "mazda,diesel,std,four,sedan,rwd,four,72,4200,31,39,18344\n",
      "nissan,gas,std,two,hatchback,rwd,six,160,5200,19,25,18399\n",
      "volvo,gas,turbo,four,sedan,rwd,four,162,5100,17,22,18420\n",
      "saab,gas,turbo,four,sedan,fwd,four,160,5500,19,26,18620\n",
      "audi,gas,std,four,wagon,fwd,five,110,5500,19,25,18920\n",
      "volvo,gas,turbo,four,wagon,rwd,four,162,5100,17,22,18950\n",
      "volvo,gas,turbo,four,sedan,rwd,four,160,5300,19,25,19045\n",
      "nissan,gas,turbo,two,hatchback,rwd,six,200,5200,17,23,19699\n",
      "bmw,gas,std,two,sedan,rwd,six,121,4250,21,28,20970\n",
      "bmw,gas,std,four,sedan,rwd,six,121,4250,21,28,21105\n",
      "volvo,gas,std,four,sedan,rwd,six,134,5500,18,23,21485\n",
      "porsche,gas,std,two,hatchback,rwd,four,143,5500,19,27,22018\n",
      "volvo,diesel,turbo,four,sedan,rwd,six,106,4800,26,27,22470\n",
      "volvo,gas,turbo,four,sedan,rwd,four,114,5400,19,25,22625\n",
      "audi,gas,turbo,four,sedan,fwd,five,140,5500,17,20,23875\n",
      "bmw,gas,std,four,sedan,rwd,six,121,4250,20,25,24565\n",
      "mercedes-benz,diesel,turbo,four,sedan,rwd,five,123,4350,22,25,25552\n",
      "mercedes-benz,diesel,turbo,two,hardtop,rwd,five,123,4350,22,25,28176\n",
      "mercedes-benz,diesel,turbo,four,wagon,rwd,five,123,4350,22,25,28248\n",
      "bmw,gas,std,four,sedan,rwd,six,182,5400,16,22,30760\n",
      "mercedes-benz,diesel,turbo,four,sedan,rwd,five,123,4350,22,25,31600\n",
      "jaguar,gas,std,four,sedan,rwd,six,176,4750,15,19,32250\n",
      "porsche,gas,std,two,hardtop,rwd,six,207,5900,17,25,32528\n",
      "porsche,gas,std,two,hardtop,rwd,six,207,5900,17,25,34028\n",
      "mercedes-benz,gas,std,four,sedan,rwd,eight,155,4750,16,18,34184\n",
      "mercedes-benz,gas,std,two,convertible,rwd,eight,155,4750,16,18,35056\n",
      "jaguar,gas,std,four,sedan,rwd,six,176,4750,15,19,35550\n",
      "jaguar,gas,std,two,sedan,rwd,twelve,262,5000,13,17,36000\n",
      "bmw,gas,std,four,sedan,rwd,six,182,5400,15,20,36880\n",
      "porsche,gas,std,two,convertible,rwd,six,207,5900,17,25,37028\n",
      "mercedes-benz,gas,std,four,sedan,rwd,eight,184,4500,14,16,40960\n",
      "bmw,gas,std,two,sedan,rwd,six,182,5400,16,22,41315\n",
      "mercedes-benz,gas,std,two,hardtop,rwd,eight,184,4500,14,16,45400\n"
     ]
    }
   ],
   "source": [
    "print('Imprimindo linha por linha o conteúdo da RDD...', '\\n')\n",
    "\n",
    "for line in carRDD.collect():\n",
    "    print(line)"
   ]
  },
  {
   "cell_type": "markdown",
   "metadata": {},
   "source": [
    "##### efetuando uma operação de TRANSFORMAÇÃO na RDD original (gerando uma nova, pois RDD é imutável!), onde para cada registro da coleção de dados da RDD, substitui o caractere \",\" por \"\\t\""
   ]
  },
  {
   "cell_type": "code",
   "execution_count": 4,
   "metadata": {
    "collapsed": false
   },
   "outputs": [
    {
     "name": "stdout",
     "output_type": "stream",
     "text": [
      "MAKE\tFUELTYPE\tASPIRE\tDOORS\tBODY\tDRIVE\tCYLINDERS\tHP\tRPM\tMPG-CITY\tMPG-HWY\tPRICE\n",
      "subaru\tgas\tstd\ttwo\thatchback\tfwd\tfour\t69\t4900\t31\t36\t5118\n",
      "chevrolet\tgas\tstd\ttwo\thatchback\tfwd\tthree\t48\t5100\t47\t53\t5151\n",
      "mazda\tgas\tstd\ttwo\thatchback\tfwd\tfour\t68\t5000\t30\t31\t5195\n",
      "toyota\tgas\tstd\ttwo\thatchback\tfwd\tfour\t62\t4800\t35\t39\t5348\n",
      "mitsubishi\tgas\tstd\ttwo\thatchback\tfwd\tfour\t68\t5500\t37\t41\t5389\n",
      "honda\tgas\tstd\ttwo\thatchback\tfwd\tfour\t60\t5500\t38\t42\t5399\n",
      "nissan\tgas\tstd\ttwo\tsedan\tfwd\tfour\t69\t5200\t31\t37\t5499\n",
      "dodge\tgas\tstd\ttwo\thatchback\tfwd\tfour\t68\t5500\t37\t41\t5572\n",
      "plymouth\tgas\tstd\ttwo\thatchback\tfwd\tfour\t68\t5500\t37\t41\t5572\n",
      "mazda\tgas\tstd\ttwo\thatchback\tfwd\tfour\t68\t5000\t31\t38\t6095\n",
      "mitsubishi\tgas\tstd\ttwo\thatchback\tfwd\tfour\t68\t5500\t31\t38\t6189\n",
      "dodge\tgas\tstd\tfour\thatchback\tfwd\tfour\t68\t5500\t31\t38\t6229\n",
      "plymouth\tgas\tstd\tfour\thatchback\tfwd\tfour\t68\t5500\t31\t38\t6229\n",
      "chevrolet\tgas\tstd\ttwo\thatchback\tfwd\tfour\t70\t5400\t38\t43\t6295\n",
      "toyota\tgas\tstd\ttwo\thatchback\tfwd\tfour\t62\t4800\t31\t38\t6338\n",
      "dodge\tgas\tstd\ttwo\thatchback\tfwd\tfour\t68\t5500\t31\t38\t6377\n",
      "honda\tgas\tstd\ttwo\thatchback\tfwd\tfour\t58\t4800\t49\t54\t6479\n",
      "toyota\tgas\tstd\tfour\thatchback\tfwd\tfour\t62\t4800\t31\t38\t6488\n",
      "honda\tgas\tstd\ttwo\thatchback\tfwd\tfour\t76\t6000\t30\t34\t6529\n",
      "chevrolet\tgas\tstd\tfour\tsedan\tfwd\tfour\t70\t5400\t38\t43\t6575\n",
      "nissan\tgas\tstd\ttwo\tsedan\tfwd\tfour\t69\t5200\t31\t37\t6649\n",
      "mitsubishi\tgas\tstd\ttwo\thatchback\tfwd\tfour\t68\t5500\t31\t38\t6669\n",
      "dodge\tgas\tstd\tfour\tsedan\tfwd\tfour\t68\t5500\t31\t38\t6692\n",
      "plymouth\tgas\tstd\tfour\tsedan\tfwd\tfour\t68\t5500\t31\t38\t6692\n",
      "mazda\tgas\tstd\tfour\tsedan\tfwd\tfour\t68\t5000\t31\t38\t6695\n",
      "isuzu\tgas\tstd\tfour\tsedan\trwd\tfour\t78\t4800\t24\t29\t6785\n",
      "mazda\tgas\tstd\ttwo\thatchback\tfwd\tfour\t68\t5000\t31\t38\t6795\n",
      "nissan\tgas\tstd\tfour\tsedan\tfwd\tfour\t69\t5200\t31\t37\t6849\n",
      "honda\tgas\tstd\ttwo\thatchback\tfwd\tfour\t76\t6000\t31\t38\t6855\n",
      "toyota\tgas\tstd\tfour\twagon\tfwd\tfour\t62\t4800\t31\t37\t6918\n",
      "toyota\tgas\tstd\tfour\tsedan\tfwd\tfour\t70\t4800\t30\t37\t6938\n",
      "mitsubishi\tgas\tstd\tfour\tsedan\tfwd\tfour\t88\t5000\t25\t32\t6989\n",
      "subaru\tgas\tstd\ttwo\thatchback\tfwd\tfour\t73\t4400\t26\t31\t7053\n",
      "nissan\tdiesel\tstd\ttwo\tsedan\tfwd\tfour\t55\t4800\t45\t50\t7099\n",
      "subaru\tgas\tstd\tfour\tsedan\tfwd\tfour\t82\t4800\t32\t37\t7126\n",
      "honda\tgas\tstd\ttwo\thatchback\tfwd\tfour\t76\t6000\t30\t34\t7129\n",
      "toyota\tgas\tstd\tfour\thatchback\tfwd\tfour\t70\t4800\t30\t37\t7198\n",
      "honda\tgas\tstd\tfour\tsedan\tfwd\tfour\t76\t6000\t30\t34\t7295\n",
      "honda\tgas\tstd\tfour\twagon\tfwd\tfour\t76\t6000\t30\t34\t7295\n",
      "nissan\tgas\tstd\ttwo\tsedan\tfwd\tfour\t69\t5200\t31\t37\t7299\n",
      "nissan\tgas\tstd\tfour\twagon\tfwd\tfour\t69\t5200\t31\t37\t7349\n",
      "mazda\tgas\tstd\tfour\tsedan\tfwd\tfour\t68\t5000\t31\t38\t7395\n",
      "subaru\tgas\tstd\tfour\twagon\tfwd\tfour\t82\t4800\t28\t32\t7463\n",
      "nissan\tgas\tstd\tfour\tsedan\tfwd\tfour\t69\t5200\t31\t37\t7499\n",
      "subaru\tgas\tstd\ttwo\thatchback\t4wd\tfour\t73\t4400\t26\t31\t7603\n",
      "dodge\tgas\tstd\tfour\tsedan\tfwd\tfour\t68\t5500\t31\t38\t7609\n",
      "plymouth\tgas\tstd\tfour\tsedan\tfwd\tfour\t68\t5500\t31\t38\t7609\n",
      "mitsubishi\tgas\tturbo\ttwo\thatchback\tfwd\tfour\t102\t5500\t24\t30\t7689\n",
      "toyota\tgas\tstd\tfour\tsedan\tfwd\tfour\t70\t4800\t38\t47\t7738\n",
      "subaru\tgas\tstd\tfour\tsedan\tfwd\tfour\t82\t4400\t28\t33\t7775\n",
      "volkswagen\tdiesel\tstd\ttwo\tsedan\tfwd\tfour\t52\t4800\t37\t46\t7775\n",
      "toyota\tdiesel\tstd\tfour\thatchback\tfwd\tfour\t56\t4500\t38\t47\t7788\n",
      "nissan\tgas\tstd\ttwo\thatchback\tfwd\tfour\t69\t5200\t31\t37\t7799\n",
      "honda\tgas\tstd\ttwo\thatchback\tfwd\tfour\t86\t5800\t27\t33\t7895\n",
      "toyota\tgas\tstd\tfour\twagon\t4wd\tfour\t62\t4800\t27\t32\t7898\n",
      "toyota\tdiesel\tstd\tfour\tsedan\tfwd\tfour\t56\t4500\t34\t36\t7898\n",
      "dodge\tgas\tturbo\ttwo\thatchback\tfwd\tfour\t102\t5500\t24\t30\t7957\n",
      "plymouth\tgas\tturbo\ttwo\thatchback\tfwd\tfour\t102\t5500\t24\t30\t7957\n",
      "volkswagen\tgas\tstd\ttwo\tsedan\tfwd\tfour\t85\t5250\t27\t34\t7975\n",
      "volkswagen\tdiesel\tstd\tfour\tsedan\tfwd\tfour\t52\t4800\t37\t46\t7995\n",
      "nissan\tgas\tstd\tfour\twagon\tfwd\tfour\t69\t5200\t31\t37\t7999\n",
      "subaru\tgas\tstd\tfour\twagon\t4wd\tfour\t82\t4800\t23\t29\t8013\n",
      "toyota\tgas\tstd\ttwo\tsedan\trwd\tfour\t70\t4800\t29\t34\t8058\n",
      "mitsubishi\tgas\tstd\tfour\tsedan\tfwd\tfour\t88\t5000\t25\t32\t8189\n",
      "volkswagen\tgas\tstd\tfour\tsedan\tfwd\tfour\t85\t5250\t27\t34\t8195\n",
      "toyota\tgas\tstd\ttwo\thatchback\trwd\tfour\t70\t4800\t29\t34\t8238\n",
      "nissan\tgas\tstd\ttwo\thardtop\tfwd\tfour\t69\t5200\t31\t37\t8249\n",
      "toyota\tgas\tstd\tfour\thatchback\tfwd\tfour\t70\t4800\t28\t34\t8358\n",
      "toyota\tgas\tstd\ttwo\thardtop\trwd\tfour\t116\t4800\t24\t30\t8449\n",
      "mazda\tgas\tstd\tfour\tsedan\tfwd\tfour\t84\t4800\t26\t32\t8495\n",
      "volkswagen\tgas\tstd\tfour\tsedan\tfwd\tfour\t85\t5250\t27\t34\t8495\n",
      "mitsubishi\tgas\tstd\ttwo\thatchback\tfwd\tfour\t88\t5000\t25\t32\t8499\n",
      "toyota\tgas\tstd\tfour\twagon\t4wd\tfour\t62\t4800\t27\t32\t8778\n",
      "honda\tgas\tstd\tfour\tsedan\tfwd\tfour\t86\t5800\t27\t33\t8845\n",
      "mazda\tgas\tstd\ttwo\thatchback\tfwd\tfour\t84\t4800\t26\t32\t8845\n",
      "dodge\tgas\tstd\tfour\twagon\tfwd\tfour\t88\t5000\t24\t30\t8921\n",
      "plymouth\tgas\tstd\tfour\twagon\tfwd\tfour\t88\t5000\t24\t30\t8921\n",
      "toyota\tgas\tstd\tfour\tsedan\tfwd\tfour\t92\t4200\t29\t34\t8948\n",
      "nissan\tgas\tstd\tfour\thatchback\tfwd\tfour\t97\t5200\t27\t34\t8949\n",
      "honda\tgas\tstd\ttwo\thatchback\tfwd\tfour\t86\t5800\t27\t33\t9095\n",
      "subaru\tgas\tstd\tfour\tsedan\t4wd\tfour\t82\t4800\t24\t25\t9233\n",
      "toyota\tgas\tstd\tfour\tsedan\tfwd\tfour\t70\t4800\t28\t34\t9258\n",
      "mitsubishi\tgas\tturbo\tfour\tsedan\tfwd\tfour\t116\t5500\t23\t30\t9279\n",
      "mitsubishi\tgas\tstd\tfour\tsedan\tfwd\tfour\t116\t5500\t23\t30\t9279\n",
      "toyota\tgas\tstd\ttwo\tsedan\trwd\tfour\t112\t6600\t26\t29\t9298\n",
      "volkswagen\tdiesel\tturbo\tfour\tsedan\tfwd\tfour\t68\t4500\t37\t42\t9495\n",
      "toyota\tgas\tstd\ttwo\thatchback\trwd\tfour\t112\t6600\t26\t29\t9538\n",
      "nissan\tgas\tstd\tfour\tsedan\tfwd\tfour\t97\t5200\t27\t34\t9549\n",
      "toyota\tgas\tstd\ttwo\thardtop\trwd\tfour\t116\t4800\t24\t30\t9639\n",
      "mitsubishi\tgas\tturbo\ttwo\thatchback\tfwd\tfour\t116\t5500\t23\t30\t9959\n",
      "subaru\tgas\tstd\tfour\tsedan\tfwd\tfour\t94\t5200\t26\t32\t9960\n",
      "volkswagen\tgas\tstd\ttwo\thatchback\tfwd\tfour\t90\t5500\t24\t29\t9980\n",
      "toyota\tgas\tstd\tfour\thatchback\tfwd\tfour\t92\t4200\t27\t32\t9988\n",
      "toyota\tgas\tstd\ttwo\thatchback\trwd\tfour\t116\t4800\t24\t30\t9989\n",
      "volkswagen\tgas\tstd\tfour\tsedan\tfwd\tfour\t100\t5500\t26\t32\t9995\n",
      "subaru\tgas\tstd\tfour\twagon\tfwd\tfour\t94\t5200\t25\t31\t10198\n",
      "mazda\tgas\tstd\tfour\tsedan\tfwd\tfour\t84\t4800\t26\t32\t10245\n",
      "honda\tgas\tstd\tfour\tsedan\tfwd\tfour\t86\t5800\t27\t33\t10295\n",
      "honda\tgas\tstd\ttwo\tsedan\tfwd\tfour\t100\t5500\t25\t31\t10345\n",
      "mazda\tgas\tstd\ttwo\thatchback\tfwd\tfour\t84\t4800\t26\t32\t10595\n",
      "toyota\tdiesel\tturbo\tfour\tsedan\tfwd\tfour\t73\t4500\t30\t33\t10698\n",
      "toyota\tgas\tstd\tfour\tsedan\tfwd\tfour\t92\t4200\t27\t32\t10898\n",
      "mazda\tgas\tstd\ttwo\thatchback\trwd\ttwo\t101\t6000\t17\t23\t10945\n",
      "isuzu\tgas\tstd\ttwo\thatchback\trwd\tfour\t90\t5000\t24\t29\t11048\n",
      "toyota\tgas\tstd\ttwo\thardtop\trwd\tfour\t116\t4800\t24\t30\t11199\n",
      "mazda\tgas\tstd\tfour\thatchback\tfwd\tfour\t84\t4800\t26\t32\t11245\n",
      "toyota\tgas\tstd\tfour\thatchback\tfwd\tfour\t92\t4200\t27\t32\t11248\n",
      "subaru\tgas\tturbo\tfour\tsedan\t4wd\tfour\t111\t4800\t24\t29\t11259\n",
      "toyota\tgas\tstd\ttwo\thatchback\trwd\tfour\t116\t4800\t24\t30\t11549\n",
      "volkswagen\tgas\tstd\ttwo\tconvertible\tfwd\tfour\t90\t5500\t24\t29\t11595\n",
      "subaru\tgas\tturbo\tfour\twagon\t4wd\tfour\t111\t4800\t23\t23\t11694\n",
      "mazda\tgas\tstd\ttwo\thatchback\trwd\ttwo\t101\t6000\t17\t23\t11845\n",
      "saab\tgas\tstd\ttwo\thatchback\tfwd\tfour\t110\t5250\t21\t28\t11850\n",
      "peugot\tgas\tstd\tfour\tsedan\trwd\tfour\t97\t5000\t19\t24\t11900\n",
      "saab\tgas\tstd\tfour\tsedan\tfwd\tfour\t110\t5250\t21\t28\t12170\n",
      "volkswagen\tgas\tstd\tfour\twagon\tfwd\tfour\t88\t5500\t25\t31\t12290\n",
      "peugot\tgas\tstd\tfour\twagon\trwd\tfour\t97\t5000\t19\t24\t12440\n",
      "mitsubishi\tgas\tturbo\ttwo\thatchback\tfwd\tfour\t145\t5000\t19\t24\t12629\n",
      "plymouth\tgas\tturbo\ttwo\thatchback\trwd\tfour\t145\t5000\t19\t24\t12764\n",
      "volvo\tgas\tstd\tfour\tsedan\trwd\tfour\t114\t5400\t23\t28\t12940\n",
      "honda\tgas\tstd\tfour\tsedan\tfwd\tfour\t101\t5800\t24\t28\t12945\n",
      "dodge\tgas\tturbo\ttwo\thatchback\tfwd\tfour\t145\t5000\t19\t24\t12964\n",
      "peugot\tdiesel\tturbo\tfour\tsedan\trwd\tfour\t95\t4150\t28\t33\t13200\n",
      "volkswagen\tgas\tstd\tfour\tsedan\tfwd\tfive\t110\t5500\t19\t24\t13295\n",
      "volvo\tgas\tstd\tfour\twagon\trwd\tfour\t114\t5400\t23\t28\t13415\n",
      "alfa-romero\tgas\tstd\ttwo\tconvertible\trwd\tfour\t111\t5000\t21\t27\t13495\n",
      "nissan\tgas\tstd\tfour\tsedan\tfwd\tsix\t152\t5200\t17\t22\t13499\n",
      "nissan\tgas\tstd\tfour\tsedan\tfwd\tsix\t152\t5200\t19\t25\t13499\n",
      "mazda\tgas\tstd\ttwo\thatchback\trwd\ttwo\t101\t6000\t17\t23\t13645\n",
      "volkswagen\tdiesel\tturbo\tfour\tsedan\tfwd\tfour\t68\t4500\t33\t38\t13845\n",
      "peugot\tdiesel\tturbo\tfour\twagon\trwd\tfour\t95\t4150\t25\t25\t13860\n",
      "audi\tgas\tstd\tfour\tsedan\tfwd\tfour\t102\t5500\t24\t30\t13950\n",
      "nissan\tgas\tstd\tfour\twagon\tfwd\tsix\t152\t5200\t17\t22\t14399\n",
      "mitsubishi\tgas\tturbo\ttwo\thatchback\tfwd\tfour\t145\t5000\t19\t24\t14489\n",
      "mitsubishi\tgas\tturbo\ttwo\thatchback\tfwd\tfour\t145\t5000\t19\t24\t14869\n",
      "saab\tgas\tstd\ttwo\thatchback\tfwd\tfour\t110\t5250\t21\t28\t15040\n",
      "audi\tgas\tstd\ttwo\tsedan\tfwd\tfive\t110\t5500\t19\t25\t15250\n",
      "saab\tgas\tstd\tfour\tsedan\tfwd\tfour\t110\t5250\t21\t28\t15510\n",
      "peugot\tgas\tstd\tfour\tsedan\trwd\tfour\t95\t5000\t19\t24\t15580\n",
      "mazda\tgas\tstd\ttwo\thatchback\trwd\ttwo\t135\t6000\t16\t23\t15645\n",
      "toyota\tgas\tstd\tfour\tsedan\trwd\tsix\t156\t5200\t20\t24\t15690\n",
      "toyota\tgas\tstd\tfour\twagon\trwd\tsix\t156\t5200\t19\t24\t15750\n",
      "volvo\tgas\tstd\tfour\tsedan\trwd\tfour\t114\t5400\t24\t28\t15985\n",
      "toyota\tgas\tstd\ttwo\thatchback\trwd\tsix\t161\t5200\t19\t24\t15998\n",
      "bmw\tgas\tstd\ttwo\tsedan\trwd\tfour\t101\t5800\t23\t29\t16430\n",
      "alfa-romero\tgas\tstd\ttwo\tconvertible\trwd\tfour\t111\t5000\t21\t27\t16500\n",
      "alfa-romero\tgas\tstd\ttwo\thatchback\trwd\tsix\t154\t5000\t19\t26\t16500\n",
      "mercury\tgas\tturbo\ttwo\thatchback\trwd\tfour\t175\t5000\t19\t24\t16503\n",
      "volvo\tgas\tstd\tfour\twagon\trwd\tfour\t114\t5400\t24\t28\t16515\n",
      "toyota\tgas\tstd\ttwo\thatchback\trwd\tsix\t161\t5200\t20\t24\t16558\n",
      "peugot\tgas\tstd\tfour\tsedan\trwd\tfour\t97\t5000\t19\t24\t16630\n",
      "peugot\tgas\tstd\tfour\twagon\trwd\tfour\t95\t5000\t19\t24\t16695\n",
      "volvo\tgas\tstd\tfour\tsedan\trwd\tfour\t114\t5400\t23\t28\t16845\n",
      "peugot\tdiesel\tturbo\tfour\tsedan\trwd\tfour\t95\t4150\t28\t33\t16900\n",
      "bmw\tgas\tstd\tfour\tsedan\trwd\tfour\t101\t5800\t23\t29\t16925\n",
      "peugot\tdiesel\tturbo\tfour\twagon\trwd\tfour\t95\t4150\t25\t25\t17075\n",
      "nissan\tgas\tstd\ttwo\thatchback\trwd\tsix\t160\t5200\t19\t25\t17199\n",
      "audi\tgas\tstd\tfour\tsedan\t4wd\tfive\t115\t5500\t18\t22\t17450\n",
      "toyota\tgas\tstd\ttwo\tconvertible\trwd\tfour\t116\t4800\t24\t30\t17669\n",
      "audi\tgas\tstd\tfour\tsedan\tfwd\tfive\t110\t5500\t19\t25\t17710\n",
      "peugot\tdiesel\tturbo\tfour\tsedan\trwd\tfour\t95\t4150\t28\t33\t17950\n",
      "peugot\tgas\tturbo\tfour\tsedan\trwd\tfour\t142\t5600\t18\t24\t18150\n",
      "saab\tgas\tturbo\ttwo\thatchback\tfwd\tfour\t160\t5500\t19\t26\t18150\n",
      "mazda\tgas\tstd\tfour\tsedan\trwd\tfour\t120\t5000\t19\t27\t18280\n",
      "mazda\tdiesel\tstd\tfour\tsedan\trwd\tfour\t72\t4200\t31\t39\t18344\n",
      "nissan\tgas\tstd\ttwo\thatchback\trwd\tsix\t160\t5200\t19\t25\t18399\n",
      "volvo\tgas\tturbo\tfour\tsedan\trwd\tfour\t162\t5100\t17\t22\t18420\n",
      "saab\tgas\tturbo\tfour\tsedan\tfwd\tfour\t160\t5500\t19\t26\t18620\n",
      "audi\tgas\tstd\tfour\twagon\tfwd\tfive\t110\t5500\t19\t25\t18920\n",
      "volvo\tgas\tturbo\tfour\twagon\trwd\tfour\t162\t5100\t17\t22\t18950\n",
      "volvo\tgas\tturbo\tfour\tsedan\trwd\tfour\t160\t5300\t19\t25\t19045\n",
      "nissan\tgas\tturbo\ttwo\thatchback\trwd\tsix\t200\t5200\t17\t23\t19699\n",
      "bmw\tgas\tstd\ttwo\tsedan\trwd\tsix\t121\t4250\t21\t28\t20970\n",
      "bmw\tgas\tstd\tfour\tsedan\trwd\tsix\t121\t4250\t21\t28\t21105\n",
      "volvo\tgas\tstd\tfour\tsedan\trwd\tsix\t134\t5500\t18\t23\t21485\n",
      "porsche\tgas\tstd\ttwo\thatchback\trwd\tfour\t143\t5500\t19\t27\t22018\n",
      "volvo\tdiesel\tturbo\tfour\tsedan\trwd\tsix\t106\t4800\t26\t27\t22470\n",
      "volvo\tgas\tturbo\tfour\tsedan\trwd\tfour\t114\t5400\t19\t25\t22625\n",
      "audi\tgas\tturbo\tfour\tsedan\tfwd\tfive\t140\t5500\t17\t20\t23875\n",
      "bmw\tgas\tstd\tfour\tsedan\trwd\tsix\t121\t4250\t20\t25\t24565\n",
      "mercedes-benz\tdiesel\tturbo\tfour\tsedan\trwd\tfive\t123\t4350\t22\t25\t25552\n",
      "mercedes-benz\tdiesel\tturbo\ttwo\thardtop\trwd\tfive\t123\t4350\t22\t25\t28176\n",
      "mercedes-benz\tdiesel\tturbo\tfour\twagon\trwd\tfive\t123\t4350\t22\t25\t28248\n",
      "bmw\tgas\tstd\tfour\tsedan\trwd\tsix\t182\t5400\t16\t22\t30760\n",
      "mercedes-benz\tdiesel\tturbo\tfour\tsedan\trwd\tfive\t123\t4350\t22\t25\t31600\n",
      "jaguar\tgas\tstd\tfour\tsedan\trwd\tsix\t176\t4750\t15\t19\t32250\n",
      "porsche\tgas\tstd\ttwo\thardtop\trwd\tsix\t207\t5900\t17\t25\t32528\n",
      "porsche\tgas\tstd\ttwo\thardtop\trwd\tsix\t207\t5900\t17\t25\t34028\n",
      "mercedes-benz\tgas\tstd\tfour\tsedan\trwd\teight\t155\t4750\t16\t18\t34184\n",
      "mercedes-benz\tgas\tstd\ttwo\tconvertible\trwd\teight\t155\t4750\t16\t18\t35056\n",
      "jaguar\tgas\tstd\tfour\tsedan\trwd\tsix\t176\t4750\t15\t19\t35550\n",
      "jaguar\tgas\tstd\ttwo\tsedan\trwd\ttwelve\t262\t5000\t13\t17\t36000\n",
      "bmw\tgas\tstd\tfour\tsedan\trwd\tsix\t182\t5400\t15\t20\t36880\n",
      "porsche\tgas\tstd\ttwo\tconvertible\trwd\tsix\t207\t5900\t17\t25\t37028\n",
      "mercedes-benz\tgas\tstd\tfour\tsedan\trwd\teight\t184\t4500\t14\t16\t40960\n",
      "bmw\tgas\tstd\ttwo\tsedan\trwd\tsix\t182\t5400\t16\t22\t41315\n",
      "mercedes-benz\tgas\tstd\ttwo\thardtop\trwd\teight\t184\t4500\t14\t16\t45400\n"
     ]
    }
   ],
   "source": [
    "tsvData = carRDD.map(lambda x : x.replace(\",\", \"\\t\"))\n",
    "for line in tsvData.collect():\n",
    "    print(line)"
   ]
  },
  {
   "cell_type": "markdown",
   "metadata": {},
   "source": [
    "##### efetuando uma operação de TRANSFORMAÇÃO na RDD original (gerando uma nova, pois RDD é imutável!), onde para cada registro da coleção de dados da RDD, filtra por registros onde contenha a string \"toyota\""
   ]
  },
  {
   "cell_type": "code",
   "execution_count": 28,
   "metadata": {
    "collapsed": false
   },
   "outputs": [
    {
     "name": "stdout",
     "output_type": "stream",
     "text": [
      "Quantidade de elementos capturados pela função filter() sobre o novo RDD gerado: 32 \n",
      "\n",
      "toyota\tgas\tstd\ttwo\thatchback\tfwd\tfour\t62\t4800\t35\t39\t5348\n",
      "toyota\tgas\tstd\ttwo\thatchback\tfwd\tfour\t62\t4800\t31\t38\t6338\n",
      "toyota\tgas\tstd\tfour\thatchback\tfwd\tfour\t62\t4800\t31\t38\t6488\n",
      "toyota\tgas\tstd\tfour\twagon\tfwd\tfour\t62\t4800\t31\t37\t6918\n",
      "toyota\tgas\tstd\tfour\tsedan\tfwd\tfour\t70\t4800\t30\t37\t6938\n",
      "toyota\tgas\tstd\tfour\thatchback\tfwd\tfour\t70\t4800\t30\t37\t7198\n",
      "toyota\tgas\tstd\tfour\tsedan\tfwd\tfour\t70\t4800\t38\t47\t7738\n",
      "toyota\tdiesel\tstd\tfour\thatchback\tfwd\tfour\t56\t4500\t38\t47\t7788\n",
      "toyota\tgas\tstd\tfour\twagon\t4wd\tfour\t62\t4800\t27\t32\t7898\n",
      "toyota\tdiesel\tstd\tfour\tsedan\tfwd\tfour\t56\t4500\t34\t36\t7898\n",
      "toyota\tgas\tstd\ttwo\tsedan\trwd\tfour\t70\t4800\t29\t34\t8058\n",
      "toyota\tgas\tstd\ttwo\thatchback\trwd\tfour\t70\t4800\t29\t34\t8238\n",
      "toyota\tgas\tstd\tfour\thatchback\tfwd\tfour\t70\t4800\t28\t34\t8358\n",
      "toyota\tgas\tstd\ttwo\thardtop\trwd\tfour\t116\t4800\t24\t30\t8449\n",
      "toyota\tgas\tstd\tfour\twagon\t4wd\tfour\t62\t4800\t27\t32\t8778\n",
      "toyota\tgas\tstd\tfour\tsedan\tfwd\tfour\t92\t4200\t29\t34\t8948\n",
      "toyota\tgas\tstd\tfour\tsedan\tfwd\tfour\t70\t4800\t28\t34\t9258\n",
      "toyota\tgas\tstd\ttwo\tsedan\trwd\tfour\t112\t6600\t26\t29\t9298\n",
      "toyota\tgas\tstd\ttwo\thatchback\trwd\tfour\t112\t6600\t26\t29\t9538\n",
      "toyota\tgas\tstd\ttwo\thardtop\trwd\tfour\t116\t4800\t24\t30\t9639\n",
      "toyota\tgas\tstd\tfour\thatchback\tfwd\tfour\t92\t4200\t27\t32\t9988\n",
      "toyota\tgas\tstd\ttwo\thatchback\trwd\tfour\t116\t4800\t24\t30\t9989\n",
      "toyota\tdiesel\tturbo\tfour\tsedan\tfwd\tfour\t73\t4500\t30\t33\t10698\n",
      "toyota\tgas\tstd\tfour\tsedan\tfwd\tfour\t92\t4200\t27\t32\t10898\n",
      "toyota\tgas\tstd\ttwo\thardtop\trwd\tfour\t116\t4800\t24\t30\t11199\n",
      "toyota\tgas\tstd\tfour\thatchback\tfwd\tfour\t92\t4200\t27\t32\t11248\n",
      "toyota\tgas\tstd\ttwo\thatchback\trwd\tfour\t116\t4800\t24\t30\t11549\n",
      "toyota\tgas\tstd\tfour\tsedan\trwd\tsix\t156\t5200\t20\t24\t15690\n",
      "toyota\tgas\tstd\tfour\twagon\trwd\tsix\t156\t5200\t19\t24\t15750\n",
      "toyota\tgas\tstd\ttwo\thatchback\trwd\tsix\t161\t5200\t19\t24\t15998\n",
      "toyota\tgas\tstd\ttwo\thatchback\trwd\tsix\t161\t5200\t20\t24\t16558\n",
      "toyota\tgas\tstd\ttwo\tconvertible\trwd\tfour\t116\t4800\t24\t30\t17669\n"
     ]
    }
   ],
   "source": [
    "toyotaData = tsvData.filter(lambda x : \"toyota\" in x)\n",
    "print('Quantidade de elementos capturados pela função filter() sobre o novo RDD gerado:', toyotaData.count(), '\\n')\n",
    "for line in toyotaData.collect():\n",
    "    print(line)"
   ]
  },
  {
   "cell_type": "markdown",
   "metadata": {},
   "source": [
    "##### salvando o conjunto de dados filtrados onde haviam ocorrências da palavra \"toyota\" em um arquivo físico..."
   ]
  },
  {
   "cell_type": "code",
   "execution_count": 5,
   "metadata": {
    "collapsed": true
   },
   "outputs": [],
   "source": [
    "# Spark requisita os dados ao processo Master para então gerar um arquivo de saída.\n",
    "file = ('C:\\\\Users\\\\whitecube.daniel\\\\Projetos_Daniel\\\\DistributedComputing\\\\ApacheSpark\\\\datasets\\\\cars_v2.csv')\n",
    "\n",
    "savedRDD = open(file,\"w\") # função open do Python para abrir um arquivo (se não existir, ele cria um novo)\n",
    "savedRDD.write(\"\\n\".join(tsvData.collect())) # Faz a junção entre uma quebra de linha e o conteúdo inteiro de um linha do\n",
    "                                             # RDD, assim sucessivamente até o último registro da RDD\n",
    "savedRDD.close()"
   ]
  },
  {
   "cell_type": "markdown",
   "metadata": {
    "collapsed": true
   },
   "source": [
    "### Set Operations"
   ]
  },
  {
   "cell_type": "code",
   "execution_count": 25,
   "metadata": {
    "collapsed": false
   },
   "outputs": [
    {
     "name": "stdout",
     "output_type": "stream",
     "text": [
      "RDDs ORIGINAIS... \n",
      "\n",
      "------------------------------\n",
      "Paises da RDD_1 <paises_1RDD>... \n",
      "\n",
      "Afeganistão\n",
      "Itália\n",
      "França\n",
      "Brasil\n",
      "Austrália\n",
      "------------------------------\n",
      "Paises da RDD_2 <paises_2RDD>... \n",
      "\n",
      "Afeganistão\n",
      "Mexico\n",
      "Japão\n",
      "Brasil\n",
      "Austrália\n",
      "------------------------------\n"
     ]
    }
   ],
   "source": [
    "paises_1RDD = sc.parallelize(['Afeganistão', 'Itália', 'França', 'Brasil', 'Austrália'])\n",
    "paises_2RDD = sc.parallelize(['Afeganistão', 'Mexico', 'Japão', 'Brasil', 'Austrália'])\n",
    "\n",
    "print('RDDs ORIGINAIS...', '\\n')\n",
    "print('------------------------------')\n",
    "print('Paises da RDD_1 <paises_1RDD>...', '\\n')\n",
    "for paises1 in paises_1RDD.collect():\n",
    "    print(paises1)\n",
    "print('------------------------------')\n",
    "print('Paises da RDD_2 <paises_2RDD>...', '\\n')\n",
    "for paises2 in paises_2RDD.collect():\n",
    "    print(paises2)\n",
    "print('------------------------------')"
   ]
  },
  {
   "cell_type": "markdown",
   "metadata": {
    "collapsed": true
   },
   "source": [
    "### UNION + DISTINCT\n",
    "\n",
    "##### unindo (union()) as duas RDD's criadas acima, distinguindo seus registros repetidos (distinct()), e exibindo (ACTION = collect()) o resultado das TRANSFORMAÇÕES..."
   ]
  },
  {
   "cell_type": "code",
   "execution_count": 18,
   "metadata": {
    "collapsed": false
   },
   "outputs": [
    {
     "name": "stdout",
     "output_type": "stream",
     "text": [
      "Uniãos dos registros das RDDs, de forma distinta... \n",
      "\n",
      "Brasil\n",
      "Mexico\n",
      "Afeganistão\n",
      "Japão\n",
      "França\n",
      "Austrália\n",
      "Itália\n"
     ]
    }
   ],
   "source": [
    "print('Uniãos dos registros das RDDs, de forma distinta...', '\\n')\n",
    "for paises in paises_1RDD.union(paises_2RDD).distinct().collect():\n",
    "    print(paises)"
   ]
  },
  {
   "cell_type": "markdown",
   "metadata": {},
   "source": [
    "### INNER JOIN\n",
    "\n",
    "##### fazendo a INTERSECÇÃO entre as duas RDD's criadas acima, BUSCANDO SOMENTE  OS REGISTROS EM COMUM em ambas RDD's (repetidos, (intersection())), e exibindo (ACTION = collect()) o resultado das TRANSFORMAÇÕES..."
   ]
  },
  {
   "cell_type": "code",
   "execution_count": 21,
   "metadata": {
    "collapsed": false
   },
   "outputs": [
    {
     "name": "stdout",
     "output_type": "stream",
     "text": [
      "Buscando registros em comum em ambas RDDs... \n",
      "\n",
      "Brasil\n",
      "Afeganistão\n",
      "Austrália\n"
     ]
    }
   ],
   "source": [
    "print('Buscando registros em comum em ambas RDDs...', '\\n')\n",
    "for paises in paises_1RDD.intersection(paises_2RDD).collect():\n",
    "    print(paises)"
   ]
  },
  {
   "cell_type": "markdown",
   "metadata": {},
   "source": [
    "### LEFT/RIGHT JOIN\n",
    "\n",
    "##### operações de LEFT e RIGHT JOIN, também muitos usuais em bancos de dados relaionais, porém aqui em RDD's..."
   ]
  },
  {
   "cell_type": "code",
   "execution_count": 40,
   "metadata": {
    "collapsed": false
   },
   "outputs": [
    {
     "name": "stdout",
     "output_type": "stream",
     "text": [
      "RDDs ORIGINAIS... \n",
      "\n",
      "------------------------------\n",
      "Valores da RDD_1 <conj1>... \n",
      "\n",
      "[('perna', 1), ('braço', 1), ('cabeça', 1), ('pés', 1)]\n",
      "------------------------------ \n",
      "\n",
      "Valores da RDD_2 <conj2>... \n",
      "\n",
      "[('pés', 1), ('pescoço', 1), ('joelho', 1), ('cabeça', 1)]\n",
      "------------------------------ \n",
      "\n"
     ]
    }
   ],
   "source": [
    "# criando o conjunto de dados que será trabalhado no exemplo...\n",
    "conj1 = sc.parallelize(('perna', 'braço', 'cabeça', 'pés')).map(lambda x : (x , 1))\n",
    "conj2 = sc.parallelize(('pés', 'pescoço', 'joelho', 'cabeça')).map(lambda x : (x , 1))\n",
    "\n",
    "print('RDDs ORIGINAIS...', '\\n')\n",
    "print('------------------------------')\n",
    "print('Valores da RDD_1 <conj1>...', '\\n')\n",
    "print(conj1.collect())\n",
    "print('------------------------------', '\\n')\n",
    "print('Valores da RDD_2 <conj2>...', '\\n')\n",
    "print(conj2.collect())\n",
    "print('------------------------------', '\\n')"
   ]
  },
  {
   "cell_type": "code",
   "execution_count": 41,
   "metadata": {
    "collapsed": false
   },
   "outputs": [
    {
     "name": "stdout",
     "output_type": "stream",
     "text": [
      "Operação de LEFT JOIN entre o <conj1> e <conj2>...\n"
     ]
    },
    {
     "data": {
      "text/plain": [
       "[('braço', (1, None)),\n",
       " ('pés', (1, 1)),\n",
       " ('perna', (1, None)),\n",
       " ('cabeça', (1, 1))]"
      ]
     },
     "execution_count": 41,
     "metadata": {},
     "output_type": "execute_result"
    }
   ],
   "source": [
    "print('Operação de LEFT JOIN entre o <conj1> e <conj2>...')\n",
    "conj1.leftOuterJoin(conj2).collect()"
   ]
  },
  {
   "cell_type": "code",
   "execution_count": 42,
   "metadata": {
    "collapsed": false
   },
   "outputs": [
    {
     "name": "stdout",
     "output_type": "stream",
     "text": [
      "Operação de RIGHT JOIN entre o <conj1> e <conj2>...\n"
     ]
    },
    {
     "data": {
      "text/plain": [
       "[('pés', (1, 1)),\n",
       " ('joelho', (None, 1)),\n",
       " ('cabeça', (1, 1)),\n",
       " ('pescoço', (None, 1))]"
      ]
     },
     "execution_count": 42,
     "metadata": {},
     "output_type": "execute_result"
    }
   ],
   "source": [
    "print('Operação de RIGHT JOIN entre o <conj1> e <conj2>...')\n",
    "conj1.rightOuterJoin(conj2).collect()"
   ]
  },
  {
   "cell_type": "markdown",
   "metadata": {},
   "source": [
    "### DISTINCT"
   ]
  },
  {
   "cell_type": "code",
   "execution_count": 52,
   "metadata": {
    "collapsed": false
   },
   "outputs": [
    {
     "name": "stdout",
     "output_type": "stream",
     "text": [
      "------------------------------\n",
      "Lista INICIAL de países...\n",
      "Afeganistão\n",
      "Itália\n",
      "Brasil\n",
      "Itália\n",
      "França\n",
      "\n",
      "------------------------------\n",
      "Lista de países de forma DISTINTA (sem valores duplicado)... \n",
      "\n",
      "Brasil\n",
      "Afeganistão\n",
      "França\n",
      "Itália\n"
     ]
    }
   ],
   "source": [
    "paises_3RDD = sc.parallelize(['Afeganistão', 'Itália', 'Brasil', 'Itália', 'França'])\n",
    "print('------------------------------')\n",
    "print('Lista INICIAL de países...')\n",
    "for paises_ori1 in paises_3RDD.collect():\n",
    "    print(paises_ori1)\n",
    "\n",
    "print('\\n------------------------------')\n",
    "print('Lista de países de forma DISTINTA (sem valores duplicado)...', '\\n')\n",
    "for paises_dist1 in paises_3RDD.distinct().collect():\n",
    "    print(paises_dist1)"
   ]
  },
  {
   "cell_type": "markdown",
   "metadata": {},
   "source": [
    "### criando funções e chamado nas transformações..."
   ]
  },
  {
   "cell_type": "code",
   "execution_count": 180,
   "metadata": {
    "collapsed": false
   },
   "outputs": [
    {
     "name": "stdout",
     "output_type": "stream",
     "text": [
      "------------------------------\n",
      "Lista INICIAL de países... \n",
      "\n",
      "['It&aacutelia', 'Afeganist&atildeo', 'Guin&eacute Francesa', 'Fran&ccedila']\n"
     ]
    }
   ],
   "source": [
    "import re\n",
    "\n",
    "# http://www.lsi.usp.br/~help/html/iso.html\n",
    "'''\n",
    "Quando coletamos dados de um scraping de páginas HTML, alguns caracteres como por exemplo ascentuações, são\n",
    "inseridas conforme a proposta da tabela de acentos e caracteres especiais em HTML. O exemplo à seguir visa higienizar\n",
    "dados nessas condições:\n",
    "\n",
    "ã ............... &atilde;\n",
    "á ............... &aacute;\n",
    "ç ............... &ccedil;\n",
    "é ............... &eacute;\n",
    "'''\n",
    "\n",
    "paises_4RDD = sc.parallelize(['It&aacutelia', 'Afeganist&atildeo', 'Guin&eacute Francesa', 'Fran&ccedila'])\n",
    "print('------------------------------')\n",
    "print('Lista INICIAL de países...', '\\n')\n",
    "print(paises_4RDD.collect())\n",
    "\n",
    "def higieniza(autoStr):\n",
    "    if isinstance(autoStr, int):\n",
    "        return autoStr\n",
    "    \n",
    "    #re.sub(pattern, clean, autoStr))\n",
    "    if re.search('&aacute', autoStr):\n",
    "        return(re.sub('&aacute', 'á', autoStr))\n",
    "    \n",
    "    if re.search('&atilde', autoStr):\n",
    "        return(re.sub('&atilde', 'ã', autoStr))\n",
    "    \n",
    "    if re.search('&ccedil', autoStr):\n",
    "        return(re.sub('&ccedil', 'ç', autoStr))\n",
    "    \n",
    "    if re.search('&eacute', autoStr):\n",
    "        return(re.sub('&eacute', 'é', autoStr))\n",
    "\n",
    "#print(higieniza('Afeganist&atildeo'))"
   ]
  },
  {
   "cell_type": "code",
   "execution_count": 181,
   "metadata": {
    "collapsed": false
   },
   "outputs": [
    {
     "data": {
      "text/plain": [
       "['Itália', 'Afeganistão', 'Guiné Francesa', 'França']"
      ]
     },
     "execution_count": 181,
     "metadata": {},
     "output_type": "execute_result"
    }
   ],
   "source": [
    "# mapeando cada um dos valores do RDD e repassando-os para a função criada anteriormente\n",
    "paises_higienizados_RDD = paises_4RDD.map(higieniza)\n",
    "paises_higienizados_RDD.collect()"
   ]
  },
  {
   "cell_type": "code",
   "execution_count": 87,
   "metadata": {
    "collapsed": false
   },
   "outputs": [
    {
     "name": "stdout",
     "output_type": "stream",
     "text": [
      "Afeganistão\n"
     ]
    }
   ],
   "source": [
    "\n",
    "\n"
   ]
  }
 ],
 "metadata": {
  "kernelspec": {
   "display_name": "Python 3",
   "language": "python",
   "name": "python3"
  },
  "language_info": {
   "codemirror_mode": {
    "name": "ipython",
    "version": 3
   },
   "file_extension": ".py",
   "mimetype": "text/x-python",
   "name": "python",
   "nbconvert_exporter": "python",
   "pygments_lexer": "ipython3",
   "version": "3.6.0"
  }
 },
 "nbformat": 4,
 "nbformat_minor": 2
}
