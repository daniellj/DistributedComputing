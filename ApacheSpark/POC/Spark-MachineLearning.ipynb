{
 "cells": [
  {
   "cell_type": "markdown",
   "metadata": {},
   "source": [
    "## Spark Machine Learning"
   ]
  },
  {
   "cell_type": "markdown",
   "metadata": {},
   "source": [
    "### 0. Carregamento das bibliotecas que serão utilizadas\n",
    "### + Criação da SESSÃO entre a linguagem Python e o Spark\n",
    "### + Criação do CONTEXTO entre a linguagem SQL-ANSI e o Spark"
   ]
  },
  {
   "cell_type": "code",
   "execution_count": 2,
   "metadata": {
    "collapsed": false
   },
   "outputs": [
    {
     "name": "stdout",
     "output_type": "stream",
     "text": [
      "Verificando o contexto em que se encontra a conexão: \n",
      "\n",
      "<SparkContext master=local[*] appName=PySparkShell>\n",
      "\n",
      " Versão do SPARK em execução: 2.2.0\n"
     ]
    }
   ],
   "source": [
    "#Biblioteca para criar a SESSÃO entre Apache Spark e a linguagem de programação Python\n",
    "from pyspark.sql import SparkSession\n",
    "\n",
    "#Biblioteca para criar o CONTEXTO entre o Apache Spark e a linguagem de manipulação de dados SQL-ANSI\n",
    "from pyspark.sql import SQLContext\n",
    "\n",
    "#Biblioteca para manipulação de linhas sobre o RDD, onde transforma cada linha em um objeto INDEPENDENTE.\n",
    "from pyspark.sql import Row\n",
    "\n",
    "#Biblioteca \n",
    "from pyspark.ml.linalg import Vectors\n",
    "\n",
    "#Biblioteca que contêm funções matemáticas\n",
    "import math\n",
    "\n",
    "print('Verificando o contexto em que se encontra a conexão:', '\\n')\n",
    "print(sc) #sc = spark context\n",
    "print('\\n', 'Versão do SPARK em execução:', sc.version)"
   ]
  },
  {
   "cell_type": "markdown",
   "metadata": {},
   "source": [
    "#### 0.1. SparkSession ->>> trabalhar com DataFrames no SparkSQL, necessário CONSTRUIR uma SESSÃO (explicitamente)..."
   ]
  },
  {
   "cell_type": "code",
   "execution_count": 3,
   "metadata": {
    "collapsed": true
   },
   "outputs": [],
   "source": [
    "spSession = SparkSession.builder.master(\"local\").appName(\"ML-Spark\")\\\n",
    "          .config(\"spark.some.config.option\", \"some-value\").getOrCreate()"
   ]
  },
  {
   "cell_type": "markdown",
   "metadata": {},
   "source": [
    "#### 0.2. SQLContext ->>> trabalhar com LINGUAGEM SQL no SparkSQL, necessário CONSTRUIR o CONTEXTO (explicitamente)..."
   ]
  },
  {
   "cell_type": "code",
   "execution_count": 4,
   "metadata": {
    "collapsed": true
   },
   "outputs": [],
   "source": [
    "sqlSession = SQLContext(sc)"
   ]
  },
  {
   "cell_type": "markdown",
   "metadata": {},
   "source": [
    "### Problema de Negócio\n",
    "O dataset trabalhado informa as características e o valor de cada carro. O problema de negócio à ser solucionado, é em criar agrupamentos de carros observados onde as características dos mesmos sejam similires."
   ]
  },
  {
   "cell_type": "markdown",
   "metadata": {},
   "source": [
    "### 1. Carregando o arquivo CSV e mantendo o objeto em cache\n",
    "\n",
    "Será usado a estrutura de RDD para manipulação dos dados."
   ]
  },
  {
   "cell_type": "code",
   "execution_count": 5,
   "metadata": {
    "collapsed": false
   },
   "outputs": [
    {
     "name": "stdout",
     "output_type": "stream",
     "text": [
      "Tipo do objeto criado <rowRDD1>: <class 'pyspark.rdd.RDD'> \n",
      "\n"
     ]
    }
   ],
   "source": [
    "#file =\"/home/daniellj/Projetos/Github/DistributedComputing/ApacheSpark/datasets/cars.csv\"\n",
    "file = \"C:\\\\Users\\\\whitecube.daniel\\\\Projetos_Daniel\\\\DistributedComputing\\\\Datasets\\\\cars.csv\"\n",
    "\n",
    "rowRDD1 = sc.textFile(file)\n",
    "rowRDD1.cache() # colocando os dados em cache para maior performance na recuperação dos dados.\n",
    "\n",
    "print('Tipo do objeto criado <rowRDD1>:', type(rowRDD1), '\\n')"
   ]
  },
  {
   "cell_type": "markdown",
   "metadata": {},
   "source": [
    "### 2. Conhecimento dos dados"
   ]
  },
  {
   "cell_type": "code",
   "execution_count": 26,
   "metadata": {
    "collapsed": false
   },
   "outputs": [
    {
     "name": "stdout",
     "output_type": "stream",
     "text": [
      "Imprimindo as 10 primeiras linhas da RDD criado... \n",
      "\n"
     ]
    },
    {
     "data": {
      "text/plain": [
       "['MAKE,FUELTYPE,ASPIRE,DOORS,BODY,DRIVE,CYLINDERS,HP,RPM,MPG-CITY,MPG-HWY,PRICE',\n",
       " 'subaru,gas,std,two,hatchback,fwd,four,69,4900,31,36,5118',\n",
       " 'chevrolet,gas,std,two,hatchback,fwd,three,48,5100,47,53,5151',\n",
       " 'mazda,gas,std,two,hatchback,fwd,four,68,5000,30,31,5195',\n",
       " 'toyota,gas,std,two,hatchback,fwd,four,62,4800,35,39,5348',\n",
       " 'mitsubishi,gas,std,two,hatchback,fwd,four,68,5500,37,41,5389',\n",
       " 'honda,gas,std,two,hatchback,fwd,four,60,5500,38,42,5399',\n",
       " 'nissan,gas,std,two,sedan,fwd,four,69,5200,31,37,5499',\n",
       " 'dodge,gas,std,two,hatchback,fwd,four,68,5500,37,41,5572',\n",
       " 'plymouth,gas,std,two,hatchback,fwd,four,68,5500,37,41,5572']"
      ]
     },
     "execution_count": 26,
     "metadata": {},
     "output_type": "execute_result"
    }
   ],
   "source": [
    "print('Imprimindo as 10 primeiras linhas da RDD criado...', '\\n')\n",
    "rowRDD1.take(10)"
   ]
  },
  {
   "cell_type": "markdown",
   "metadata": {
    "collapsed": true
   },
   "source": [
    "### 3. Preparação dos Dados"
   ]
  },
  {
   "cell_type": "markdown",
   "metadata": {},
   "source": [
    "#### 3.1. Removendo o HEADER da RDD..."
   ]
  },
  {
   "cell_type": "code",
   "execution_count": 6,
   "metadata": {
    "collapsed": false
   },
   "outputs": [
    {
     "name": "stdout",
     "output_type": "stream",
     "text": [
      "Quantidade de registros ANTES de remover o HEADER: 198 \n",
      "\n",
      "Quantidade de registros DEPOIS de remover o HEADER: 197 \n",
      "\n",
      "Exibindo as 5 primeiras linhas da RDD DEPOIS da remeção do HEADER: \n",
      "\n"
     ]
    },
    {
     "data": {
      "text/plain": [
       "['subaru,gas,std,two,hatchback,fwd,four,69,4900,31,36,5118',\n",
       " 'chevrolet,gas,std,two,hatchback,fwd,three,48,5100,47,53,5151',\n",
       " 'mazda,gas,std,two,hatchback,fwd,four,68,5000,30,31,5195',\n",
       " 'toyota,gas,std,two,hatchback,fwd,four,62,4800,35,39,5348',\n",
       " 'mitsubishi,gas,std,two,hatchback,fwd,four,68,5500,37,41,5389']"
      ]
     },
     "execution_count": 6,
     "metadata": {},
     "output_type": "execute_result"
    }
   ],
   "source": [
    "header = rowRDD1.first()\n",
    "rowRDD2 = rowRDD1.filter(lambda x : x != header)\n",
    "\n",
    "print('Quantidade de registros ANTES de remover o HEADER:', rowRDD1.count(),'\\n')\n",
    "print('Quantidade de registros DEPOIS de remover o HEADER:', rowRDD2.count(),'\\n')\n",
    "print('Exibindo as 5 primeiras linhas da RDD DEPOIS da remeção do HEADER:', '\\n')\n",
    "rowRDD2.take(5)"
   ]
  },
  {
   "cell_type": "markdown",
   "metadata": {},
   "source": [
    "#### 3.2. Quebrando os campos após o caractere \",\"\n",
    "#### + convertendo dados nominais em numéricos\n",
    "#### + selecionando as colunas (numéricas) que serão usadas no decorrer do processo...\n",
    "\n",
    "Lembrando que os algoritmos de machine learning foram desenvolvidos para trabalhar com números..."
   ]
  },
  {
   "cell_type": "code",
   "execution_count": 7,
   "metadata": {
    "collapsed": true
   },
   "outputs": [],
   "source": [
    "def nominalToNumeric(val):\n",
    "    AdjustData = val.split(\",\")\n",
    "    \n",
    "    # na posição 3 da RDD contêm o valor da quant. de portas do carro. Se quant. for expressa pela string \"two\",\n",
    "    # então valor numérico = 1 senão 2\n",
    "    doors = 1.0 if AdjustData[3] == \"two\" else 2.0\n",
    "    \n",
    "    # na posição 4 da RDD contêm o tipo de carroceria do carro. Se Sedan, então valor numérico = 1 senão 2\n",
    "    body = 1.0 if AdjustData[4] == \"sedan\" else 2.0\n",
    "\n",
    "    # Convertendo a RDD para um vetor de linhas + selecionando as colunas que serão usadas no decorrer do processo\n",
    "    values = Row(DOORS = float(doors), BODY = float(body), HP = float(AdjustData[7]), RPM = float(AdjustData[8]), MPG = float(AdjustData[9]))\n",
    "    return values"
   ]
  },
  {
   "cell_type": "code",
   "execution_count": 46,
   "metadata": {
    "collapsed": true
   },
   "outputs": [],
   "source": [
    "# o método persist() vai depender de como está configurado o Starage Level. Possibilidades:\n",
    "    # MEMORY_ONLY\n",
    "    # MEMORY_AND_DISK\n",
    "    # MEMORY_ONLY_SER\n",
    "    # MEMORY_AND_DISK_SER\n",
    "    # DISK_ONLY\n",
    "# Para \"despersistir\" um objeto, base usar o método unpersist().\n",
    "#Fonte: https://data-flair.training/blogs/apache-spark-rdd-persistence-caching/"
   ]
  },
  {
   "cell_type": "code",
   "execution_count": 8,
   "metadata": {
    "collapsed": false
   },
   "outputs": [
    {
     "data": {
      "text/plain": [
       "[Row(BODY=2.0, DOORS=1.0, HP=69.0, MPG=31.0, RPM=4900.0),\n",
       " Row(BODY=2.0, DOORS=1.0, HP=48.0, MPG=47.0, RPM=5100.0),\n",
       " Row(BODY=2.0, DOORS=1.0, HP=68.0, MPG=30.0, RPM=5000.0),\n",
       " Row(BODY=2.0, DOORS=1.0, HP=62.0, MPG=35.0, RPM=4800.0),\n",
       " Row(BODY=2.0, DOORS=1.0, HP=68.0, MPG=37.0, RPM=5500.0),\n",
       " Row(BODY=2.0, DOORS=1.0, HP=60.0, MPG=38.0, RPM=5500.0),\n",
       " Row(BODY=1.0, DOORS=1.0, HP=69.0, MPG=31.0, RPM=5200.0),\n",
       " Row(BODY=2.0, DOORS=1.0, HP=68.0, MPG=37.0, RPM=5500.0),\n",
       " Row(BODY=2.0, DOORS=1.0, HP=68.0, MPG=37.0, RPM=5500.0),\n",
       " Row(BODY=2.0, DOORS=1.0, HP=68.0, MPG=31.0, RPM=5000.0)]"
      ]
     },
     "execution_count": 8,
     "metadata": {},
     "output_type": "execute_result"
    }
   ],
   "source": [
    "rowRDD3 = rowRDD2.map(nominalToNumeric)\n",
    "rowRDD3.persist()\n",
    "rowRDD3.take(10)"
   ]
  },
  {
   "cell_type": "markdown",
   "metadata": {
    "collapsed": true
   },
   "source": [
    "#### 3.3. Criando DataFrame a partir da RDD \"ajustada\" anteriormente..."
   ]
  },
  {
   "cell_type": "code",
   "execution_count": 9,
   "metadata": {
    "collapsed": false
   },
   "outputs": [
    {
     "name": "stdout",
     "output_type": "stream",
     "text": [
      "Exibindo primeiros registros do DataFrame criado...\n",
      "+----+-----+----+----+------+\n",
      "|BODY|DOORS|  HP| MPG|   RPM|\n",
      "+----+-----+----+----+------+\n",
      "| 2.0|  1.0|69.0|31.0|4900.0|\n",
      "| 2.0|  1.0|48.0|47.0|5100.0|\n",
      "| 2.0|  1.0|68.0|30.0|5000.0|\n",
      "| 2.0|  1.0|62.0|35.0|4800.0|\n",
      "| 2.0|  1.0|68.0|37.0|5500.0|\n",
      "| 2.0|  1.0|60.0|38.0|5500.0|\n",
      "| 1.0|  1.0|69.0|31.0|5200.0|\n",
      "| 2.0|  1.0|68.0|37.0|5500.0|\n",
      "| 2.0|  1.0|68.0|37.0|5500.0|\n",
      "| 2.0|  1.0|68.0|31.0|5000.0|\n",
      "+----+-----+----+----+------+\n",
      "only showing top 10 rows\n",
      "\n"
     ]
    }
   ],
   "source": [
    "rowDF1 = spSession.createDataFrame(rowRDD3)\n",
    "print('Exibindo primeiros registros do DataFrame criado...')\n",
    "rowDF1.show(10)"
   ]
  },
  {
   "cell_type": "markdown",
   "metadata": {},
   "source": [
    "#### 3.4. Pré-Processamento: aplicando NORMALIZAÇÃO e AJUSTE DE ESCALA nos dados...\n",
    "Para aplicar essa técnica, que visa \"harmronizar\" a grandeza das escalas das variáveis, devemos fazer a seguinte operação matemática para cada um dos registros dos ARRAYS à serem normalizados:\n",
    "\n",
    "#### ( (ValorRegistro - MédiaArray) / DesvioPadrãoArray )\n",
    "\n",
    "Onde:\n",
    "\n",
    "- ValorRegistro = valor do registro à ser normalizado no array. Como iremos normalizar todos, é necessário percorrer uma lista de valores\n",
    "- MédiaArray = valor do desvio padrão do array\n",
    "- DesvioPadrãoArray = valor do desvio padrão do array"
   ]
  },
  {
   "cell_type": "markdown",
   "metadata": {
    "collapsed": true
   },
   "source": [
    "##### Convertendo a SUMARIZAÇÃO dos dados em DATAFRAME SPARK -> DATAFRAME PANDAS..."
   ]
  },
  {
   "cell_type": "code",
   "execution_count": 13,
   "metadata": {
    "collapsed": false
   },
   "outputs": [
    {
     "data": {
      "text/html": [
       "<div>\n",
       "<table border=\"1\" class=\"dataframe\">\n",
       "  <thead>\n",
       "    <tr style=\"text-align: right;\">\n",
       "      <th></th>\n",
       "      <th>summary</th>\n",
       "      <th>BODY</th>\n",
       "      <th>DOORS</th>\n",
       "      <th>HP</th>\n",
       "      <th>MPG</th>\n",
       "      <th>RPM</th>\n",
       "    </tr>\n",
       "  </thead>\n",
       "  <tbody>\n",
       "    <tr>\n",
       "      <th>0</th>\n",
       "      <td>count</td>\n",
       "      <td>197</td>\n",
       "      <td>197</td>\n",
       "      <td>197</td>\n",
       "      <td>197</td>\n",
       "      <td>197</td>\n",
       "    </tr>\n",
       "    <tr>\n",
       "      <th>1</th>\n",
       "      <td>mean</td>\n",
       "      <td>1.532994923857868</td>\n",
       "      <td>1.5685279187817258</td>\n",
       "      <td>103.60406091370558</td>\n",
       "      <td>25.15228426395939</td>\n",
       "      <td>5118.0203045685275</td>\n",
       "    </tr>\n",
       "    <tr>\n",
       "      <th>2</th>\n",
       "      <td>stddev</td>\n",
       "      <td>0.5001812579359883</td>\n",
       "      <td>0.49654352778167493</td>\n",
       "      <td>37.639205349518356</td>\n",
       "      <td>6.437862917085915</td>\n",
       "      <td>481.03591405011446</td>\n",
       "    </tr>\n",
       "    <tr>\n",
       "      <th>3</th>\n",
       "      <td>min</td>\n",
       "      <td>1.0</td>\n",
       "      <td>1.0</td>\n",
       "      <td>48.0</td>\n",
       "      <td>13.0</td>\n",
       "      <td>4150.0</td>\n",
       "    </tr>\n",
       "    <tr>\n",
       "      <th>4</th>\n",
       "      <td>max</td>\n",
       "      <td>2.0</td>\n",
       "      <td>2.0</td>\n",
       "      <td>262.0</td>\n",
       "      <td>49.0</td>\n",
       "      <td>6600.0</td>\n",
       "    </tr>\n",
       "  </tbody>\n",
       "</table>\n",
       "</div>"
      ],
      "text/plain": [
       "  summary                BODY                DOORS                  HP  \\\n",
       "0   count                 197                  197                 197   \n",
       "1    mean   1.532994923857868   1.5685279187817258  103.60406091370558   \n",
       "2  stddev  0.5001812579359883  0.49654352778167493  37.639205349518356   \n",
       "3     min                 1.0                  1.0                48.0   \n",
       "4     max                 2.0                  2.0               262.0   \n",
       "\n",
       "                 MPG                 RPM  \n",
       "0                197                 197  \n",
       "1  25.15228426395939  5118.0203045685275  \n",
       "2  6.437862917085915  481.03591405011446  \n",
       "3               13.0              4150.0  \n",
       "4               49.0              6600.0  "
      ]
     },
     "execution_count": 13,
     "metadata": {},
     "output_type": "execute_result"
    }
   ],
   "source": [
    "pandasDF1 = rowDF1.describe().toPandas()\n",
    "pandasDF1"
   ]
  },
  {
   "cell_type": "markdown",
   "metadata": {},
   "source": [
    "##### Criando um array para guardar as médias e desvios padrões do DataFrame Pandas gerado..."
   ]
  },
  {
   "cell_type": "code",
   "execution_count": 16,
   "metadata": {
    "collapsed": false
   },
   "outputs": [
    {
     "name": "stdout",
     "output_type": "stream",
     "text": [
      "MÉDIAS do dataframe <pandasDF1>: \n",
      " ['1.532994923857868', '1.5685279187817258', '103.60406091370558', '25.15228426395939', '5118.0203045685275'] \n",
      "\n",
      "DESVIOS PADRÕES do dataframe <pandasDF1>: \n",
      " ['0.5001812579359883', '0.49654352778167493', '37.639205349518356', '6.437862917085915', '481.03591405011446'] \n",
      "\n"
     ]
    }
   ],
   "source": [
    "means1 = pandasDF1.iloc[1,1:6].values.tolist()\n",
    "print('MÉDIAS do dataframe <pandasDF1>:', '\\n', means1, '\\n')\n",
    "\n",
    "stds1 = pandasDF1.iloc[2, 1:6].values.tolist()\n",
    "print('DESVIOS PADRÕES do dataframe <pandasDF1>:', '\\n', stds1, '\\n')"
   ]
  },
  {
   "cell_type": "markdown",
   "metadata": {},
   "source": [
    "##### Guardando os valores da média e o desvio padrão em uma variável do tipo BROADCAST\n",
    "##### sc.broadcast() = SparkContext Broadcast\n",
    "\n",
    "Broadcast variables allow the programmer to keep a read-only variable cached on each machine rather than shipping a copy of it with tasks. The concept of Broadcast variables is simular to Hadoop’s distributed cache.\n",
    "\n",
    "Link: http://spark.apache.org/docs/latest/api/python/pyspark.html#pyspark.SparkContext"
   ]
  },
  {
   "cell_type": "code",
   "execution_count": 29,
   "metadata": {
    "collapsed": false
   },
   "outputs": [
    {
     "name": "stdout",
     "output_type": "stream",
     "text": [
      "Médias em BROADAST ( type: <class 'pyspark.broadcast.Broadcast'> ): \n",
      " ['1.532994923857868', '1.5685279187817258', '103.60406091370558', '25.15228426395939', '5118.0203045685275'] \n",
      "\n",
      "Desvios Padrões em BROADAST ( type: <class 'pyspark.broadcast.Broadcast'> ): \n",
      " ['0.5001812579359883', '0.49654352778167493', '37.639205349518356', '6.437862917085915', '481.03591405011446'] \n",
      "\n"
     ]
    }
   ],
   "source": [
    "BroacastMeans = sc.broadcast(means1)\n",
    "BroacastStds = sc.broadcast(stds1)\n",
    "\n",
    "print('Médias em BROADAST (', 'type:', type(BroacastMeans), '):', '\\n', BroacastMeans.value, '\\n')\n",
    "print('Desvios Padrões em BROADAST (', 'type:', type(BroacastStds), '):', '\\n', BroacastStds.value, '\\n')"
   ]
  },
  {
   "cell_type": "code",
   "execution_count": 43,
   "metadata": {
    "collapsed": false
   },
   "outputs": [],
   "source": [
    "def Normalization(value):\n",
    "    '''\n",
    "    Função que transforma os dados de entrada, aplicando técnica de NORMALIZAÇÃO dos dados.\n",
    "    '''\n",
    "    # instanciando as variáveis globais do broadcast\n",
    "    global BroacastMeans\n",
    "    global BroacastStds\n",
    "\n",
    "    #colocando os valores dos objetos pyspark.broadcast.Broadcast para uma lista em Python\n",
    "    MeansArray = BroacastMeans.value\n",
    "    StdsArray = BroacastStds.value\n",
    "    \n",
    "    Columns = range(len(StdsArray))\n",
    "    result = []\n",
    "    \n",
    "    for position in Columns:\n",
    "        result.append( ( float(value[position]) - float(MeansArray[position]) ) / float(StdsArray[position]) )\n",
    "    return Vectors.dense(result)\n",
    "    #Dense vectors are simply represented as NumPy array objects.\n",
    "    #Link: http://spark.apache.org/docs/2.2.0/api/python/pyspark.ml.html#pyspark.ml.linalg.Vectors"
   ]
  },
  {
   "cell_type": "markdown",
   "metadata": {},
   "source": [
    "##### Aplicando a função de NORMALIZAÇÃO..."
   ]
  },
  {
   "cell_type": "code",
   "execution_count": 74,
   "metadata": {
    "collapsed": false
   },
   "outputs": [
    {
     "name": "stdout",
     "output_type": "stream",
     "text": [
      "Exibindo primeiros 10 registros do DataFrame ORIGINAL... \n",
      "\n",
      "+----+-----+----+----+------+\n",
      "|BODY|DOORS|  HP| MPG|   RPM|\n",
      "+----+-----+----+----+------+\n",
      "| 2.0|  1.0|69.0|31.0|4900.0|\n",
      "| 2.0|  1.0|48.0|47.0|5100.0|\n",
      "| 2.0|  1.0|68.0|30.0|5000.0|\n",
      "| 2.0|  1.0|62.0|35.0|4800.0|\n",
      "| 2.0|  1.0|68.0|37.0|5500.0|\n",
      "| 2.0|  1.0|60.0|38.0|5500.0|\n",
      "| 1.0|  1.0|69.0|31.0|5200.0|\n",
      "| 2.0|  1.0|68.0|37.0|5500.0|\n",
      "| 2.0|  1.0|68.0|37.0|5500.0|\n",
      "| 2.0|  1.0|68.0|31.0|5000.0|\n",
      "+----+-----+----+----+------+\n",
      "only showing top 10 rows\n",
      "\n",
      "None\n",
      "Exibindo primeiros 10 registros do RDD após a operação de NORMALIZAÇÃO... \n",
      "\n"
     ]
    },
    {
     "data": {
      "text/plain": [
       "[DenseVector([0.9337, -1.145, -0.9194, 0.9083, -0.4532]),\n",
       " DenseVector([0.9337, -1.145, -1.4773, 3.3936, -0.0375]),\n",
       " DenseVector([0.9337, -1.145, -0.9459, 0.753, -0.2453]),\n",
       " DenseVector([0.9337, -1.145, -1.1053, 1.5297, -0.6611]),\n",
       " DenseVector([0.9337, -1.145, -0.9459, 1.8403, 0.7941]),\n",
       " DenseVector([0.9337, -1.145, -1.1585, 1.9956, 0.7941]),\n",
       " DenseVector([-1.0656, -1.145, -0.9194, 0.9083, 0.1704]),\n",
       " DenseVector([0.9337, -1.145, -0.9459, 1.8403, 0.7941]),\n",
       " DenseVector([0.9337, -1.145, -0.9459, 1.8403, 0.7941]),\n",
       " DenseVector([0.9337, -1.145, -0.9459, 0.9083, -0.2453])]"
      ]
     },
     "execution_count": 74,
     "metadata": {},
     "output_type": "execute_result"
    }
   ],
   "source": [
    "rowRDD4 = rowDF1.rdd.map(Normalization)\n",
    "\n",
    "print('Exibindo primeiros 10 registros do DataFrame ORIGINAL...', '\\n')\n",
    "print(rowDF1.show(10))\n",
    "\n",
    "print('Exibindo primeiros 10 registros do RDD após a operação de NORMALIZAÇÃO...', '\\n')\n",
    "rowRDD4.take(10)"
   ]
  },
  {
   "cell_type": "markdown",
   "metadata": {},
   "source": [
    "##### Criando o conceito de FEATURE dos dados usando a função ROW: concatenando em um valor único, os valores dos campos da RDD relacionados aos atributos |BODY|DOORS|HP|MPG|RPM|, criando o atributo \"FEATURE\".\n",
    "\n",
    "A função ROW transforma cada linha em um objeto INDEPENDENTE."
   ]
  },
  {
   "cell_type": "code",
   "execution_count": 97,
   "metadata": {
    "collapsed": false
   },
   "outputs": [
    {
     "name": "stdout",
     "output_type": "stream",
     "text": [
      "+--------------------+\n",
      "|            features|\n",
      "+--------------------+\n",
      "|[0.93367168148051...|\n",
      "|[0.93367168148051...|\n",
      "|[0.93367168148051...|\n",
      "|[0.93367168148051...|\n",
      "|[0.93367168148051...|\n",
      "|[0.93367168148051...|\n",
      "|[-1.0656035495158...|\n",
      "|[0.93367168148051...|\n",
      "|[0.93367168148051...|\n",
      "|[0.93367168148051...|\n",
      "+--------------------+\n",
      "only showing top 10 rows\n",
      "\n"
     ]
    }
   ],
   "source": [
    "FeatureRDD = rowRDD4.map( lambda x : Row(features = x) )\n",
    "\n",
    "#criando a sessão para alocar as \"Row's\" em um DataFrame em Spark...\n",
    "FeatureDF1 = spSession.createDataFrame(FeatureRDD)\n",
    "\n",
    "FeatureDF1.select(\"features\").show(10)"
   ]
  },
  {
   "cell_type": "markdown",
   "metadata": {},
   "source": [
    "### 4. Construção do Modelo"
   ]
  },
  {
   "cell_type": "markdown",
   "metadata": {},
   "source": [
    "#### 4.1. Importando o algoritmo K-Means no Spark, TREINANDO e EXIBINDO as predições em relação aos agrupamentos...\n",
    "\n",
    "Link K-Means (Spark): https://spark.apache.org/docs/2.1.0/ml-clustering.html"
   ]
  },
  {
   "cell_type": "code",
   "execution_count": 127,
   "metadata": {
    "collapsed": false
   },
   "outputs": [
    {
     "name": "stdout",
     "output_type": "stream",
     "text": [
      "Exibindo o resultado da predição (agrupamento) de algumas FEATURES... \n",
      "\n",
      "+--------------------+----------+\n",
      "|            features|prediction|\n",
      "+--------------------+----------+\n",
      "|[0.93367168148051...|         0|\n",
      "|[0.93367168148051...|         0|\n",
      "|[0.93367168148051...|         0|\n",
      "|[0.93367168148051...|         0|\n",
      "|[0.93367168148051...|         0|\n",
      "|[0.93367168148051...|         0|\n",
      "|[-1.0656035495158...|         0|\n",
      "|[0.93367168148051...|         0|\n",
      "|[0.93367168148051...|         0|\n",
      "|[0.93367168148051...|         0|\n",
      "|[0.93367168148051...|         0|\n",
      "|[0.93367168148051...|         0|\n",
      "|[0.93367168148051...|         0|\n",
      "|[0.93367168148051...|         0|\n",
      "|[0.93367168148051...|         0|\n",
      "|[0.93367168148051...|         0|\n",
      "|[0.93367168148051...|         0|\n",
      "|[0.93367168148051...|         1|\n",
      "|[0.93367168148051...|         0|\n",
      "|[-1.0656035495158...|         1|\n",
      "+--------------------+----------+\n",
      "only showing top 20 rows\n",
      "\n",
      "Tipo do objeto \"predict\": <class 'pyspark.sql.dataframe.DataFrame'> \n",
      "\n",
      "Avaliando o modelo criado através da SOMA DOS ERROS QUADRADOS: 569.9138451926408\n"
     ]
    }
   ],
   "source": [
    "from pyspark.ml.clustering import KMeans\n",
    "\n",
    "kmeans = KMeans(k = 3, seed = 1) #onde k é a quantidade de grupos que se quer criar...\n",
    "model = kmeans.fit(FeatureDF1)\n",
    "predict = model.transform(FeatureDF1)\n",
    "print('Exibindo o resultado da predição (agrupamento) de algumas FEATURES...', '\\n')\n",
    "predict.show()\n",
    "\n",
    "print('Tipo do objeto \"predict\":', type(predict), '\\n')\n",
    "\n",
    "wssse = model.computeCost(FeatureDF1)\n",
    "print('Avaliando o modelo criado através da SOMA DOS ERROS QUADRADOS:', str(wssse) )"
   ]
  },
  {
   "cell_type": "markdown",
   "metadata": {},
   "source": [
    "#### 5. Plotando os resultados do K-MEANS com ScatterPlot...\n",
    "Averiguando os grupos formados."
   ]
  },
  {
   "cell_type": "code",
   "execution_count": 129,
   "metadata": {
    "collapsed": false
   },
   "outputs": [
    {
     "data": {
      "text/plain": [
       "<matplotlib.collections.PathCollection at 0xa1d8e80>"
      ]
     },
     "execution_count": 129,
     "metadata": {},
     "output_type": "execute_result"
    },
    {
     "data": {
      "image/png": "[encoded data removed]",
      "text/plain": [
       "<matplotlib.figure.Figure at 0xa109d68>"
      ]
     },
     "metadata": {},
     "output_type": "display_data"
    }
   ],
   "source": [
    "import pandas as pd\n",
    "import matplotlib.pylab as plt\n",
    "%matplotlib inline\n",
    "\n",
    "def createGroup(value):\n",
    "    return ( value[\"prediction\"], value[\"features\"][0], value[\"features\"][1], value[\"features\"][2], value[\"features\"][3] )\n",
    "\n",
    "# Organizando os dados para o Plot\n",
    "groupRDD = predict.rdd.map(lambda x : createGroup(x))\n",
    "predictionList = groupRDD.collect()\n",
    "predictionDF = pd.DataFrame(predictionList) # transformando a RDD em um Pandas DataFrame para plotagem dos resultados\n",
    "\n",
    "plt.cla()\n",
    "plt.scatter(predictionDF[3], predictionDF[4], c = predictionDF[0])"
   ]
  }
 ],
 "metadata": {
  "kernelspec": {
   "display_name": "Python 3",
   "language": "python",
   "name": "python3"
  },
  "language_info": {
   "codemirror_mode": {
    "name": "ipython",
    "version": 3
   },
   "file_extension": ".py",
   "mimetype": "text/x-python",
   "name": "python",
   "nbconvert_exporter": "python",
   "pygments_lexer": "ipython3",
   "version": "3.6.0"
  }
 },
 "nbformat": 4,
 "nbformat_minor": 2
}
