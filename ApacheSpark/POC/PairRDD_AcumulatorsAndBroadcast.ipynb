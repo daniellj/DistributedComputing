{
 "cells": [
  {
   "cell_type": "markdown",
   "metadata": {},
   "source": [
    "## Pares RDD (Pair RDD)\n",
    "Tipo de estrutura de dados em Spark que armazena chave e valor(es).\n",
    "Exemplo:\n",
    "\n",
    "- chave: pessoa\n",
    "- valor: aportes de investimentos dessa pessoa, contas pagar por essa pessoas, etc."
   ]
  },
  {
   "cell_type": "code",
   "execution_count": 12,
   "metadata": {
    "collapsed": false
   },
   "outputs": [
    {
     "name": "stdout",
     "output_type": "stream",
     "text": [
      "Imprimindo as 5 primeiras linhas da coleção RDD importada...\n"
     ]
    },
    {
     "data": {
      "text/plain": [
       "['MAKE,FUELTYPE,ASPIRE,DOORS,BODY,DRIVE,CYLINDERS,HP,RPM,MPG-CITY,MPG-HWY,PRICE',\n",
       " 'subaru,gas,std,two,hatchback,fwd,four,69,4900,31,36,5118',\n",
       " 'chevrolet,gas,std,two,hatchback,fwd,three,48,5100,47,53,5151',\n",
       " 'mazda,gas,std,two,hatchback,fwd,four,68,5000,30,31,5195',\n",
       " 'toyota,gas,std,two,hatchback,fwd,four,62,4800,35,39,5348']"
      ]
     },
     "execution_count": 12,
     "metadata": {},
     "output_type": "execute_result"
    }
   ],
   "source": [
    "file = ('C:\\\\Users\\\\whitecube.daniel\\\\Projetos_Daniel\\\\DistributedComputing\\\\Datasets\\\\cars.csv')\n",
    "carRDD = sc.textFile(file)\n",
    "print('Imprimindo as 5 primeiras linhas da coleção RDD importada...')\n",
    "carRDD.take(5)"
   ]
  },
  {
   "cell_type": "markdown",
   "metadata": {},
   "source": [
    "#### Exemplo de PAIR (key, value)"
   ]
  },
  {
   "cell_type": "code",
   "execution_count": 43,
   "metadata": {
    "collapsed": false
   },
   "outputs": [
    {
     "name": "stdout",
     "output_type": "stream",
     "text": [
      "Quebrando por \",\" as coluna do RDD, assim como efetuando o mapeamento de determinados campos...\n",
      "\n",
      "Imprimindo as 5 primeiras linhas da coleção RDD transformada...\n"
     ]
    },
    {
     "data": {
      "text/plain": [
       "[('MAKE', 'HP'),\n",
       " ('subaru', '69'),\n",
       " ('chevrolet', '48'),\n",
       " ('mazda', '68'),\n",
       " ('toyota', '62')]"
      ]
     },
     "execution_count": 43,
     "metadata": {},
     "output_type": "execute_result"
    }
   ],
   "source": [
    "print('Quebrando por \",\" as coluna do RDD, assim como efetuando o mapeamento de determinados campos...\\n')\n",
    "carRDD1 = carRDD.map(lambda x : (x.split(',')[0], x.split(',')[7]))\n",
    "print('Imprimindo as 5 primeiras linhas da coleção RDD transformada...')\n",
    "carRDD1.take(5)"
   ]
  },
  {
   "cell_type": "markdown",
   "metadata": {
    "collapsed": true
   },
   "source": [
    "#### Removendo o cabeçalho (Header)..."
   ]
  },
  {
   "cell_type": "code",
   "execution_count": 44,
   "metadata": {
    "collapsed": false
   },
   "outputs": [
    {
     "name": "stdout",
     "output_type": "stream",
     "text": [
      "Imprimindo as 5 primeiras linhas da coleção RDD transformada...\n"
     ]
    },
    {
     "data": {
      "text/plain": [
       "[('subaru', '69'),\n",
       " ('chevrolet', '48'),\n",
       " ('mazda', '68'),\n",
       " ('toyota', '62'),\n",
       " ('mitsubishi', '68')]"
      ]
     },
     "execution_count": 44,
     "metadata": {},
     "output_type": "execute_result"
    }
   ],
   "source": [
    "header = carRDD1.first()\n",
    "carRDD2 = carRDD1.filter(lambda x : x != header)\n",
    "print('Imprimindo as 5 primeiras linhas da coleção RDD transformada...')\n",
    "carRDD2.take(5)"
   ]
  },
  {
   "cell_type": "markdown",
   "metadata": {
    "collapsed": true
   },
   "source": [
    "#### Mapeando os valores para cada uma das linhas da RDD..."
   ]
  },
  {
   "cell_type": "code",
   "execution_count": 52,
   "metadata": {
    "collapsed": false
   },
   "outputs": [
    {
     "data": {
      "text/plain": [
       "[('subaru', ('69', 1)),\n",
       " ('chevrolet', ('48', 1)),\n",
       " ('mazda', ('68', 1)),\n",
       " ('toyota', ('62', 1)),\n",
       " ('mitsubishi', ('68', 1))]"
      ]
     },
     "execution_count": 52,
     "metadata": {},
     "output_type": "execute_result"
    }
   ],
   "source": [
    "#carRDD3 = carRDD2.map(lambda x : (x[0], (x[1], 1))) # mapeando os valores de uma forma mais \"elegante\"...\n",
    "carRDD3 = carRDD2.mapValues(lambda x : (x, 1))\n",
    "carRDD3.take(5)"
   ]
  },
  {
   "cell_type": "markdown",
   "metadata": {
    "collapsed": true
   },
   "source": [
    "#### Fazendo uma redução por CHAVE..."
   ]
  },
  {
   "cell_type": "code",
   "execution_count": 56,
   "metadata": {
    "collapsed": false
   },
   "outputs": [
    {
     "data": {
      "text/plain": [
       "[('chevrolet', (188, 3)),\n",
       " ('mazda', (1390, 16)),\n",
       " ('mitsubishi', (1353, 13)),\n",
       " ('nissan', (1846, 18)),\n",
       " ('dodge', (675, 8)),\n",
       " ('plymouth', (607, 7)),\n",
       " ('saab', (760, 6)),\n",
       " ('volvo', (1408, 11)),\n",
       " ('alfa-romero', (376, 3)),\n",
       " ('mercedes-benz', (1170, 8))]"
      ]
     },
     "execution_count": 56,
     "metadata": {},
     "output_type": "execute_result"
    }
   ],
   "source": [
    "carRDD4 = carRDD3.reduceByKey( lambda value_1, value_2 : ( int(value_1[0]) + int(value_2[0]), int(value_1[1]) + int(value_2[1]) ) )\n",
    "carRDD4.take(10)"
   ]
  },
  {
   "cell_type": "markdown",
   "metadata": {
    "collapsed": true
   },
   "source": [
    "#### Finalmente fazendo a média de HP por marca de carro..."
   ]
  },
  {
   "cell_type": "code",
   "execution_count": 71,
   "metadata": {
    "collapsed": false
   },
   "outputs": [
    {
     "data": {
      "text/plain": [
       "[('chevrolet', 62.67),\n",
       " ('mazda', 86.88),\n",
       " ('mitsubishi', 104.08),\n",
       " ('nissan', 102.56),\n",
       " ('dodge', 84.38),\n",
       " ('plymouth', 86.71),\n",
       " ('saab', 126.67),\n",
       " ('volvo', 128.0),\n",
       " ('alfa-romero', 125.33),\n",
       " ('mercedes-benz', 146.25),\n",
       " ('jaguar', 204.67),\n",
       " ('subaru', 86.25),\n",
       " ('toyota', 92.78),\n",
       " ('honda', 80.23),\n",
       " ('isuzu', 84.0),\n",
       " ('volkswagen', 81.08),\n",
       " ('peugot', 99.82),\n",
       " ('audi', 114.5),\n",
       " ('bmw', 138.88),\n",
       " ('mercury', 175.0),\n",
       " ('porsche', 191.0)]"
      ]
     },
     "execution_count": 71,
     "metadata": {},
     "output_type": "execute_result"
    }
   ],
   "source": [
    "carRDD4.mapValues( lambda x : round ( ( float(x[0])/float(x[1]) ), 2 ) ).collect()"
   ]
  },
  {
   "cell_type": "markdown",
   "metadata": {},
   "source": [
    "#### Acumulators Broadcast\n",
    "\n",
    "Seguindo o padrão do Apache, toda e qualquer tarefa é enviada para todos os nodos do cluster. Esses então processam as tarefas considerando as variáveis como locais a cada nodo, ou seja, agem de forma independente.\n",
    "\n",
    "Quando se necessita que uma variável criada seja manipulada de forma ÚNICA em todo o cluster, usa-se:\n",
    "\n",
    "- ACUMULATORS -> todos os nodos do cluster recebem o(s) valor(s) da variável criada, porém pode ser atualizada em cada node do cluster (ReadAndWrite).\n",
    "\n",
    "- BROADCAST -> todos os nodos do cluster recebem o(s) valor(s) da variável criada, que para manter a integridade, é read-only."
   ]
  },
  {
   "cell_type": "markdown",
   "metadata": {},
   "source": [
    "#### Definindo os valores para os Aumuladores"
   ]
  },
  {
   "cell_type": "code",
   "execution_count": 77,
   "metadata": {
    "collapsed": true
   },
   "outputs": [],
   "source": [
    "acc1 = sc.accumulator(0)\n",
    "acc2 = sc.accumulator(0)"
   ]
  },
  {
   "cell_type": "markdown",
   "metadata": {},
   "source": [
    "#### Definindo os valores para os Broadcasts"
   ]
  },
  {
   "cell_type": "code",
   "execution_count": 78,
   "metadata": {
    "collapsed": false
   },
   "outputs": [],
   "source": [
    "broad1 = sc.broadcast(\"sedan\")\n",
    "broad2 = sc.broadcast(\"hatchback\")"
   ]
  },
  {
   "cell_type": "markdown",
   "metadata": {},
   "source": [
    "#### Função que conta para cada incidência das palavras declaradas no BROACAST - \"sedan\" e \"hatchback\", adiciona o valor 1 nas respectivas variáveis de ACUMULADOR"
   ]
  },
  {
   "cell_type": "code",
   "execution_count": 149,
   "metadata": {
    "collapsed": true
   },
   "outputs": [],
   "source": [
    "def split(inputvalue):\n",
    "    # Para usar Acumuladores e Broadcast, é necessário declarar variáveis GLOBAIS, pois todos os nodos terão de \"enchergar\".\n",
    "    global acc1\n",
    "    global acc2\n",
    "    \n",
    "    if broad1.value in inputvalue: # para cada vez que a o valor de broad1.value for encontrado, conta + 1\n",
    "        acc1 +=1\n",
    "    if broad2.value in inputvalue: # para cada vez que a o valor de broad2.value for encontrado, conta + 1\n",
    "        acc2 +=1\n",
    "\n",
    "    return inputvalue.split(',')"
   ]
  },
  {
   "cell_type": "code",
   "execution_count": 150,
   "metadata": {
    "collapsed": false
   },
   "outputs": [],
   "source": [
    "carRDD5 = carRDD.map(split)"
   ]
  },
  {
   "cell_type": "code",
   "execution_count": 152,
   "metadata": {
    "collapsed": false
   },
   "outputs": [
    {
     "name": "stdout",
     "output_type": "stream",
     "text": [
      "Para o carro de marca \" sedan \" houve uma contagem de 92 automóveis.\n",
      "Para o carro de marca \" hatchback \" houve uma contagem de 67 automóveis.\n"
     ]
    }
   ],
   "source": [
    "print('Para o carro de marca \"', broad1.value, '\" houve uma contagem de', acc1,'automóveis.')\n",
    "print('Para o carro de marca \"', broad2.value, '\" houve uma contagem de', acc2,'automóveis.')"
   ]
  },
  {
   "cell_type": "code",
   "execution_count": null,
   "metadata": {
    "collapsed": true
   },
   "outputs": [],
   "source": []
  },
  {
   "cell_type": "code",
   "execution_count": null,
   "metadata": {
    "collapsed": true
   },
   "outputs": [],
   "source": []
  },
  {
   "cell_type": "code",
   "execution_count": null,
   "metadata": {
    "collapsed": true
   },
   "outputs": [],
   "source": []
  }
 ],
 "metadata": {
  "kernelspec": {
   "display_name": "Python 3",
   "language": "python",
   "name": "python3"
  },
  "language_info": {
   "codemirror_mode": {
    "name": "ipython",
    "version": 3
   },
   "file_extension": ".py",
   "mimetype": "text/x-python",
   "name": "python",
   "nbconvert_exporter": "python",
   "pygments_lexer": "ipython3",
   "version": "3.6.0"
  }
 },
 "nbformat": 4,
 "nbformat_minor": 2
}
